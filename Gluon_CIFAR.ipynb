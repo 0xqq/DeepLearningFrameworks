{
 "cells": [
  {
   "cell_type": "markdown",
   "metadata": {},
   "source": [
    "# High-level Gluon Example"
   ]
  },
  {
   "cell_type": "code",
   "execution_count": null,
   "metadata": {
    "collapsed": true
   },
   "outputs": [],
   "source": [
    "import os\n",
    "import sys\n",
    "import numpy as np\n",
    "import math\n",
    "import mxnet as mx\n",
    "from mxnet import nd, autograd\n",
    "from mxnet import gluon\n",
    "from common.params import *\n",
    "from common.utils import *"
   ]
  },
  {
   "cell_type": "code",
   "execution_count": null,
   "metadata": {
    "collapsed": true
   },
   "outputs": [],
   "source": [
    "ctx = mx.gpu()"
   ]
  },
  {
   "cell_type": "code",
   "execution_count": null,
   "metadata": {},
   "outputs": [],
   "source": [
    "print(\"OS: \", sys.platform)\n",
    "print(\"Python: \", sys.version)\n",
    "print(\"MXNet: \", mx.__version__)\n",
    "print(\"Numpy: \", np.__version__)\n",
    "print(\"GPU: \", get_gpu_name())"
   ]
  },
  {
   "cell_type": "code",
   "execution_count": null,
   "metadata": {},
   "outputs": [],
   "source": [
    "def SymbolModule():\n",
    "    sym = gluon.nn.Sequential()\n",
    "    with sym.name_scope():\n",
    "        sym.add(gluon.nn.Conv2D(channels=50, kernel_size=3, padding=1, activation='relu'))\n",
    "        sym.add(gluon.nn.Conv2D(channels=50, kernel_size=3, padding=1))\n",
    "        sym.add(gluon.nn.MaxPool2D(pool_size=2, strides=2))\n",
    "        sym.add(gluon.nn.LeakyReLU(0))\n",
    "        sym.add(gluon.nn.Dropout(0.25))\n",
    "        sym.add(gluon.nn.Conv2D(channels=100, kernel_size=3, padding=1, activation='relu'))\n",
    "        sym.add(gluon.nn.Conv2D(channels=100, kernel_size=3, padding=1))\n",
    "        sym.add(gluon.nn.MaxPool2D(pool_size=2, strides=2))\n",
    "        sym.add(gluon.nn.LeakyReLU(0))\n",
    "        sym.add(gluon.nn.Dropout(0.25))\n",
    "        # feature map size is 8*8 by pooling\n",
    "        sym.add(gluon.nn.Dense(512, activation='relu'))\n",
    "        sym.add(gluon.nn.Dropout(0.25))\n",
    "        sym.add(gluon.nn.Dense(N_CLASSES))\n",
    "    return sym"
   ]
  },
  {
   "cell_type": "code",
   "execution_count": null,
   "metadata": {
    "collapsed": true
   },
   "outputs": [],
   "source": [
    "def init_model(m):\n",
    "    # Implementation of momentum:\n",
    "    # v = \\rho * v + g \\\\\n",
    "    # p = p - lr * v\n",
    "    trainer = gluon.Trainer(m.collect_params(), 'sgd',\n",
    "                    {'learning_rate': LR, 'momentum':MOMENTUM})\n",
    "    criterion = gluon.loss.SoftmaxCrossEntropyLoss()\n",
    "    return trainer, criterion"
   ]
  },
  {
   "cell_type": "code",
   "execution_count": null,
   "metadata": {
    "scrolled": true
   },
   "outputs": [],
   "source": [
    "%%time\n",
    "# Data into format for library\n",
    "x_train, x_test, y_train, y_test = cifar_for_library(channel_first=True)\n",
    "# Torch-specific\n",
    "y_train = y_train.astype(np.int64)\n",
    "y_test = y_test.astype(np.int64)\n",
    "print(x_train.shape, x_test.shape, y_train.shape, y_test.shape)\n",
    "print(x_train.dtype, x_test.dtype, y_train.dtype, y_test.dtype)"
   ]
  },
  {
   "cell_type": "code",
   "execution_count": null,
   "metadata": {},
   "outputs": [],
   "source": [
    "%%time\n",
    "sym = SymbolModule()\n",
    "sym.collect_params().initialize(mx.init.Xavier(magnitude=2.24), ctx=ctx)"
   ]
  },
  {
   "cell_type": "code",
   "execution_count": null,
   "metadata": {},
   "outputs": [],
   "source": [
    "%%time\n",
    "trainer, criterion = init_model(sym)"
   ]
  },
  {
   "cell_type": "code",
   "execution_count": null,
   "metadata": {},
   "outputs": [],
   "source": [
    "%%time\n",
    "# Sets training = True \n",
    "for j in range(EPOCHS):\n",
    "    for data, target in yield_mb(x_train, y_train, BATCHSIZE, shuffle=True):\n",
    "        # Get samples\n",
    "        data = nd.array(data).as_in_context(ctx)\n",
    "        target = nd.array(target).as_in_context(ctx)\n",
    "        with autograd.record():\n",
    "            # Forwards\n",
    "            output = sym(data)\n",
    "            # Loss\n",
    "            loss = criterion(output, target)\n",
    "        # Back-prop\n",
    "        loss.backward()\n",
    "        trainer.step(data.shape[0])\n",
    "    # Log\n",
    "    print(j)"
   ]
  },
  {
   "cell_type": "code",
   "execution_count": null,
   "metadata": {},
   "outputs": [],
   "source": [
    "%%time\n",
    "# Test model\n",
    "n_samples = (y_test.shape[0]//BATCHSIZE)*BATCHSIZE\n",
    "y_guess = np.zeros(n_samples, dtype=np.int)\n",
    "y_truth = y_test[:n_samples]\n",
    "c = 0\n",
    "for data, target in yield_mb(x_test, y_test, BATCHSIZE):\n",
    "    # Get samples\n",
    "    data = nd.array(data).as_in_context(ctx)\n",
    "    # Forwards\n",
    "    output = sym(data)\n",
    "    pred = nd.argmax(output, axis=1)\n",
    "    # Collect results\n",
    "    y_guess[c*BATCHSIZE:(c+1)*BATCHSIZE] = pred.asnumpy()\n",
    "    c += 1"
   ]
  },
  {
   "cell_type": "code",
   "execution_count": null,
   "metadata": {},
   "outputs": [],
   "source": [
    "print(\"Accuracy: \", sum(y_guess == y_truth)/len(y_guess))"
   ]
  }
 ],
 "metadata": {
  "anaconda-cloud": {},
  "kernelspec": {
   "display_name": "Python 3",
   "language": "python",
   "name": "python3"
  }
 },
 "nbformat": 4,
 "nbformat_minor": 2
}
