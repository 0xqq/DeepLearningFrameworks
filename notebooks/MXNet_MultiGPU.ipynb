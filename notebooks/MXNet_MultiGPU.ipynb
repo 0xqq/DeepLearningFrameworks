{
 "cells": [
  {
   "cell_type": "code",
   "execution_count": 1,
   "metadata": {
    "collapsed": true
   },
   "outputs": [],
   "source": [
    "import os\n",
    "import sys\n",
    "import time\n",
    "import multiprocessing\n",
    "import logging\n",
    "import numpy as np\n",
    "import pandas as pd\n",
    "import mxnet as mx\n",
    "from mxnet.io import DataDesc\n",
    "from mxnet.gluon.model_zoo import vision as models\n",
    "from mxnet import gluon as g\n",
    "from sklearn.metrics.ranking import roc_auc_score\n",
    "from sklearn.model_selection import train_test_split\n",
    "from PIL import Image\n",
    "from common.utils import *\n",
    "\n",
    "%load_ext autoreload\n",
    "%autoreload 2"
   ]
  },
  {
   "cell_type": "code",
   "execution_count": 2,
   "metadata": {},
   "outputs": [
    {
     "name": "stdout",
     "output_type": "stream",
     "text": [
      "OS:  linux\n",
      "Python:  3.5.4 |Anaconda custom (64-bit)| (default, Nov  3 2017, 20:01:27) \n",
      "[GCC 7.2.0]\n",
      "MXNet:  0.12.0\n",
      "Numpy:  1.13.3\n",
      "GPU:  ['Tesla P100-PCIE-16GB', 'Tesla P100-PCIE-16GB', 'Tesla P100-PCIE-16GB', 'Tesla P100-PCIE-16GB']\n",
      "CUDA Version 8.0.61\n",
      "CuDNN Version  6.0.21\n",
      "CPUs:  24\n"
     ]
    }
   ],
   "source": [
    "print(\"OS: \", sys.platform)\n",
    "print(\"Python: \", sys.version)\n",
    "print(\"MXNet: \", mx.__version__)\n",
    "print(\"Numpy: \", np.__version__)\n",
    "print(\"GPU: \", get_gpu_name())\n",
    "print(get_cuda_version())\n",
    "print(\"CuDNN Version \", get_cudnn_version())\n",
    "CPU_COUNT = multiprocessing.cpu_count()\n",
    "print(\"CPUs: \", CPU_COUNT)"
   ]
  },
  {
   "cell_type": "code",
   "execution_count": 3,
   "metadata": {
    "collapsed": true
   },
   "outputs": [],
   "source": [
    "# User-set\n",
    "# Note if NUM_GPUS > 1 then MULTI_GPU = True and ALL GPUs will be used\n",
    "# Set below to affect batch-size\n",
    "# E.g. 1 GPU = 64, 2 GPUs = 64*2, 4 GPUs = 64*4\n",
    "# Note that the effective learning-rate will be decreased this way\n",
    "NUM_GPUS = 4 # Scaling factor for batch\n",
    "MULTI_GPU=NUM_GPUS>1"
   ]
  },
  {
   "cell_type": "code",
   "execution_count": 4,
   "metadata": {
    "collapsed": true
   },
   "outputs": [],
   "source": [
    "# Globals\n",
    "CLASSES = 14\n",
    "#CLASSES = 15 #without removing 'No Finding' class\n",
    "WIDTH = 224\n",
    "HEIGHT = 224\n",
    "CHANNELS = 3\n",
    "LR = 0.0001*NUM_GPUS  # Effective learning-rate will decrease as BATCHSIZE rises\n",
    "EPOCHS = 5\n",
    "BATCHSIZE = 64*NUM_GPUS\n",
    "IMAGENET_RGB_MEAN = [0.485, 0.456, 0.406]\n",
    "IMAGENET_RGB_SD = [0.229, 0.224, 0.225]\n",
    "TOT_PATIENT_NUMBER = 30805  # From data"
   ]
  },
  {
   "cell_type": "code",
   "execution_count": 5,
   "metadata": {
    "collapsed": true
   },
   "outputs": [],
   "source": [
    "# Paths\n",
    "CSV_DEST = \"chestxray\"\n",
    "IMAGE_FOLDER = os.path.join(CSV_DEST, \"images\")\n",
    "LABEL_FILE = os.path.join(CSV_DEST, \"Data_Entry_2017.csv\")\n",
    "TRAIN_LST = os.path.join(CSV_DEST, \"train.lst\")\n",
    "VALID_LST = os.path.join(CSV_DEST, \"valid.lst\")\n",
    "TEST_LST = os.path.join(CSV_DEST, \"test.lst\")\n"
   ]
  },
  {
   "cell_type": "code",
   "execution_count": 6,
   "metadata": {},
   "outputs": [
    {
     "name": "stdout",
     "output_type": "stream",
     "text": [
      "Please make sure to download\n",
      "https://docs.microsoft.com/en-us/azure/storage/common/storage-use-azcopy-linux#download-and-install-azcopy\n",
      "Data already exists\n",
      "CPU times: user 598 ms, sys: 188 ms, total: 786 ms\n",
      "Wall time: 784 ms\n"
     ]
    }
   ],
   "source": [
    "%%time\n",
    "# Download data\n",
    "print(\"Please make sure to download\")\n",
    "print(\"https://docs.microsoft.com/en-us/azure/storage/common/storage-use-azcopy-linux#download-and-install-azcopy\")\n",
    "download_data_chextxray(CSV_DEST)"
   ]
  },
  {
   "cell_type": "markdown",
   "metadata": {},
   "source": [
    "## Data prep\n",
    "https://github.com/apache/incubator-mxnet/issues/1480\n"
   ]
  },
  {
   "cell_type": "code",
   "execution_count": 7,
   "metadata": {},
   "outputs": [
    {
     "data": {
      "text/html": [
       "<div>\n",
       "<style scoped>\n",
       "    .dataframe tbody tr th:only-of-type {\n",
       "        vertical-align: middle;\n",
       "    }\n",
       "\n",
       "    .dataframe tbody tr th {\n",
       "        vertical-align: top;\n",
       "    }\n",
       "\n",
       "    .dataframe thead th {\n",
       "        text-align: right;\n",
       "    }\n",
       "</style>\n",
       "<table border=\"1\" class=\"dataframe\">\n",
       "  <thead>\n",
       "    <tr style=\"text-align: right;\">\n",
       "      <th></th>\n",
       "      <th>Image Index</th>\n",
       "      <th>Finding Labels</th>\n",
       "      <th>Follow-up #</th>\n",
       "      <th>Patient ID</th>\n",
       "      <th>Patient Age</th>\n",
       "      <th>Patient Gender</th>\n",
       "      <th>View Position</th>\n",
       "      <th>OriginalImage[Width</th>\n",
       "      <th>Height]</th>\n",
       "      <th>OriginalImagePixelSpacing[x</th>\n",
       "      <th>y]</th>\n",
       "      <th>Unnamed: 11</th>\n",
       "    </tr>\n",
       "  </thead>\n",
       "  <tbody>\n",
       "    <tr>\n",
       "      <th>0</th>\n",
       "      <td>00000001_000.png</td>\n",
       "      <td>Cardiomegaly</td>\n",
       "      <td>0</td>\n",
       "      <td>1</td>\n",
       "      <td>58</td>\n",
       "      <td>M</td>\n",
       "      <td>PA</td>\n",
       "      <td>2682</td>\n",
       "      <td>2749</td>\n",
       "      <td>0.143</td>\n",
       "      <td>0.143</td>\n",
       "      <td>NaN</td>\n",
       "    </tr>\n",
       "    <tr>\n",
       "      <th>1</th>\n",
       "      <td>00000001_001.png</td>\n",
       "      <td>Cardiomegaly|Emphysema</td>\n",
       "      <td>1</td>\n",
       "      <td>1</td>\n",
       "      <td>58</td>\n",
       "      <td>M</td>\n",
       "      <td>PA</td>\n",
       "      <td>2894</td>\n",
       "      <td>2729</td>\n",
       "      <td>0.143</td>\n",
       "      <td>0.143</td>\n",
       "      <td>NaN</td>\n",
       "    </tr>\n",
       "    <tr>\n",
       "      <th>2</th>\n",
       "      <td>00000001_002.png</td>\n",
       "      <td>Cardiomegaly|Effusion</td>\n",
       "      <td>2</td>\n",
       "      <td>1</td>\n",
       "      <td>58</td>\n",
       "      <td>M</td>\n",
       "      <td>PA</td>\n",
       "      <td>2500</td>\n",
       "      <td>2048</td>\n",
       "      <td>0.168</td>\n",
       "      <td>0.168</td>\n",
       "      <td>NaN</td>\n",
       "    </tr>\n",
       "    <tr>\n",
       "      <th>3</th>\n",
       "      <td>00000002_000.png</td>\n",
       "      <td>No Finding</td>\n",
       "      <td>0</td>\n",
       "      <td>2</td>\n",
       "      <td>81</td>\n",
       "      <td>M</td>\n",
       "      <td>PA</td>\n",
       "      <td>2500</td>\n",
       "      <td>2048</td>\n",
       "      <td>0.171</td>\n",
       "      <td>0.171</td>\n",
       "      <td>NaN</td>\n",
       "    </tr>\n",
       "    <tr>\n",
       "      <th>4</th>\n",
       "      <td>00000003_000.png</td>\n",
       "      <td>Hernia</td>\n",
       "      <td>0</td>\n",
       "      <td>3</td>\n",
       "      <td>81</td>\n",
       "      <td>F</td>\n",
       "      <td>PA</td>\n",
       "      <td>2582</td>\n",
       "      <td>2991</td>\n",
       "      <td>0.143</td>\n",
       "      <td>0.143</td>\n",
       "      <td>NaN</td>\n",
       "    </tr>\n",
       "  </tbody>\n",
       "</table>\n",
       "</div>"
      ],
      "text/plain": [
       "        Image Index          Finding Labels  Follow-up #  Patient ID  \\\n",
       "0  00000001_000.png            Cardiomegaly            0           1   \n",
       "1  00000001_001.png  Cardiomegaly|Emphysema            1           1   \n",
       "2  00000001_002.png   Cardiomegaly|Effusion            2           1   \n",
       "3  00000002_000.png              No Finding            0           2   \n",
       "4  00000003_000.png                  Hernia            0           3   \n",
       "\n",
       "   Patient Age Patient Gender View Position  OriginalImage[Width  Height]  \\\n",
       "0           58              M            PA                 2682     2749   \n",
       "1           58              M            PA                 2894     2729   \n",
       "2           58              M            PA                 2500     2048   \n",
       "3           81              M            PA                 2500     2048   \n",
       "4           81              F            PA                 2582     2991   \n",
       "\n",
       "   OriginalImagePixelSpacing[x     y]  Unnamed: 11  \n",
       "0                        0.143  0.143          NaN  \n",
       "1                        0.143  0.143          NaN  \n",
       "2                        0.168  0.168          NaN  \n",
       "3                        0.171  0.171          NaN  \n",
       "4                        0.143  0.143          NaN  "
      ]
     },
     "execution_count": 7,
     "metadata": {},
     "output_type": "execute_result"
    }
   ],
   "source": [
    "df = pd.read_csv(LABEL_FILE)\n",
    "df.head()    "
   ]
  },
  {
   "cell_type": "code",
   "execution_count": 8,
   "metadata": {},
   "outputs": [
    {
     "data": {
      "text/html": [
       "<div>\n",
       "<style scoped>\n",
       "    .dataframe tbody tr th:only-of-type {\n",
       "        vertical-align: middle;\n",
       "    }\n",
       "\n",
       "    .dataframe tbody tr th {\n",
       "        vertical-align: top;\n",
       "    }\n",
       "\n",
       "    .dataframe thead th {\n",
       "        text-align: right;\n",
       "    }\n",
       "</style>\n",
       "<table border=\"1\" class=\"dataframe\">\n",
       "  <thead>\n",
       "    <tr style=\"text-align: right;\">\n",
       "      <th></th>\n",
       "      <th>Atelectasis</th>\n",
       "      <th>Cardiomegaly</th>\n",
       "      <th>Consolidation</th>\n",
       "      <th>Edema</th>\n",
       "      <th>Effusion</th>\n",
       "      <th>Emphysema</th>\n",
       "      <th>Fibrosis</th>\n",
       "      <th>Hernia</th>\n",
       "      <th>Infiltration</th>\n",
       "      <th>Mass</th>\n",
       "      <th>Nodule</th>\n",
       "      <th>Pleural_Thickening</th>\n",
       "      <th>Pneumonia</th>\n",
       "      <th>Pneumothorax</th>\n",
       "      <th>Image_path</th>\n",
       "    </tr>\n",
       "  </thead>\n",
       "  <tbody>\n",
       "    <tr>\n",
       "      <th>0</th>\n",
       "      <td>0</td>\n",
       "      <td>1</td>\n",
       "      <td>0</td>\n",
       "      <td>0</td>\n",
       "      <td>0</td>\n",
       "      <td>0</td>\n",
       "      <td>0</td>\n",
       "      <td>0</td>\n",
       "      <td>0</td>\n",
       "      <td>0</td>\n",
       "      <td>0</td>\n",
       "      <td>0</td>\n",
       "      <td>0</td>\n",
       "      <td>0</td>\n",
       "      <td>chestxray/images/00000001_000.png</td>\n",
       "    </tr>\n",
       "    <tr>\n",
       "      <th>1</th>\n",
       "      <td>0</td>\n",
       "      <td>1</td>\n",
       "      <td>0</td>\n",
       "      <td>0</td>\n",
       "      <td>0</td>\n",
       "      <td>1</td>\n",
       "      <td>0</td>\n",
       "      <td>0</td>\n",
       "      <td>0</td>\n",
       "      <td>0</td>\n",
       "      <td>0</td>\n",
       "      <td>0</td>\n",
       "      <td>0</td>\n",
       "      <td>0</td>\n",
       "      <td>chestxray/images/00000001_001.png</td>\n",
       "    </tr>\n",
       "    <tr>\n",
       "      <th>2</th>\n",
       "      <td>0</td>\n",
       "      <td>1</td>\n",
       "      <td>0</td>\n",
       "      <td>0</td>\n",
       "      <td>1</td>\n",
       "      <td>0</td>\n",
       "      <td>0</td>\n",
       "      <td>0</td>\n",
       "      <td>0</td>\n",
       "      <td>0</td>\n",
       "      <td>0</td>\n",
       "      <td>0</td>\n",
       "      <td>0</td>\n",
       "      <td>0</td>\n",
       "      <td>chestxray/images/00000001_002.png</td>\n",
       "    </tr>\n",
       "    <tr>\n",
       "      <th>3</th>\n",
       "      <td>0</td>\n",
       "      <td>0</td>\n",
       "      <td>0</td>\n",
       "      <td>0</td>\n",
       "      <td>0</td>\n",
       "      <td>0</td>\n",
       "      <td>0</td>\n",
       "      <td>0</td>\n",
       "      <td>0</td>\n",
       "      <td>0</td>\n",
       "      <td>0</td>\n",
       "      <td>0</td>\n",
       "      <td>0</td>\n",
       "      <td>0</td>\n",
       "      <td>chestxray/images/00000002_000.png</td>\n",
       "    </tr>\n",
       "    <tr>\n",
       "      <th>4</th>\n",
       "      <td>0</td>\n",
       "      <td>0</td>\n",
       "      <td>0</td>\n",
       "      <td>0</td>\n",
       "      <td>0</td>\n",
       "      <td>0</td>\n",
       "      <td>0</td>\n",
       "      <td>1</td>\n",
       "      <td>0</td>\n",
       "      <td>0</td>\n",
       "      <td>0</td>\n",
       "      <td>0</td>\n",
       "      <td>0</td>\n",
       "      <td>0</td>\n",
       "      <td>chestxray/images/00000003_000.png</td>\n",
       "    </tr>\n",
       "  </tbody>\n",
       "</table>\n",
       "</div>"
      ],
      "text/plain": [
       "   Atelectasis  Cardiomegaly  Consolidation  Edema  Effusion  Emphysema  \\\n",
       "0            0             1              0      0         0          0   \n",
       "1            0             1              0      0         0          1   \n",
       "2            0             1              0      0         1          0   \n",
       "3            0             0              0      0         0          0   \n",
       "4            0             0              0      0         0          0   \n",
       "\n",
       "   Fibrosis  Hernia  Infiltration  Mass  Nodule  Pleural_Thickening  \\\n",
       "0         0       0             0     0       0                   0   \n",
       "1         0       0             0     0       0                   0   \n",
       "2         0       0             0     0       0                   0   \n",
       "3         0       0             0     0       0                   0   \n",
       "4         0       1             0     0       0                   0   \n",
       "\n",
       "   Pneumonia  Pneumothorax                         Image_path  \n",
       "0          0             0  chestxray/images/00000001_000.png  \n",
       "1          0             0  chestxray/images/00000001_001.png  \n",
       "2          0             0  chestxray/images/00000001_002.png  \n",
       "3          0             0  chestxray/images/00000002_000.png  \n",
       "4          0             0  chestxray/images/00000003_000.png  "
      ]
     },
     "execution_count": 8,
     "metadata": {},
     "output_type": "execute_result"
    }
   ],
   "source": [
    "# Split labels on unfiltered data\n",
    "df_label = df['Finding Labels'].str.split('|', expand=False).str.join(sep='*').str.get_dummies(sep='*')\n",
    "df_label['Image_path'] = IMAGE_FOLDER + os.path.sep + df['Image Index']\n",
    "df_label.drop('No Finding', axis=1, inplace=True)\n",
    "df_label.head()"
   ]
  },
  {
   "cell_type": "code",
   "execution_count": 9,
   "metadata": {},
   "outputs": [
    {
     "name": "stdout",
     "output_type": "stream",
     "text": [
      "(78484, 15)\n",
      "(11212, 15)\n",
      "(22424, 15)\n"
     ]
    }
   ],
   "source": [
    "# Training / Valid / Test split (70% / 10% / 20%)\n",
    "df_train, df_valid, df_test = split_train_val_test(df_label, val_size=0.1, test_size=0.2)\n",
    "print(df_train.shape)\n",
    "print(df_valid.shape)\n",
    "print(df_test.shape)"
   ]
  },
  {
   "cell_type": "code",
   "execution_count": 10,
   "metadata": {
    "collapsed": true
   },
   "outputs": [],
   "source": [
    "df_train.to_csv(TRAIN_LST, sep='\\t', header=False)\n",
    "df_valid.to_csv(VALID_LST, sep='\\t', header=False)\n",
    "df_test.to_csv(TEST_LST, sep='\\t', header=False)"
   ]
  },
  {
   "cell_type": "code",
   "execution_count": 11,
   "metadata": {
    "collapsed": true
   },
   "outputs": [],
   "source": [
    "#%tb\n",
    "#%run ./common/im2rec.py $TRAIN_LST $PWD --resize 224 --center-crop --quality 90 --num-thread 24\n",
    "#run not working!?\n",
    "#python ./common/im2rec.py chestxray/train.lst $PWD --resize 250 --center-crop --quality 90 --num-thread 24\n",
    "#python ./common/im2rec.py chestxray/valid.lst $PWD --resize 250 --center-crop --quality 90 --num-thread 24\n",
    "#python ./common/im2rec.py chestxray/test.lst $PWD --resize 250 --center-crop --quality 90 --num-thread 24"
   ]
  },
  {
   "cell_type": "markdown",
   "metadata": {
    "collapsed": true
   },
   "source": [
    "## Data Loading\n",
    "https://mxnet.incubator.apache.org/architecture/note_data_loading.html#mxnet-io-python-interface\n",
    "\n",
    "https://github.com/miraclewkf/multilabel-MXNet/blob/master/train_multilabel.py"
   ]
  },
  {
   "cell_type": "code",
   "execution_count": 12,
   "metadata": {
    "collapsed": true
   },
   "outputs": [],
   "source": [
    "#https://mxnet.incubator.apache.org/versions/0.11.0/api/python/io.html#mxnet.io.ImageRecordIter\n",
    "train = mx.io.ImageRecordIter(\n",
    "    path_imgrec = \"chestxray/train.rec\",\n",
    "    data_shape = (3, HEIGHT, WIDTH),\n",
    "    path_imglist = \"chestxray/train.lst\",\n",
    "    label_width = CLASSES,\n",
    "    batch_size = BATCHSIZE,\n",
    "    shuffle = True,\n",
    "    mean_r = IMAGENET_RGB_MEAN[0],\n",
    "    mean_g = IMAGENET_RGB_MEAN[1],\n",
    "    mean_b = IMAGENET_RGB_MEAN[2],\n",
    "    std_r = IMAGENET_RGB_SD[0],\n",
    "    std_g = IMAGENET_RGB_SD[1],\n",
    "    std_b = IMAGENET_RGB_SD[2],\n",
    "    rand_crop = 1,\n",
    "    rand_mirror = 1, #flip horizontally\n",
    "    max_rotate_angle = 10,\n",
    "    preprocess_threads = 24\n",
    ")\n",
    "\n",
    "valid = mx.io.ImageRecordIter(\n",
    "    path_imgrec = \"chestxray/valid.rec\",\n",
    "    data_shape = (3, HEIGHT, WIDTH),\n",
    "    path_imglist = \"chestxray/valid.lst\",\n",
    "    label_width = CLASSES,\n",
    "    batch_size = BATCHSIZE,\n",
    "    shuffle = False,\n",
    "    rand_crop = 0,\n",
    "    rand_mirror = 0, #flip horizontally\n",
    "    preprocess_threads = 24\n",
    ")\n",
    "\n",
    "\n",
    "test = mx.io.ImageRecordIter(\n",
    "    path_imgrec = \"chestxray/test.rec\",\n",
    "    data_shape = (3, HEIGHT, WIDTH),\n",
    "    path_imglist = \"chestxray/test.lst\",\n",
    "    label_width = CLASSES,\n",
    "    batch_size = BATCHSIZE,\n",
    "    shuffle = False,\n",
    "    rand_mirror = 0, #flip horizontally\n",
    "    round_batch = False,\n",
    "    preprocess_threads = 24\n",
    ")\n"
   ]
  },
  {
   "cell_type": "markdown",
   "metadata": {
    "collapsed": true
   },
   "source": [
    "## Helper Functions"
   ]
  },
  {
   "cell_type": "code",
   "execution_count": 13,
   "metadata": {
    "collapsed": true
   },
   "outputs": [],
   "source": [
    "#https://github.com/miraclewkf/multilabel-MXNet/blob/master/crossentropy.py\n",
    "class CrossEntropyLoss(mx.operator.CustomOp):\n",
    "    \"\"\"An output layer that calculates gradient for cross-entropy loss\n",
    "    y * log(p) + (1-y) * log(p)\n",
    "    for label \"y\" and prediction \"p\".\n",
    "    However, the output of this layer is the original prediction -- same as\n",
    "    the \"data\" input, making it useful for tasks like \"predict\".\n",
    "    If you actually want to use the calculated loss, see CrossEntropyLoss op.\n",
    "\n",
    "    This is useful for multi-label prediction where each possible output\n",
    "    label is considered independently.\n",
    "    Cross-entropy loss provides a very large penalty for guessing\n",
    "    the wrong answer (0 or 1) confidently.\n",
    "    The gradient calculation is optimized for y only being 0 or 1.\n",
    "    \"\"\"\n",
    "\n",
    "    eps = 1e-6 # Avoid -inf when taking log(0)\n",
    "    eps1 = 1. + eps\n",
    "    eps_1 = 1. - eps\n",
    "\n",
    "    def forward(self, is_train, req, in_data, out_data, aux):\n",
    "        # Shapes:\n",
    "        #  b = minibatch size\n",
    "        #  d = number of dimensions\n",
    "        actually_calculate_loss = False\n",
    "        if actually_calculate_loss:\n",
    "            p = in_data[0].asnumpy()  # shape=(b,d)\n",
    "            y = in_data[1].asnumpy()\n",
    "            out = y * np.log(p+self.eps) + (1.-y) * np.log((self.eps1) - p)\n",
    "            self.assign(out_data[0], req[0], mx.nd.array(out))\n",
    "        else:\n",
    "            # Just copy the predictions forward\n",
    "            self.assign(out_data[0], req[0], in_data[0])\n",
    "\n",
    "\n",
    "    def backward(self, req, out_grad, in_data, out_data, in_grad, aux):\n",
    "        self.approx_backward(req, out_grad, in_data, out_data, in_grad, aux)\n",
    "        #self.exact_backward(req, out_grad, in_data, out_data, in_grad, aux)\n",
    "\n",
    "    def approx_backward(self, req, out_grad, in_data, out_data, in_grad, aux):\n",
    "        \"\"\"Correct grad = (y-p)/(p-p^2)\n",
    "        But if y is just 1 or 0, then this simplifies to\n",
    "        grad = 1/(p-1+y)\n",
    "        which is more numerically stable\n",
    "        \"\"\"\n",
    "        p = in_data[0].asnumpy()  # shape=(b,d)\n",
    "        y = in_data[1].asnumpy()\n",
    "        grad = -1. / (p - self.eps_1 + y)\n",
    "        self.assign(in_grad[0], req[0], mx.nd.array(grad))\n",
    "\n",
    "\n",
    "    def exact_backward(self, req, out_grad, in_data, out_data, in_grad, aux):\n",
    "        \"\"\"grad = (y-p)/(p-p^2)\n",
    "        \"\"\"\n",
    "        p = in_data[0].asnumpy()  # shape=(b,d)\n",
    "        y = in_data[1].asnumpy()  # seems right\n",
    "        grad = (p - y) / ((p+self.eps) * (self.eps1 - p))\n",
    "        self.assign(in_grad[0], req[0], mx.nd.array(grad))\n",
    "\n",
    "\n",
    "@mx.operator.register(\"CrossEntropyLoss\")\n",
    "class CrossEntropyProp(mx.operator.CustomOpProp):\n",
    "    def __init__(self):\n",
    "        super(CrossEntropyProp, self).__init__(need_top_grad=False)\n",
    "\n",
    "    def list_arguments(self):\n",
    "        return ['data','label']\n",
    "\n",
    "    def list_outputs(self):\n",
    "        return ['preds']\n",
    "\n",
    "    def create_operator(self, ctx, shapes, dtypes):\n",
    "        return CrossEntropyLoss()\n",
    "\n",
    "    def infer_shape(self, in_shape):\n",
    "        if in_shape[0] != in_shape[1]:\n",
    "            raise ValueError(\"Input shapes differ. data:%s. label:%s. must be same\"\n",
    "                    % (str(in_shape[0]),str(in_shape[1])))\n",
    "        output_shape = in_shape[0]\n",
    "        return in_shape, [output_shape], []"
   ]
  },
  {
   "cell_type": "code",
   "execution_count": 14,
   "metadata": {},
   "outputs": [],
   "source": [
    "#https://hackernoon.com/transfer-learning-with-mxnet-gluon-8203005afafe\n",
    "#http://mxnet.incubator.apache.org/faq/finetune.html\n",
    "def get_symbol(model_name='densenet121', out_features=CLASSES):\n",
    "    if model_name == 'densenet121':\n",
    "        #models: https://github.com/miraclewkf/DenseNet\n",
    "        get_mxnet_model('https://migonzastorage.blob.core.windows.net/deep-learning/models/mxnet/densenet-121', 0)\n",
    "        sym, arg_params, aux_params = mx.model.load_checkpoint('densenet-121', 0)\n",
    "        layer_name='pool5'\n",
    "    elif model_name == 'resnet50':\n",
    "        get_mxnet_model('http://data.mxnet.io/models/imagenet/resnet/50-layers/resnet-50', 0)\n",
    "        sym, arg_params, aux_params = mx.model.load_checkpoint('resnet-50', 0)\n",
    "        layer_name='flatten0'\n",
    "    else:\n",
    "        raise ValueError(\"Unknown model-name\")\n",
    "    all_layers = sym.get_internals()\n",
    "    sym = all_layers[layer_name+'_output']\n",
    "    sym = mx.symbol.FullyConnected(data=sym, num_hidden=out_features, name='fc1')\n",
    "    sym = mx.symbol.sigmoid(data=sym, name='sig')\n",
    "    sym = mx.symbol.Custom(data=sym, name='softmax', op_type='CrossEntropyLoss')\n",
    "    #sym = mx.symbol.SoftmaxOutput(data=sym, name='softmax')\n",
    "    #sym = mx.symbol.softmax_cross_entropy(data=sym, name='softmax')\n",
    "    #sym = mx.symbol.LogisticRegressionOutput(data=sym, name='softmax')#https://github.com/apache/incubator-mxnet/issues/1758\n",
    "    new_args = dict({k:arg_params[k] for k in arg_params if 'fc1' not in k})\n",
    "    return sym, new_args, aux_params"
   ]
  },
  {
   "cell_type": "code",
   "execution_count": 15,
   "metadata": {
    "collapsed": true
   },
   "outputs": [],
   "source": [
    "def init_symbol(sym, lr=LR, gpus=NUM_GPUS, batch_size=BATCHSIZE, epochs=EPOCHS, \n",
    "                num_examples=TOT_PATIENT_NUMBER, step=[5,10], num_class=CLASSES):    \n",
    "    devs = [mx.gpu(i) for i in range(gpus)]   \n",
    "    model = mx.mod.Module(\n",
    "        context       = devs,\n",
    "        symbol        = sym\n",
    "    )\n",
    "    model.bind(data_shapes=[('data', (batch_size, 3, HEIGHT, WIDTH))],\n",
    "             label_shapes=[('softmax_label', (batch_size, num_class))])\n",
    "    #Criterion\n",
    "    def acc(label, pred, label_width = num_class):\n",
    "        return float((label == np.round(pred)).sum()) / label_width / pred.shape[0]\n",
    "\n",
    "#    def loss(label, pred):\n",
    "#        loss_all = 0\n",
    "#        for i in range(len(pred)):\n",
    "#            loss = 0\n",
    "#            loss -= label[i] * np.log(pred[i] + 1e-6) + (1.- label[i]) * np.log(1. + 1e-6 - pred[i])\n",
    "#            loss_all += np.sum(loss)\n",
    "#        loss_all = float(loss_all)/float(len(pred) + 0.000001)\n",
    "#        return loss_all\n",
    "    \n",
    "    cri = list()\n",
    "    cri.append(mx.metric.np(acc))\n",
    "#    cri.append(mx.metric.np(loss))\n",
    "    \n",
    "    #Scheduler\n",
    "    def multi_factor_scheduler(begin_epoch, epoch_size, step=step, factor=0.1):\n",
    "        step_ = [epoch_size * (x-begin_epoch) for x in step if x-begin_epoch > 0]\n",
    "        return mx.lr_scheduler.MultiFactorScheduler(step=step_, factor=factor) if len(step_) else None\n",
    "\n",
    "    epoch_size = max(int(num_examples / batch_size), 1)\n",
    "    sch=multi_factor_scheduler(epochs, epoch_size)\n",
    "    \n",
    "    return model, cri, sch "
   ]
  },
  {
   "cell_type": "code",
   "execution_count": 16,
   "metadata": {},
   "outputs": [],
   "source": [
    "sym, arg_params, aux_params = get_symbol()"
   ]
  },
  {
   "cell_type": "code",
   "execution_count": 17,
   "metadata": {},
   "outputs": [],
   "source": [
    "model, criterion, scheduler = init_symbol(sym, num_examples=df_train.shape[0])"
   ]
  },
  {
   "cell_type": "code",
   "execution_count": 18,
   "metadata": {},
   "outputs": [
    {
     "name": "stderr",
     "output_type": "stream",
     "text": [
      "2018-03-20 15:09:39,127 Already bound, ignoring bind()\n",
      "2018-03-20 15:11:52,514 Epoch[0] Batch [256]\tSpeed: 505.32 samples/sec\tacc=0.945798\n",
      "2018-03-20 15:12:17,360 Epoch[0] Train-acc=0.948951\n",
      "2018-03-20 15:12:17,366 Epoch[0] Time cost=157.924\n",
      "2018-03-20 15:12:24,130 Epoch[0] Validation-acc=0.949720\n",
      "2018-03-20 15:14:32,954 Epoch[1] Batch [256]\tSpeed: 510.06 samples/sec\tacc=0.948811\n",
      "2018-03-20 15:14:57,609 Epoch[1] Train-acc=0.949358\n",
      "2018-03-20 15:14:57,612 Epoch[1] Time cost=153.478\n",
      "2018-03-20 15:15:04,168 Epoch[1] Validation-acc=0.950011\n",
      "2018-03-20 15:17:13,418 Epoch[2] Batch [256]\tSpeed: 508.26 samples/sec\tacc=0.949108\n",
      "2018-03-20 15:17:37,666 Epoch[2] Train-acc=0.949669\n",
      "2018-03-20 15:17:37,669 Epoch[2] Time cost=153.498\n",
      "2018-03-20 15:17:44,221 Epoch[2] Validation-acc=0.950202\n",
      "2018-03-20 15:19:53,327 Epoch[3] Batch [256]\tSpeed: 508.81 samples/sec\tacc=0.949508\n",
      "2018-03-20 15:20:17,842 Epoch[3] Train-acc=0.950368\n",
      "2018-03-20 15:20:17,847 Epoch[3] Time cost=153.624\n",
      "2018-03-20 15:20:24,462 Epoch[3] Validation-acc=0.950208\n",
      "2018-03-20 15:22:33,424 Epoch[4] Batch [256]\tSpeed: 509.31 samples/sec\tacc=0.949819\n",
      "2018-03-20 15:22:56,360 Update[1531]: Change learning rate to 4.00000e-05\n",
      "2018-03-20 15:22:57,378 Epoch[4] Train-acc=0.950449\n",
      "2018-03-20 15:22:57,379 Epoch[4] Time cost=152.913\n",
      "2018-03-20 15:23:03,814 Epoch[4] Validation-acc=0.950348\n"
     ]
    },
    {
     "name": "stdout",
     "output_type": "stream",
     "text": [
      "CPU times: user 53min 26s, sys: 18min 44s, total: 1h 12min 10s\n",
      "Wall time: 13min 24s\n"
     ]
    }
   ],
   "source": [
    "%%time\n",
    "head = '%(asctime)-15s %(message)s'\n",
    "logging.basicConfig(level=logging.DEBUG, format=head)\n",
    "\n",
    "optimizer_params = {\n",
    "        'learning_rate': LR,\n",
    "        'lr_scheduler': scheduler,\n",
    "}\n",
    "\n",
    "model.fit(train,\n",
    "          valid,\n",
    "          num_epoch=EPOCHS,\n",
    "          arg_params=arg_params,\n",
    "          aux_params=aux_params,\n",
    "          allow_missing=True,\n",
    "          batch_end_callback = mx.callback.Speedometer(BATCHSIZE, BATCHSIZE),\n",
    "          kvstore='device',\n",
    "          optimizer='adam',\n",
    "          optimizer_params = optimizer_params,\n",
    "          eval_metric=criterion\n",
    ")\n",
    "\n"
   ]
  },
  {
   "cell_type": "markdown",
   "metadata": {},
   "source": [
    "## Test CheXNet"
   ]
  },
  {
   "cell_type": "code",
   "execution_count": 19,
   "metadata": {},
   "outputs": [
    {
     "name": "stdout",
     "output_type": "stream",
     "text": [
      "(22528, 14)\n"
     ]
    }
   ],
   "source": [
    "y_guess = model.predict(test)\n",
    "print(y_guess.shape)"
   ]
  },
  {
   "cell_type": "code",
   "execution_count": 20,
   "metadata": {
    "collapsed": true
   },
   "outputs": [],
   "source": [
    "def get_labels(iterator, shape):\n",
    "    iterator.reset()\n",
    "    data = np.zeros(shape, dtype=np.float32)\n",
    "    batch_size = iterator.batch_size\n",
    "    c = 0\n",
    "    for batch in iterator:\n",
    "        label = batch.label\n",
    "        data[c*batch_size:(c+1)*batch_size] = label[0].asnumpy()\n",
    "        c += 1\n",
    "    return data    "
   ]
  },
  {
   "cell_type": "code",
   "execution_count": 21,
   "metadata": {},
   "outputs": [
    {
     "name": "stdout",
     "output_type": "stream",
     "text": [
      "(22528, 14)\n"
     ]
    }
   ],
   "source": [
    "labels = get_labels(test, y_guess.shape)\n",
    "print(labels.shape)"
   ]
  },
  {
   "cell_type": "code",
   "execution_count": 22,
   "metadata": {
    "collapsed": true
   },
   "outputs": [],
   "source": [
    "def compute_roc_auc(data_gt, data_pd, full=True, classes=CLASSES):\n",
    "    roc_auc = []\n",
    "    for i in range(classes):\n",
    "        roc_auc.append(roc_auc_score(data_gt[:, i], data_pd[:, i]))\n",
    "    print(\"Full AUC\", roc_auc)\n",
    "    roc_auc = np.mean(roc_auc)\n",
    "    return roc_auc"
   ]
  },
  {
   "cell_type": "code",
   "execution_count": 23,
   "metadata": {},
   "outputs": [
    {
     "name": "stdout",
     "output_type": "stream",
     "text": [
      "Full AUC [0.73252349966459196, 0.84481030898907072, 0.74914267614776553, 0.76435304529428238, 0.82869461851123516, 0.77399338989611632, 0.66088756979681917, 0.73813060109923678, 0.66122968409168248, 0.7591965171695999, 0.68720958448832081, 0.69909687084197247, 0.67711555658217626, 0.7037460036626626]\n",
      "Validation AUC: 0.7343\n"
     ]
    }
   ],
   "source": [
    "print(\"Validation AUC: {0:.4f}\".format(compute_roc_auc(labels, y_guess.asnumpy())))"
   ]
  },
  {
   "cell_type": "code",
   "execution_count": null,
   "metadata": {
    "collapsed": true
   },
   "outputs": [],
   "source": []
  }
 ],
 "metadata": {
  "kernelspec": {
   "display_name": "Python 3",
   "language": "python",
   "name": "python3"
  },
  "language_info": {
   "codemirror_mode": {
    "name": "ipython",
    "version": 3
   },
   "file_extension": ".py",
   "mimetype": "text/x-python",
   "name": "python",
   "nbconvert_exporter": "python",
   "pygments_lexer": "ipython3",
   "version": "3.5.4"
  }
 },
 "nbformat": 4,
 "nbformat_minor": 2
}
