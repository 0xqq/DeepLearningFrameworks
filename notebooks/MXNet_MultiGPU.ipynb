{
 "cells": [
  {
   "cell_type": "code",
   "execution_count": 1,
   "metadata": {},
   "outputs": [],
   "source": [
    "import os\n",
    "import sys\n",
    "import time\n",
    "import multiprocessing\n",
    "import logging\n",
    "import numpy as np\n",
    "import pandas as pd\n",
    "import mxnet as mx\n",
    "from mxnet.io import DataDesc\n",
    "from mxnet.gluon.model_zoo import vision as models\n",
    "from mxnet import nd\n",
    "from sklearn.metrics.ranking import roc_auc_score\n",
    "from sklearn.model_selection import train_test_split\n",
    "from PIL import Image\n",
    "from common.utils import *\n",
    "\n",
    "%load_ext autoreload\n",
    "%autoreload 2"
   ]
  },
  {
   "cell_type": "code",
   "execution_count": 2,
   "metadata": {},
   "outputs": [
    {
     "name": "stdout",
     "output_type": "stream",
     "text": [
      "OS:  linux\n",
      "Python:  3.5.4 |Anaconda custom (64-bit)| (default, Nov  3 2017, 20:01:27) \n",
      "[GCC 7.2.0]\n",
      "MXNet:  0.12.0\n",
      "Numpy:  1.13.3\n",
      "GPU:  ['Tesla P100-PCIE-16GB', 'Tesla P100-PCIE-16GB', 'Tesla P100-PCIE-16GB', 'Tesla P100-PCIE-16GB']\n",
      "CUDA Version 8.0.61\n",
      "CuDNN Version  6.0.21\n",
      "CPUs:  24\n"
     ]
    }
   ],
   "source": [
    "print(\"OS: \", sys.platform)\n",
    "print(\"Python: \", sys.version)\n",
    "print(\"MXNet: \", mx.__version__)\n",
    "print(\"Numpy: \", np.__version__)\n",
    "print(\"GPU: \", get_gpu_name())\n",
    "print(get_cuda_version())\n",
    "print(\"CuDNN Version \", get_cudnn_version())\n",
    "CPU_COUNT = multiprocessing.cpu_count()\n",
    "print(\"CPUs: \", CPU_COUNT)"
   ]
  },
  {
   "cell_type": "code",
   "execution_count": 3,
   "metadata": {
    "collapsed": true
   },
   "outputs": [],
   "source": [
    "# User-set\n",
    "# Note if NUM_GPUS > 1 then MULTI_GPU = True and ALL GPUs will be used\n",
    "# Set below to affect batch-size\n",
    "# E.g. 1 GPU = 64, 2 GPUs = 64*2, 4 GPUs = 64*4\n",
    "# Note that the effective learning-rate will be decreased this way\n",
    "NUM_GPUS = 4 # Scaling factor for batch\n",
    "MULTI_GPU=NUM_GPUS>1"
   ]
  },
  {
   "cell_type": "code",
   "execution_count": 4,
   "metadata": {
    "collapsed": true
   },
   "outputs": [],
   "source": [
    "# Globals\n",
    "CLASSES = 14\n",
    "WIDTH = 224\n",
    "HEIGHT = 224\n",
    "CHANNELS = 3\n",
    "LR = 0.0001*NUM_GPUS  # Effective learning-rate will decrease as BATCHSIZE rises\n",
    "EPOCHS = 5\n",
    "BATCHSIZE = 64*NUM_GPUS\n",
    "IMAGENET_RGB_MEAN = [0.485, 0.456, 0.406]\n",
    "IMAGENET_RGB_SD = [0.229, 0.224, 0.225]\n",
    "TOT_PATIENT_NUMBER = 30805  # From data"
   ]
  },
  {
   "cell_type": "code",
   "execution_count": 5,
   "metadata": {
    "collapsed": true
   },
   "outputs": [],
   "source": [
    "# Paths\n",
    "CSV_DEST = \"chestxray\"\n",
    "IMAGE_FOLDER = os.path.join(CSV_DEST, \"images\")\n",
    "LABEL_FILE = os.path.join(CSV_DEST, \"Data_Entry_2017.csv\")\n",
    "TRAIN_LST = os.path.join(CSV_DEST, \"train.lst\")\n",
    "VALID_LST = os.path.join(CSV_DEST, \"valid.lst\")\n",
    "TEST_LST = os.path.join(CSV_DEST, \"test.lst\")\n"
   ]
  },
  {
   "cell_type": "code",
   "execution_count": 6,
   "metadata": {},
   "outputs": [
    {
     "name": "stdout",
     "output_type": "stream",
     "text": [
      "Please make sure to download\n",
      "https://docs.microsoft.com/en-us/azure/storage/common/storage-use-azcopy-linux#download-and-install-azcopy\n",
      "Data already exists\n",
      "CPU times: user 537 ms, sys: 221 ms, total: 758 ms\n",
      "Wall time: 757 ms\n"
     ]
    }
   ],
   "source": [
    "%%time\n",
    "# Download data\n",
    "print(\"Please make sure to download\")\n",
    "print(\"https://docs.microsoft.com/en-us/azure/storage/common/storage-use-azcopy-linux#download-and-install-azcopy\")\n",
    "download_data_chextxray(CSV_DEST)"
   ]
  },
  {
   "cell_type": "markdown",
   "metadata": {},
   "source": [
    "## Data prep\n",
    "https://github.com/apache/incubator-mxnet/issues/1480\n"
   ]
  },
  {
   "cell_type": "code",
   "execution_count": 7,
   "metadata": {},
   "outputs": [
    {
     "data": {
      "text/html": [
       "<div>\n",
       "<style scoped>\n",
       "    .dataframe tbody tr th:only-of-type {\n",
       "        vertical-align: middle;\n",
       "    }\n",
       "\n",
       "    .dataframe tbody tr th {\n",
       "        vertical-align: top;\n",
       "    }\n",
       "\n",
       "    .dataframe thead th {\n",
       "        text-align: right;\n",
       "    }\n",
       "</style>\n",
       "<table border=\"1\" class=\"dataframe\">\n",
       "  <thead>\n",
       "    <tr style=\"text-align: right;\">\n",
       "      <th></th>\n",
       "      <th>Image Index</th>\n",
       "      <th>Finding Labels</th>\n",
       "      <th>Follow-up #</th>\n",
       "      <th>Patient ID</th>\n",
       "      <th>Patient Age</th>\n",
       "      <th>Patient Gender</th>\n",
       "      <th>View Position</th>\n",
       "      <th>OriginalImage[Width</th>\n",
       "      <th>Height]</th>\n",
       "      <th>OriginalImagePixelSpacing[x</th>\n",
       "      <th>y]</th>\n",
       "      <th>Unnamed: 11</th>\n",
       "    </tr>\n",
       "  </thead>\n",
       "  <tbody>\n",
       "    <tr>\n",
       "      <th>0</th>\n",
       "      <td>00000001_000.png</td>\n",
       "      <td>Cardiomegaly</td>\n",
       "      <td>0</td>\n",
       "      <td>1</td>\n",
       "      <td>58</td>\n",
       "      <td>M</td>\n",
       "      <td>PA</td>\n",
       "      <td>2682</td>\n",
       "      <td>2749</td>\n",
       "      <td>0.143</td>\n",
       "      <td>0.143</td>\n",
       "      <td>NaN</td>\n",
       "    </tr>\n",
       "    <tr>\n",
       "      <th>1</th>\n",
       "      <td>00000001_001.png</td>\n",
       "      <td>Cardiomegaly|Emphysema</td>\n",
       "      <td>1</td>\n",
       "      <td>1</td>\n",
       "      <td>58</td>\n",
       "      <td>M</td>\n",
       "      <td>PA</td>\n",
       "      <td>2894</td>\n",
       "      <td>2729</td>\n",
       "      <td>0.143</td>\n",
       "      <td>0.143</td>\n",
       "      <td>NaN</td>\n",
       "    </tr>\n",
       "    <tr>\n",
       "      <th>2</th>\n",
       "      <td>00000001_002.png</td>\n",
       "      <td>Cardiomegaly|Effusion</td>\n",
       "      <td>2</td>\n",
       "      <td>1</td>\n",
       "      <td>58</td>\n",
       "      <td>M</td>\n",
       "      <td>PA</td>\n",
       "      <td>2500</td>\n",
       "      <td>2048</td>\n",
       "      <td>0.168</td>\n",
       "      <td>0.168</td>\n",
       "      <td>NaN</td>\n",
       "    </tr>\n",
       "    <tr>\n",
       "      <th>3</th>\n",
       "      <td>00000002_000.png</td>\n",
       "      <td>No Finding</td>\n",
       "      <td>0</td>\n",
       "      <td>2</td>\n",
       "      <td>81</td>\n",
       "      <td>M</td>\n",
       "      <td>PA</td>\n",
       "      <td>2500</td>\n",
       "      <td>2048</td>\n",
       "      <td>0.171</td>\n",
       "      <td>0.171</td>\n",
       "      <td>NaN</td>\n",
       "    </tr>\n",
       "    <tr>\n",
       "      <th>4</th>\n",
       "      <td>00000003_000.png</td>\n",
       "      <td>Hernia</td>\n",
       "      <td>0</td>\n",
       "      <td>3</td>\n",
       "      <td>81</td>\n",
       "      <td>F</td>\n",
       "      <td>PA</td>\n",
       "      <td>2582</td>\n",
       "      <td>2991</td>\n",
       "      <td>0.143</td>\n",
       "      <td>0.143</td>\n",
       "      <td>NaN</td>\n",
       "    </tr>\n",
       "  </tbody>\n",
       "</table>\n",
       "</div>"
      ],
      "text/plain": [
       "        Image Index          Finding Labels  Follow-up #  Patient ID  \\\n",
       "0  00000001_000.png            Cardiomegaly            0           1   \n",
       "1  00000001_001.png  Cardiomegaly|Emphysema            1           1   \n",
       "2  00000001_002.png   Cardiomegaly|Effusion            2           1   \n",
       "3  00000002_000.png              No Finding            0           2   \n",
       "4  00000003_000.png                  Hernia            0           3   \n",
       "\n",
       "   Patient Age Patient Gender View Position  OriginalImage[Width  Height]  \\\n",
       "0           58              M            PA                 2682     2749   \n",
       "1           58              M            PA                 2894     2729   \n",
       "2           58              M            PA                 2500     2048   \n",
       "3           81              M            PA                 2500     2048   \n",
       "4           81              F            PA                 2582     2991   \n",
       "\n",
       "   OriginalImagePixelSpacing[x     y]  Unnamed: 11  \n",
       "0                        0.143  0.143          NaN  \n",
       "1                        0.143  0.143          NaN  \n",
       "2                        0.168  0.168          NaN  \n",
       "3                        0.171  0.171          NaN  \n",
       "4                        0.143  0.143          NaN  "
      ]
     },
     "execution_count": 7,
     "metadata": {},
     "output_type": "execute_result"
    }
   ],
   "source": [
    "df = pd.read_csv(LABEL_FILE)\n",
    "df.head()    "
   ]
  },
  {
   "cell_type": "code",
   "execution_count": 10,
   "metadata": {},
   "outputs": [],
   "source": [
    "def data_prep(df, img_dir, patient_ids):\n",
    "    # Split labels on unfiltered data\n",
    "    df_label = df['Finding Labels'].str.split(\n",
    "        '|', expand=False).str.join(sep='*').str.get_dummies(sep='*')\n",
    "\n",
    "    # Filter by patient-ids (both)\n",
    "    df_label['Patient ID'] = df['Patient ID']\n",
    "    df_label = df_label[df_label['Patient ID'].isin(patient_ids)]\n",
    "    df = df[df['Patient ID'].isin(patient_ids)]\n",
    "    # Remove unncessary columns\n",
    "    df_label.drop(['Patient ID','No Finding'], axis=1, inplace=True)  \n",
    "\n",
    "    # List of images (full-path)\n",
    "    img_locs =  df['Image Index'].map(lambda im: os.path.join(img_dir, im)).values\n",
    "    # One-hot encoded labels (float32 for BCE loss)\n",
    "    df_label['Image_path'] = img_locs\n",
    "    return df_label\n"
   ]
  },
  {
   "cell_type": "code",
   "execution_count": 14,
   "metadata": {},
   "outputs": [
    {
     "name": "stdout",
     "output_type": "stream",
     "text": [
      "train:21563 valid:3080 test:6162\n",
      "(87306, 15)\n",
      "(7616, 15)\n",
      "(17198, 15)\n"
     ]
    }
   ],
   "source": [
    "# Training / Valid / Test split (70% / 10% / 20%)\n",
    "train_set, valid_set, test_set = get_train_valid_test_split(TOT_PATIENT_NUMBER)\n",
    "df_train = data_prep(df, IMAGE_FOLDER, train_set)\n",
    "df_valid = data_prep(df, IMAGE_FOLDER, valid_set)\n",
    "df_test = data_prep(df, IMAGE_FOLDER, test_set)\n",
    "print(df_train.shape)\n",
    "print(df_valid.shape)\n",
    "print(df_test.shape)"
   ]
  },
  {
   "cell_type": "code",
   "execution_count": 15,
   "metadata": {
    "collapsed": true
   },
   "outputs": [],
   "source": [
    "df_train.to_csv(TRAIN_LST, sep='\\t', header=False)\n",
    "df_valid.to_csv(VALID_LST, sep='\\t', header=False)\n",
    "df_test.to_csv(TEST_LST, sep='\\t', header=False)"
   ]
  },
  {
   "cell_type": "code",
   "execution_count": 24,
   "metadata": {},
   "outputs": [
    {
     "name": "stdout",
     "output_type": "stream",
     "text": [
      "Creating .rec file from /home/hoaphumanoid/notebooks/repos/DeepLearningFrameworks/notebooks/chestxray/train.lst in /home/hoaphumanoid/notebooks/repos/DeepLearningFrameworks/notebooks/chestxray\n",
      "libpng warning: iCCP: profile 'ICC Profile': 'GRAY': Gray color space not permitted on RGB PNG\n",
      "time: 6.997234344482422  count: 0\n",
      "time: 0.7863016128540039  count: 1000\n",
      "time: 0.7199516296386719  count: 2000\n",
      "time: 0.7553024291992188  count: 3000\n",
      "time: 0.875377893447876  count: 4000\n",
      "time: 0.6988627910614014  count: 5000\n",
      "time: 0.8525941371917725  count: 6000\n",
      "time: 0.865654468536377  count: 7000\n",
      "time: 0.7837262153625488  count: 8000\n",
      "time: 0.846381664276123  count: 9000\n",
      "libpng warning: iCCP: profile 'ICC Profile': 'GRAY': Gray color space not permitted on RGB PNG\n",
      "time: 1.3273906707763672  count: 10000\n",
      "time: 0.3824479579925537  count: 11000\n",
      "time: 0.7547008991241455  count: 12000\n",
      "time: 0.7022714614868164  count: 13000\n",
      "time: 0.6992290019989014  count: 14000\n",
      "time: 0.6906943321228027  count: 15000\n",
      "time: 0.7144792079925537  count: 16000\n",
      "time: 0.7061898708343506  count: 17000\n",
      "time: 0.7346706390380859  count: 18000\n",
      "time: 0.8415727615356445  count: 19000\n",
      "time: 0.8398227691650391  count: 20000\n",
      "time: 0.7434585094451904  count: 21000\n",
      "time: 0.7183353900909424  count: 22000\n",
      "time: 0.8779716491699219  count: 23000\n",
      "time: 0.705294132232666  count: 24000\n",
      "time: 0.6660354137420654  count: 25000\n",
      "time: 0.6798646450042725  count: 26000\n",
      "time: 0.6636626720428467  count: 27000\n",
      "time: 0.7027058601379395  count: 28000\n",
      "time: 0.7037975788116455  count: 29000\n",
      "time: 0.6496965885162354  count: 30000\n",
      "time: 2.4592933654785156  count: 31000\n",
      "time: 10.89347243309021  count: 32000\n",
      "time: 13.605082511901855  count: 33000\n",
      "time: 13.787126302719116  count: 34000\n",
      "time: 11.201358079910278  count: 35000\n",
      "time: 10.445201873779297  count: 36000\n",
      "time: 11.85402250289917  count: 37000\n",
      "time: 10.543273687362671  count: 38000\n",
      "time: 10.868366241455078  count: 39000\n",
      "time: 11.946507692337036  count: 40000\n",
      "time: 11.439869403839111  count: 41000\n",
      "time: 11.260185718536377  count: 42000\n",
      "time: 11.651231288909912  count: 43000\n",
      "time: 10.893978357315063  count: 44000\n",
      "time: 11.587110042572021  count: 45000\n",
      "time: 11.253998279571533  count: 46000\n",
      "time: 11.160395622253418  count: 47000\n",
      "time: 11.693461418151855  count: 48000\n",
      "time: 11.563574314117432  count: 49000\n",
      "time: 11.251290798187256  count: 50000\n",
      "time: 11.127522230148315  count: 51000\n",
      "time: 11.748427629470825  count: 52000\n",
      "time: 11.210111856460571  count: 53000\n",
      "time: 11.034827470779419  count: 54000\n",
      "time: 11.453588724136353  count: 55000\n",
      "time: 11.268526077270508  count: 56000\n",
      "time: 11.877094030380249  count: 57000\n",
      "time: 11.611498355865479  count: 58000\n",
      "time: 11.444634914398193  count: 59000\n",
      "time: 11.572349071502686  count: 60000\n",
      "time: 11.436494588851929  count: 61000\n",
      "time: 11.395864248275757  count: 62000\n",
      "time: 12.360434293746948  count: 63000\n",
      "time: 11.089978218078613  count: 64000\n",
      "time: 11.018335103988647  count: 65000\n",
      "time: 12.487891912460327  count: 66000\n",
      "time: 10.699373006820679  count: 67000\n",
      "time: 11.405710220336914  count: 68000\n",
      "time: 11.537296056747437  count: 69000\n",
      "time: 10.987305641174316  count: 70000\n",
      "time: 11.857749700546265  count: 71000\n",
      "time: 11.140266418457031  count: 72000\n",
      "time: 11.378893613815308  count: 73000\n",
      "time: 11.704730987548828  count: 74000\n",
      "time: 11.194356203079224  count: 75000\n",
      "time: 12.038062334060669  count: 76000\n",
      "time: 11.30222749710083  count: 77000\n",
      "time: 12.234185695648193  count: 78000\n",
      "time: 12.004458904266357  count: 79000\n",
      "time: 11.259858846664429  count: 80000\n",
      "time: 12.233105182647705  count: 81000\n",
      "time: 11.55610966682434  count: 82000\n",
      "time: 12.060814380645752  count: 83000\n",
      "time: 11.73368215560913  count: 84000\n",
      "time: 12.754193782806396  count: 85000\n",
      "time: 11.244041919708252  count: 86000\n",
      "time: 11.199359893798828  count: 87000\n",
      "Creating .rec file from /home/hoaphumanoid/notebooks/repos/DeepLearningFrameworks/notebooks/chestxray/valid.lst in /home/hoaphumanoid/notebooks/repos/DeepLearningFrameworks/notebooks/chestxray\n",
      "time: 6.951768398284912  count: 0\n",
      "time: 12.229394674301147  count: 1000\n",
      "time: 12.114839315414429  count: 2000\n",
      "time: 11.544429779052734  count: 3000\n",
      "time: 12.394481897354126  count: 4000\n",
      "time: 11.55029559135437  count: 5000\n",
      "time: 12.294052839279175  count: 6000\n",
      "time: 11.165415287017822  count: 7000\n",
      "Creating .rec file from /home/hoaphumanoid/notebooks/repos/DeepLearningFrameworks/notebooks/chestxray/test.lst in /home/hoaphumanoid/notebooks/repos/DeepLearningFrameworks/notebooks/chestxray\n",
      "time: 5.321256637573242  count: 0\n",
      "time: 14.205287456512451  count: 1000\n",
      "time: 12.304722309112549  count: 2000\n",
      "time: 11.68842339515686  count: 3000\n",
      "time: 11.603175640106201  count: 4000\n",
      "time: 12.219429731369019  count: 5000\n",
      "time: 11.83525276184082  count: 6000\n",
      "time: 12.743592500686646  count: 7000\n",
      "time: 11.506481885910034  count: 8000\n",
      "time: 12.549721240997314  count: 9000\n",
      "time: 11.791823863983154  count: 10000\n",
      "time: 12.14850640296936  count: 11000\n",
      "time: 11.759252071380615  count: 12000\n",
      "time: 12.589722394943237  count: 13000\n",
      "time: 11.501626014709473  count: 14000\n",
      "time: 11.902467012405396  count: 15000\n",
      "time: 12.054293155670166  count: 16000\n",
      "time: 10.004416942596436  count: 17000\n"
     ]
    }
   ],
   "source": [
    "!/anaconda/envs/py35/bin/python ./common/im2rec.py chestxray/train.lst $PWD --resize 250 --center-crop --quality 100 --num-thread 24\n",
    "!/anaconda/envs/py35/bin/python ./common/im2rec.py chestxray/valid.lst $PWD --resize 250 --center-crop --quality 100 --num-thread 24\n",
    "!/anaconda/envs/py35/bin/python ./common/im2rec.py chestxray/test.lst $PWD --resize 250 --center-crop --quality 100 --num-thread 24"
   ]
  },
  {
   "cell_type": "code",
   "execution_count": null,
   "metadata": {
    "collapsed": true
   },
   "outputs": [],
   "source": []
  },
  {
   "cell_type": "markdown",
   "metadata": {
    "collapsed": true
   },
   "source": [
    "## Data Loading\n",
    "https://mxnet.incubator.apache.org/architecture/note_data_loading.html#mxnet-io-python-interface\n",
    "\n",
    "https://github.com/miraclewkf/multilabel-MXNet/blob/master/train_multilabel.py"
   ]
  },
  {
   "cell_type": "code",
   "execution_count": 25,
   "metadata": {
    "collapsed": true
   },
   "outputs": [],
   "source": [
    "#https://mxnet.incubator.apache.org/versions/0.11.0/api/python/io.html#mxnet.io.ImageRecordIter\n",
    "train = mx.io.ImageRecordIter(\n",
    "    path_imgrec = \"chestxray/train.rec\",\n",
    "    data_shape = (3, HEIGHT, WIDTH),\n",
    "    path_imglist = \"chestxray/train.lst\",\n",
    "    label_width = CLASSES,\n",
    "    batch_size = BATCHSIZE,\n",
    "    shuffle = True,\n",
    "    mean_r = IMAGENET_RGB_MEAN[0],\n",
    "    mean_g = IMAGENET_RGB_MEAN[1],\n",
    "    mean_b = IMAGENET_RGB_MEAN[2],\n",
    "    std_r = IMAGENET_RGB_SD[0],\n",
    "    std_g = IMAGENET_RGB_SD[1],\n",
    "    std_b = IMAGENET_RGB_SD[2],\n",
    "    rand_crop = 1,\n",
    "    rand_mirror = 1, #flip horizontally\n",
    "    max_rotate_angle = 10,\n",
    "    preprocess_threads = 24\n",
    ")\n",
    "\n",
    "valid = mx.io.ImageRecordIter(\n",
    "    path_imgrec = \"chestxray/valid.rec\",\n",
    "    data_shape = (3, HEIGHT, WIDTH),\n",
    "    path_imglist = \"chestxray/valid.lst\",\n",
    "    label_width = CLASSES,\n",
    "    batch_size = BATCHSIZE,\n",
    "    shuffle = False,\n",
    "    rand_crop = 0,\n",
    "    rand_mirror = 0, #flip horizontally\n",
    "    preprocess_threads = 24\n",
    ")\n",
    "\n",
    "\n",
    "test = mx.io.ImageRecordIter(\n",
    "    path_imgrec = \"chestxray/test.rec\",\n",
    "    data_shape = (3, HEIGHT, WIDTH),\n",
    "    path_imglist = \"chestxray/test.lst\",\n",
    "    label_width = CLASSES,\n",
    "    batch_size = BATCHSIZE,\n",
    "    shuffle = False,\n",
    "    rand_mirror = 0, #flip horizontally\n",
    "    round_batch = False,\n",
    "    preprocess_threads = 24\n",
    ")\n"
   ]
  },
  {
   "cell_type": "markdown",
   "metadata": {
    "collapsed": true
   },
   "source": [
    "## Helper Functions"
   ]
  },
  {
   "cell_type": "code",
   "execution_count": 26,
   "metadata": {
    "collapsed": true
   },
   "outputs": [],
   "source": [
    "#https://github.com/miraclewkf/multilabel-MXNet/blob/master/crossentropy.py\n",
    "class CrossEntropyLoss(mx.operator.CustomOp):\n",
    "    \"\"\"An output layer that calculates gradient for cross-entropy loss\n",
    "    y * log(p) + (1-y) * log(p)\n",
    "    for label \"y\" and prediction \"p\".\n",
    "    However, the output of this layer is the original prediction -- same as\n",
    "    the \"data\" input, making it useful for tasks like \"predict\".\n",
    "    If you actually want to use the calculated loss, see CrossEntropyLoss op.\n",
    "\n",
    "    This is useful for multi-label prediction where each possible output\n",
    "    label is considered independently.\n",
    "    Cross-entropy loss provides a very large penalty for guessing\n",
    "    the wrong answer (0 or 1) confidently.\n",
    "    The gradient calculation is optimized for y only being 0 or 1.\n",
    "    \"\"\"\n",
    "\n",
    "    eps = 1e-6 # Avoid -inf when taking log(0)\n",
    "    eps1 = 1. + eps\n",
    "    eps_1 = 1. - eps\n",
    "\n",
    "    def forward(self, is_train, req, in_data, out_data, aux):\n",
    "        # Shapes:\n",
    "        #  b = minibatch size\n",
    "        #  d = number of dimensions\n",
    "        actually_calculate_loss = False\n",
    "        if actually_calculate_loss:\n",
    "            p = in_data[0]  # shape=(b,d)\n",
    "            y = in_data[1]\n",
    "            out = y * nd.log(p+self.eps) + (1.-y) * nd.log((self.eps1) - p)\n",
    "            self.assign(out_data[0], req[0], out)\n",
    "        else:\n",
    "            # Just copy the predictions forward\n",
    "            self.assign(out_data[0], req[0], in_data[0])\n",
    "\n",
    "\n",
    "    def backward(self, req, out_grad, in_data, out_data, in_grad, aux):\n",
    "        self.approx_backward(req, out_grad, in_data, out_data, in_grad, aux)\n",
    "        #self.exact_backward(req, out_grad, in_data, out_data, in_grad, aux)\n",
    "\n",
    "    def approx_backward(self, req, out_grad, in_data, out_data, in_grad, aux):\n",
    "        \"\"\"Correct grad = (y-p)/(p-p^2)\n",
    "        But if y is just 1 or 0, then this simplifies to\n",
    "        grad = 1/(p-1+y)\n",
    "        which is more numerically stable\n",
    "        \"\"\"\n",
    "        p = in_data[0]  # shape=(b,d)\n",
    "        y = in_data[1]\n",
    "        grad = -1. / (p - self.eps_1 + y)\n",
    "        self.assign(in_grad[0], req[0], grad)\n",
    "\n",
    "\n",
    "    def exact_backward(self, req, out_grad, in_data, out_data, in_grad, aux):\n",
    "        \"\"\"grad = (y-p)/(p-p^2)\n",
    "        \"\"\"\n",
    "        p = in_data[0] # shape=(b,d)\n",
    "        y = in_data[1]  # seems right\n",
    "        grad = (p - y) / ((p+self.eps) * (self.eps1 - p))\n",
    "        self.assign(in_grad[0], req[0], grad)\n",
    "\n",
    "\n",
    "@mx.operator.register(\"CrossEntropyLoss\")\n",
    "class CrossEntropyProp(mx.operator.CustomOpProp):\n",
    "    def __init__(self):\n",
    "        super(CrossEntropyProp, self).__init__(need_top_grad=False)\n",
    "\n",
    "    def list_arguments(self):\n",
    "        return ['data','label']\n",
    "\n",
    "    def list_outputs(self):\n",
    "        return ['preds']\n",
    "\n",
    "    def create_operator(self, ctx, shapes, dtypes):\n",
    "        return CrossEntropyLoss()\n",
    "\n",
    "    def infer_shape(self, in_shape):\n",
    "        if in_shape[0] != in_shape[1]:\n",
    "            raise ValueError(\"Input shapes differ. data:%s. label:%s. must be same\"\n",
    "                    % (str(in_shape[0]),str(in_shape[1])))\n",
    "        output_shape = in_shape[0]\n",
    "        return in_shape, [output_shape], []"
   ]
  },
  {
   "cell_type": "code",
   "execution_count": 27,
   "metadata": {
    "collapsed": true
   },
   "outputs": [],
   "source": [
    "#https://hackernoon.com/transfer-learning-with-mxnet-gluon-8203005afafe\n",
    "#http://mxnet.incubator.apache.org/faq/finetune.html\n",
    "def get_symbol(model_name='densenet121', out_features=CLASSES):\n",
    "    if model_name == 'densenet121':\n",
    "        #models: https://github.com/miraclewkf/DenseNet\n",
    "        get_mxnet_model('https://migonzastorage.blob.core.windows.net/deep-learning/models/mxnet/densenet-121', 0)\n",
    "        sym, arg_params, aux_params = mx.model.load_checkpoint('densenet-121', 0)\n",
    "        layer_name='pool5'\n",
    "    elif model_name == 'resnet50':\n",
    "        get_mxnet_model('http://data.mxnet.io/models/imagenet/resnet/50-layers/resnet-50', 0)\n",
    "        sym, arg_params, aux_params = mx.model.load_checkpoint('resnet-50', 0)\n",
    "        layer_name='flatten0'\n",
    "    else:\n",
    "        raise ValueError(\"Unknown model-name\")\n",
    "    all_layers = sym.get_internals()\n",
    "    sym = all_layers[layer_name+'_output']\n",
    "    sym = mx.symbol.FullyConnected(data=sym, num_hidden=out_features, name='fc1')\n",
    "    sym = mx.symbol.sigmoid(data=sym, name='sig')\n",
    "    sym = mx.symbol.Custom(data=sym, name='softmax', op_type='CrossEntropyLoss')\n",
    "    #sym = mx.symbol.SoftmaxOutput(data=sym, name='softmax')\n",
    "    #sym = mx.symbol.softmax_cross_entropy(data=sym, name='softmax')\n",
    "    #sym = mx.symbol.LogisticRegressionOutput(data=sym, name='softmax')#https://github.com/apache/incubator-mxnet/issues/1758\n",
    "    new_args = dict({k:arg_params[k] for k in arg_params if 'fc1' not in k})\n",
    "    return sym, new_args, aux_params"
   ]
  },
  {
   "cell_type": "code",
   "execution_count": 28,
   "metadata": {
    "collapsed": true
   },
   "outputs": [],
   "source": [
    "def init_symbol(sym, lr=LR, gpus=NUM_GPUS, batch_size=BATCHSIZE, epochs=EPOCHS, \n",
    "                num_examples=TOT_PATIENT_NUMBER, step=[5,10], num_class=CLASSES):    \n",
    "    devs = [mx.gpu(i) for i in range(gpus)]   \n",
    "    model = mx.mod.Module(\n",
    "        context       = devs,\n",
    "        symbol        = sym\n",
    "    )\n",
    "    model.bind(data_shapes=[('data', (batch_size, 3, HEIGHT, WIDTH))],\n",
    "             label_shapes=[('softmax_label', (batch_size, num_class))])\n",
    "    #Criterion\n",
    "    def acc(label, pred, label_width = num_class):\n",
    "        return float((label == np.round(pred)).sum()) / label_width / pred.shape[0]\n",
    "\n",
    "#    def loss(label, pred):\n",
    "#        loss_all = 0\n",
    "#        for i in range(len(pred)):\n",
    "#            loss = 0\n",
    "#            loss -= label[i] * np.log(pred[i] + 1e-6) + (1.- label[i]) * np.log(1. + 1e-6 - pred[i])\n",
    "#            loss_all += np.sum(loss)\n",
    "#        loss_all = float(loss_all)/float(len(pred) + 0.000001)\n",
    "#        return loss_all\n",
    "    \n",
    "    cri = list()\n",
    "    cri.append(mx.metric.np(acc))\n",
    "#    cri.append(mx.metric.np(loss))\n",
    "    \n",
    "    #Scheduler\n",
    "    def multi_factor_scheduler(begin_epoch, epoch_size, step=step, factor=0.1):\n",
    "        step_ = [epoch_size * (x-begin_epoch) for x in step if x-begin_epoch > 0]\n",
    "        return mx.lr_scheduler.MultiFactorScheduler(step=step_, factor=factor) if len(step_) else None\n",
    "\n",
    "    epoch_size = max(int(num_examples / batch_size), 1)\n",
    "    sch=multi_factor_scheduler(epochs, epoch_size)\n",
    "    \n",
    "    return model, cri, sch "
   ]
  },
  {
   "cell_type": "code",
   "execution_count": 29,
   "metadata": {
    "collapsed": true
   },
   "outputs": [],
   "source": [
    "sym, arg_params, aux_params = get_symbol()"
   ]
  },
  {
   "cell_type": "code",
   "execution_count": 30,
   "metadata": {
    "collapsed": true
   },
   "outputs": [],
   "source": [
    "model, criterion, scheduler = init_symbol(sym, num_examples=df_train.shape[0])"
   ]
  },
  {
   "cell_type": "code",
   "execution_count": 31,
   "metadata": {},
   "outputs": [
    {
     "name": "stderr",
     "output_type": "stream",
     "text": [
      "2018-03-21 17:11:45,839 Already bound, ignoring bind()\n",
      "2018-03-21 17:13:55,247 Epoch[0] Batch [256]\tSpeed: 523.05 samples/sec\tacc=0.949326\n",
      "2018-03-21 17:14:36,767 Epoch[0] Train-acc=0.940471\n",
      "2018-03-21 17:14:36,774 Epoch[0] Time cost=170.644\n",
      "2018-03-21 17:14:41,630 Epoch[0] Validation-acc=0.952548\n",
      "2018-03-21 17:16:46,726 Epoch[1] Batch [256]\tSpeed: 524.79 samples/sec\tacc=0.951888\n",
      "2018-03-21 17:17:27,729 Epoch[1] Train-acc=0.940795\n",
      "2018-03-21 17:17:27,732 Epoch[1] Time cost=166.100\n",
      "2018-03-21 17:17:32,379 Epoch[1] Validation-acc=0.952409\n",
      "2018-03-21 17:19:37,502 Epoch[2] Batch [256]\tSpeed: 524.91 samples/sec\tacc=0.952049\n",
      "2018-03-21 17:20:18,257 Epoch[2] Train-acc=0.940984\n",
      "2018-03-21 17:20:18,262 Epoch[2] Time cost=165.879\n",
      "2018-03-21 17:20:22,919 Epoch[2] Validation-acc=0.952214\n",
      "2018-03-21 17:22:28,507 Epoch[3] Batch [256]\tSpeed: 522.95 samples/sec\tacc=0.952339\n",
      "2018-03-21 17:23:09,102 Epoch[3] Train-acc=0.941234\n",
      "2018-03-21 17:23:09,105 Epoch[3] Time cost=166.184\n",
      "2018-03-21 17:23:13,665 Epoch[3] Validation-acc=0.952644\n",
      "2018-03-21 17:25:18,891 Epoch[4] Batch [256]\tSpeed: 524.33 samples/sec\tacc=0.952431\n",
      "2018-03-21 17:25:59,196 Update[1706]: Change learning rate to 4.00000e-05\n",
      "2018-03-21 17:25:59,654 Epoch[4] Train-acc=0.941572\n",
      "2018-03-21 17:25:59,656 Epoch[4] Time cost=165.987\n",
      "2018-03-21 17:26:04,405 Epoch[4] Validation-acc=0.952195\n"
     ]
    },
    {
     "name": "stdout",
     "output_type": "stream",
     "text": [
      "CPU times: user 1h 2min 33s, sys: 19min, total: 1h 21min 34s\n",
      "Wall time: 14min 18s\n"
     ]
    }
   ],
   "source": [
    "%%time\n",
    "head = '%(asctime)-15s %(message)s'\n",
    "logging.basicConfig(level=logging.DEBUG, format=head)\n",
    "\n",
    "optimizer_params = {\n",
    "        'learning_rate': LR,\n",
    "        'lr_scheduler': scheduler,\n",
    "}\n",
    "\n",
    "model.fit(train,\n",
    "          valid,\n",
    "          num_epoch=EPOCHS,\n",
    "          arg_params=arg_params,\n",
    "          aux_params=aux_params,\n",
    "          allow_missing=True,\n",
    "          batch_end_callback = mx.callback.Speedometer(BATCHSIZE, BATCHSIZE),\n",
    "          kvstore='device',\n",
    "          optimizer='adam',\n",
    "          optimizer_params = optimizer_params,\n",
    "          eval_metric=criterion\n",
    ")\n",
    "\n"
   ]
  },
  {
   "cell_type": "markdown",
   "metadata": {},
   "source": [
    "## Test CheXNet"
   ]
  },
  {
   "cell_type": "code",
   "execution_count": 32,
   "metadata": {},
   "outputs": [
    {
     "name": "stdout",
     "output_type": "stream",
     "text": [
      "(17408, 14)\n"
     ]
    }
   ],
   "source": [
    "y_guess = model.predict(test)\n",
    "print(y_guess.shape)"
   ]
  },
  {
   "cell_type": "code",
   "execution_count": 33,
   "metadata": {
    "collapsed": true
   },
   "outputs": [],
   "source": [
    "def get_labels(iterator, shape):\n",
    "    iterator.reset()\n",
    "    data = np.zeros(shape, dtype=np.float32)\n",
    "    batch_size = iterator.batch_size\n",
    "    c = 0\n",
    "    for batch in iterator:\n",
    "        label = batch.label\n",
    "        data[c*batch_size:(c+1)*batch_size] = label[0].asnumpy()\n",
    "        c += 1\n",
    "    return data    "
   ]
  },
  {
   "cell_type": "code",
   "execution_count": 34,
   "metadata": {},
   "outputs": [
    {
     "name": "stdout",
     "output_type": "stream",
     "text": [
      "(17408, 14)\n"
     ]
    }
   ],
   "source": [
    "labels = get_labels(test, y_guess.shape)\n",
    "print(labels.shape)"
   ]
  },
  {
   "cell_type": "code",
   "execution_count": 35,
   "metadata": {
    "collapsed": true
   },
   "outputs": [],
   "source": [
    "def compute_roc_auc(data_gt, data_pd, full=True, classes=CLASSES):\n",
    "    roc_auc = []\n",
    "    for i in range(classes):\n",
    "        roc_auc.append(roc_auc_score(data_gt[:, i], data_pd[:, i]))\n",
    "    print(\"Full AUC\", roc_auc)\n",
    "    roc_auc = np.mean(roc_auc)\n",
    "    return roc_auc"
   ]
  },
  {
   "cell_type": "code",
   "execution_count": 36,
   "metadata": {},
   "outputs": [
    {
     "name": "stdout",
     "output_type": "stream",
     "text": [
      "Full AUC [0.76038465872124505, 0.79686609686609688, 0.75042660146444251, 0.85506960094684126, 0.82954897183148457, 0.7885669844379638, 0.6842608649111539, 0.68850402272908318, 0.58971309413438378, 0.70868490148925112, 0.65033492409468974, 0.68877773703647227, 0.67590832115717325, 0.80016679386145784]\n",
      "Validation AUC: 0.7334\n"
     ]
    }
   ],
   "source": [
    "print(\"Validation AUC: {0:.4f}\".format(compute_roc_auc(labels, y_guess.asnumpy())))"
   ]
  },
  {
   "cell_type": "code",
   "execution_count": null,
   "metadata": {
    "collapsed": true
   },
   "outputs": [],
   "source": []
  }
 ],
 "metadata": {
  "kernelspec": {
   "display_name": "Python 3",
   "language": "python",
   "name": "python3"
  },
  "language_info": {
   "codemirror_mode": {
    "name": "ipython",
    "version": 3
   },
   "file_extension": ".py",
   "mimetype": "text/x-python",
   "name": "python",
   "nbconvert_exporter": "python",
   "pygments_lexer": "ipython3",
   "version": "3.5.4"
  }
 },
 "nbformat": 4,
 "nbformat_minor": 2
}
