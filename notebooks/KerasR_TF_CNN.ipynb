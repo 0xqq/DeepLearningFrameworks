{
 "cells": [
  {
   "cell_type": "markdown",
   "metadata": {},
   "source": [
    "# High-level Keras R (TF) CNN Example"
   ]
  },
  {
   "cell_type": "code",
   "execution_count": 1,
   "metadata": {},
   "outputs": [],
   "source": [
    "# SETUP\n",
    "#\n",
    "# Install keras R\n",
    "# install.packages('keras')\n",
    "# \n",
    "# Update reticulate from cran (it defaults to mran which has an outdated version)\n",
    "# install.packages(\"reticulate\", repos = \"https://cloud.r-project.org\")\n",
    "#\n",
    "# Install R.matlab, if we're using .mat files for data\n",
    "# install.packages('R.matlab')"
   ]
  },
  {
   "cell_type": "code",
   "execution_count": 2,
   "metadata": {},
   "outputs": [],
   "source": [
    "library(keras)\n",
    "# use_python('C:\\\\Anaconda\\\\envs\\\\py35')\n",
    "use_python('/anaconda/envs/py35')\n",
    "\n",
    "# Import hyper-parameters\n",
    "library(reticulate)\n",
    "source_python(\"./common/params.py\")\n",
    "\n",
    "# Import util functions\n",
    "source(\"./common/utils.R\")"
   ]
  },
  {
   "cell_type": "code",
   "execution_count": 3,
   "metadata": {
    "collapsed": true
   },
   "outputs": [],
   "source": [
    "# Performance Improvement\n",
    "# 1. Make sure channels-first (not last)\n",
    "backend()$set_image_data_format('channels_first')"
   ]
  },
  {
   "cell_type": "code",
   "execution_count": 4,
   "metadata": {},
   "outputs": [
    {
     "name": "stdout",
     "output_type": "stream",
     "text": [
      "[1] \"OS: Linux\"\n",
      "[1] \"R version 3.4.1 (2017-06-30)\"\n",
      "[1] \"Keras: 2.0.6\"\n",
      "[1] \"Tensorflow: 1.3.1\"\n",
      "[1] \"Keras using tensorflow\"\n",
      "[1] \"Keras channel ordering is channels_first\"\n"
     ]
    }
   ],
   "source": [
    "# py_config()\n",
    "print(paste0(\"OS: \", Sys.info()[\"sysname\"]))\n",
    "print(R.version$version.string)\n",
    "print(paste0(\"Keras: \", packageVersion(\"keras\")))\n",
    "print(paste0(\"Tensorflow: \", packageVersion(\"tensorflow\")))\n",
    "print(paste0(\"Keras using \", backend()$backend()))\n",
    "print(paste0(\"Keras channel ordering is \", backend()$image_data_format())) "
   ]
  },
  {
   "cell_type": "code",
   "execution_count": 5,
   "metadata": {
    "collapsed": true
   },
   "outputs": [],
   "source": [
    "create_symbol <- function(n_classes = N_CLASSES){\n",
    "    \n",
    "    # initialize a sequential model\n",
    "    model <- keras_model_sequential() %>%\n",
    "    \n",
    "    # 2D convolutional layers being fed 32x32 pixel images   \n",
    "    layer_conv_2d(filters = 50, kernel_size = c(3, 3), padding = \"same\", activation = \"relu\", input_shape = c(3, 32, 32)) %>%\n",
    "    layer_conv_2d(filters = 50, kernel_size = c(3, 3), padding = \"same\", activation = \"relu\") %>%\n",
    "    \n",
    "    # max pooling\n",
    "    layer_max_pooling_2d(pool_size = c(2, 2), strides = c(2, 2)) %>%\n",
    "    layer_dropout(0.25) %>%\n",
    "\n",
    "    # 2D convolutional layers \n",
    "    layer_conv_2d(filters = 100, kernel_size = c(3, 3), padding = \"same\", activation = \"relu\") %>%\n",
    "    layer_conv_2d(filters = 100, kernel_size = c(3, 3), padding = \"same\", activation = \"relu\") %>%\n",
    "    \n",
    "    # max pooling\n",
    "    layer_max_pooling_2d(pool_size = c(2, 2), strides = c(2, 2)) %>%\n",
    "    layer_dropout(0.25) %>%\n",
    "\n",
    "    # flatten into feature vector\n",
    "    layer_flatten() %>%\n",
    "    layer_dense(512, activation = \"relu\") %>%\n",
    "    layer_dropout(0.5) %>%\n",
    "    layer_dense(n_classes, activation = \"softmax\")  \n",
    "    \n",
    "    return(model)\n",
    "}"
   ]
  },
  {
   "cell_type": "code",
   "execution_count": 6,
   "metadata": {
    "collapsed": true
   },
   "outputs": [],
   "source": [
    "init_model <- function(m, lr=LR, momentum=MOMENTUM){\n",
    "    m %>% compile(\n",
    "      loss = \"categorical_crossentropy\",\n",
    "      optimizer = optimizer_sgd(lr, momentum),\n",
    "      metrics = \"accuracy\"\n",
    "    )\n",
    "    return(m)\n",
    "}"
   ]
  },
  {
   "cell_type": "code",
   "execution_count": 7,
   "metadata": {},
   "outputs": [
    {
     "name": "stderr",
     "output_type": "stream",
     "text": [
      "Loading required package: R.matlab\n",
      "R.matlab v3.6.1 (2016-10-19) successfully loaded. See ?R.matlab for help.\n",
      "\n",
      "Attaching package: ‘R.matlab’\n",
      "\n",
      "The following object is masked from ‘package:keras’:\n",
      "\n",
      "    evaluate\n",
      "\n",
      "The following objects are masked from ‘package:base’:\n",
      "\n",
      "    getOption, isOpen\n",
      "\n"
     ]
    },
    {
     "name": "stdout",
     "output_type": "stream",
     "text": [
      "[1] \"Preparing train set ...\"\n",
      "[1] \"Preparing test set ...\"\n"
     ]
    }
   ],
   "source": [
    "# Data Preparation \n",
    "cifar <- cifar_for_library(one_hot = TRUE)\n",
    "x_train <- cifar$x_train\n",
    "y_train <- cifar$y_train\n",
    "x_test <- cifar$x_test\n",
    "y_test <- cifar$y_test\n",
    "\n",
    "rm(cifar)"
   ]
  },
  {
   "cell_type": "code",
   "execution_count": 8,
   "metadata": {
    "scrolled": true
   },
   "outputs": [
    {
     "name": "stdout",
     "output_type": "stream",
     "text": [
      "x_train shape: 50000 3 32 32 \n",
      "x_test shape: 10000 3 32 32 \n",
      "y_train shape: 50000 10 \n",
      "y_test shape: 10000 10 \n"
     ]
    }
   ],
   "source": [
    "cat('x_train shape:', dim(x_train), '\\n')\n",
    "cat('x_test shape:', dim(x_test), '\\n')\n",
    "cat('y_train shape:', dim(y_train), '\\n')\n",
    "cat('y_test shape:', dim(y_test), '\\n')"
   ]
  },
  {
   "cell_type": "code",
   "execution_count": 9,
   "metadata": {
    "collapsed": true
   },
   "outputs": [],
   "source": [
    "# Load symbol\n",
    "sym = create_symbol()"
   ]
  },
  {
   "cell_type": "code",
   "execution_count": 10,
   "metadata": {
    "collapsed": true
   },
   "outputs": [],
   "source": [
    "# Initialise model\n",
    "model = init_model(sym)"
   ]
  },
  {
   "cell_type": "code",
   "execution_count": 12,
   "metadata": {
    "scrolled": true
   },
   "outputs": [],
   "source": [
    "# summary(model)"
   ]
  },
  {
   "cell_type": "code",
   "execution_count": 13,
   "metadata": {
    "collapsed": true
   },
   "outputs": [],
   "source": [
    "# Main training loop\n",
    "model %>% fit(\n",
    "    x_train, y_train,\n",
    "    batch_size = BATCHSIZE,\n",
    "    epochs = EPOCHS,\n",
    "    verbose = 1)"
   ]
  },
  {
   "cell_type": "code",
   "execution_count": 14,
   "metadata": {
    "collapsed": true
   },
   "outputs": [],
   "source": [
    "# Main evaluation loop\n",
    "y_guess <- model %>% predict_classes(x_test, batch_size = BATCHSIZE)\n",
    "y_truth <- apply(y_test, 1, function(x) which.max(x)-1)"
   ]
  },
  {
   "cell_type": "code",
   "execution_count": 15,
   "metadata": {},
   "outputs": [
    {
     "name": "stdout",
     "output_type": "stream",
     "text": [
      "[1] \"Accuracy: 0.7776\"\n"
     ]
    }
   ],
   "source": [
    "print(paste0(\"Accuracy: \", sum(y_guess == y_truth)/length(y_guess)))"
   ]
  },
  {
   "cell_type": "code",
   "execution_count": null,
   "metadata": {
    "collapsed": true
   },
   "outputs": [],
   "source": []
  }
 ],
 "metadata": {
  "kernelspec": {
   "display_name": "R",
   "language": "R",
   "name": "ir"
  },
  "language_info": {
   "codemirror_mode": "r",
   "file_extension": ".r",
   "mimetype": "text/x-r-source",
   "name": "R",
   "pygments_lexer": "r",
   "version": "3.4.1"
  }
 },
 "nbformat": 4,
 "nbformat_minor": 2
}
