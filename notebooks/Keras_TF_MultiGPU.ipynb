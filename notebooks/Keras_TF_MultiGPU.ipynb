{
 "cells": [
  {
   "cell_type": "code",
   "execution_count": 1,
   "metadata": {},
   "outputs": [
    {
     "name": "stderr",
     "output_type": "stream",
     "text": [
      "Using TensorFlow backend.\n"
     ]
    }
   ],
   "source": [
    "import os\n",
    "import sys\n",
    "import time\n",
    "import pandas as pd\n",
    "import numpy as np\n",
    "os.environ['KERAS_BACKEND'] = \"tensorflow\"\n",
    "import keras as K\n",
    "import tensorflow\n",
    "import multiprocessing\n",
    "from keras.preprocessing.image import ImageDataGenerator\n",
    "from keras.applications.densenet import DenseNet121, preprocess_input\n",
    "from keras.optimizers import Adam\n",
    "from keras.callbacks import ReduceLROnPlateau, Callback, ModelCheckpoint\n",
    "from keras.layers import Dense\n",
    "from keras.models import Model\n",
    "from keras.utils import multi_gpu_model\n",
    "from sklearn.metrics.ranking import roc_auc_score\n",
    "from sklearn.model_selection import train_test_split\n",
    "from common.utils import *"
   ]
  },
  {
   "cell_type": "code",
   "execution_count": 2,
   "metadata": {},
   "outputs": [],
   "source": [
    "# Performance Improvement\n",
    "# 1. Make sure channels-first (not last)\n",
    "K.backend.set_image_data_format('channels_first')"
   ]
  },
  {
   "cell_type": "code",
   "execution_count": 3,
   "metadata": {},
   "outputs": [
    {
     "name": "stdout",
     "output_type": "stream",
     "text": [
      "OS:  linux\n",
      "Python:  3.5.2 |Anaconda custom (64-bit)| (default, Jul  2 2016, 17:53:06) \n",
      "[GCC 4.4.7 20120313 (Red Hat 4.4.7-1)]\n",
      "Keras:  2.1.4\n",
      "Numpy:  1.14.1\n",
      "Tensorflow:  1.4.0\n",
      "tensorflow\n",
      "channels_first\n",
      "GPU:  ['Tesla P100-PCIE-16GB', 'Tesla P100-PCIE-16GB']\n",
      "CUDA Version 8.0.61\n",
      "CuDNN Version  6.0.21\n"
     ]
    }
   ],
   "source": [
    "print(\"OS: \", sys.platform)\n",
    "print(\"Python: \", sys.version)\n",
    "print(\"Keras: \", K.__version__)\n",
    "print(\"Numpy: \", np.__version__)\n",
    "print(\"Tensorflow: \", tensorflow.__version__)\n",
    "print(K.backend.backend())\n",
    "print(K.backend.image_data_format())\n",
    "print(\"GPU: \", get_gpu_name())\n",
    "print(get_cuda_version())\n",
    "print(\"CuDNN Version \", get_cudnn_version())"
   ]
  },
  {
   "cell_type": "code",
   "execution_count": 4,
   "metadata": {},
   "outputs": [
    {
     "name": "stdout",
     "output_type": "stream",
     "text": [
      "12\n"
     ]
    }
   ],
   "source": [
    "# User-set\n",
    "# Note if NUM_GPUS > 1 then MULTI_GPU = True and ALL GPUs will be used\n",
    "# Set below to affect batch-size\n",
    "# E.g. 1 GPU = 64, 2 GPUs = 64*2, 4 GPUs = 64*4\n",
    "# Note that the effective learning-rate will be decreased this way\n",
    "NUM_GPUS = 2 # Scaling factor for batch\n",
    "NUM_CPUS = multiprocessing.cpu_count()\n",
    "print(NUM_CPUS)"
   ]
  },
  {
   "cell_type": "code",
   "execution_count": 5,
   "metadata": {},
   "outputs": [],
   "source": [
    "# Globals\n",
    "CLASSES = 14\n",
    "WIDTH = 224\n",
    "HEIGHT = 224\n",
    "CHANNELS = 3\n",
    "LR = 0.0001  # Effective learning-rate will decrease as BATCHSIZE rises\n",
    "EPOCHS = 5\n",
    "BATCHSIZE = 64*NUM_GPUS\n",
    "#IMAGENET_RGB_MEAN = [0.485, 0.456, 0.406]\n",
    "#IMAGENET_RGB_SD = [0.229, 0.224, 0.225]\n",
    "TOT_PATIENT_NUMBER = 30805  # From data"
   ]
  },
  {
   "cell_type": "code",
   "execution_count": 6,
   "metadata": {},
   "outputs": [
    {
     "name": "stdout",
     "output_type": "stream",
     "text": [
      "chestxray/images chestxray/Data_Entry_2017.csv\n"
     ]
    }
   ],
   "source": [
    "# Paths\n",
    "CSV_DEST = \"chestxray\"\n",
    "IMAGE_FOLDER = os.path.join(CSV_DEST, \"images\")\n",
    "LABEL_FILE = os.path.join(CSV_DEST, \"Data_Entry_2017.csv\")\n",
    "print(IMAGE_FOLDER, LABEL_FILE)"
   ]
  },
  {
   "cell_type": "code",
   "execution_count": 7,
   "metadata": {},
   "outputs": [
    {
     "name": "stdout",
     "output_type": "stream",
     "text": [
      "Please make sure to download\n",
      "https://docs.microsoft.com/en-us/azure/storage/common/storage-use-azcopy-linux#download-and-install-azcopy\n",
      "Data already exists\n",
      "CPU times: user 625 ms, sys: 244 ms, total: 869 ms\n",
      "Wall time: 869 ms\n"
     ]
    }
   ],
   "source": [
    "%%time\n",
    "# Download data\n",
    "print(\"Please make sure to download\")\n",
    "print(\"https://docs.microsoft.com/en-us/azure/storage/common/storage-use-azcopy-linux#download-and-install-azcopy\")\n",
    "download_data_chextxray(CSV_DEST)"
   ]
  },
  {
   "cell_type": "code",
   "execution_count": 8,
   "metadata": {},
   "outputs": [],
   "source": [
    "#####################################################################################################\n",
    "## Data Loading"
   ]
  },
  {
   "cell_type": "code",
   "execution_count": 43,
   "metadata": {},
   "outputs": [],
   "source": [
    "class XrayData():\n",
    "    \n",
    "    def __init__(self, img_dir, lbl_file, patient_ids, \n",
    "                 width=WIDTH, height=HEIGHT, batch_size=BATCHSIZE, num_classes=CLASSES,\n",
    "                 shuffle=True, seed=None, augment=False):\n",
    "        \n",
    "        self.patient_ids = patient_ids\n",
    "        self.lbl_file = lbl_file\n",
    "        \n",
    "        # Hack for flow_from_directory to work, give it path above\n",
    "        self.child_path  = os.path.split(img_dir)[-1]\n",
    "        self.parent_path =  img_dir.replace(self.child_path,'')\n",
    "        \n",
    "        # Create ImageDataGenerator with DenseNet pre-processing\n",
    "        # imagenet_utils.preprocess_input(x, data_format, mode='torch')\n",
    "        if augment:\n",
    "            datagen = ImageDataGenerator(\n",
    "                horizontal_flip=True,\n",
    "                # Best match to?\n",
    "                # transforms.RandomResizedCrop(size=WIDTH),\n",
    "                zoom_range=0.2,  \n",
    "                rotation_range=10,\n",
    "                preprocessing_function=preprocess_input)\n",
    "        else:\n",
    "             datagen = ImageDataGenerator(preprocessing_function=preprocess_input)    \n",
    "\n",
    "        # Create flow-from-directory\n",
    "        flowgen = datagen.flow_from_directory(\n",
    "            directory=self.parent_path,  # hack: this is one directory up\n",
    "            target_size=(width, height),\n",
    "            batch_size=batch_size,\n",
    "            shuffle=shuffle,\n",
    "            seed=seed,\n",
    "            class_mode='binary')    \n",
    "        \n",
    "        # Override previously created classes variables\n",
    "        # filenames, classes\n",
    "        flowgen.filenames, flowgen.classes = self._override_classes()\n",
    "        # number of files\n",
    "        flowgen.n = len(flowgen.filenames)\n",
    "        # number of classes (not sure if this last one needed)\n",
    "        flowgen.num_classes = num_classes\n",
    "        \n",
    "        self.generator = flowgen\n",
    "        print(\"Loaded {} labels and {} images\".format(len(self.generator.classes), \n",
    "                                                      len(self.generator.filenames)))\n",
    "\n",
    "    \n",
    "    def _override_classes(self):\n",
    "        # Read labels-csv\n",
    "        df = pd.read_csv(self.lbl_file)\n",
    "\n",
    "        # Split labels on unfiltered data\n",
    "        df_label = df['Finding Labels'].str.split(\n",
    "            '|', expand=False).str.join(sep='*').str.get_dummies(sep='*')\n",
    "        \n",
    "        # Filter by patient-ids (both)\n",
    "        df_label['Patient ID'] = df['Patient ID']\n",
    "        \n",
    "        df_label = df_label[df_label['Patient ID'].isin(self.patient_ids)]\n",
    "        df = df[df['Patient ID'].isin(self.patient_ids)]\n",
    "\n",
    "        # Remove unncessary columns\n",
    "        df_label.drop(['Patient ID','No Finding'], axis=1, inplace=True)\n",
    "        \n",
    "        # List of images       \n",
    "        img_locs =  df['Image Index'].map(lambda im: os.path.join(self.child_path, im)).values\n",
    "        labels = df_label.values\n",
    "        # Return new file-names and labels\n",
    "        return img_locs, labels"
   ]
  },
  {
   "cell_type": "code",
   "execution_count": 44,
   "metadata": {},
   "outputs": [
    {
     "name": "stdout",
     "output_type": "stream",
     "text": [
      "train:21563 valid:3080 test:6162\n"
     ]
    }
   ],
   "source": [
    "# Training / Valid / Test split (70% / 10% / 20%)\n",
    "train_set, other_set = train_test_split(\n",
    "    range(1,TOT_PATIENT_NUMBER+1), train_size=0.7, test_size=0.3, shuffle=False)\n",
    "valid_set, test_set = train_test_split(other_set, train_size=1/3, test_size=2/3, shuffle=False)\n",
    "print(\"train:{} valid:{} test:{}\".format(\n",
    "    len(train_set), len(valid_set), len(test_set)))"
   ]
  },
  {
   "cell_type": "code",
   "execution_count": 45,
   "metadata": {},
   "outputs": [
    {
     "name": "stdout",
     "output_type": "stream",
     "text": [
      "Found 112120 images belonging to 1 classes.\n",
      "Loaded 87306 labels and 87306 images\n"
     ]
    }
   ],
   "source": [
    "train_dataset = XrayData(IMAGE_FOLDER, LABEL_FILE, train_set, augment=True).generator"
   ]
  },
  {
   "cell_type": "code",
   "execution_count": 46,
   "metadata": {},
   "outputs": [
    {
     "name": "stdout",
     "output_type": "stream",
     "text": [
      "Found 112120 images belonging to 1 classes.\n",
      "Loaded 7616 labels and 7616 images\n",
      "Found 112120 images belonging to 1 classes.\n",
      "Loaded 17198 labels and 17198 images\n"
     ]
    }
   ],
   "source": [
    "valid_dataset = XrayData(IMAGE_FOLDER, LABEL_FILE, valid_set, shuffle=False).generator\n",
    "test_dataset = XrayData(IMAGE_FOLDER, LABEL_FILE, test_set, shuffle=False).generator"
   ]
  },
  {
   "cell_type": "code",
   "execution_count": 13,
   "metadata": {},
   "outputs": [],
   "source": [
    "#####################################################################################################\n",
    "## Helper Functions"
   ]
  },
  {
   "cell_type": "code",
   "execution_count": 14,
   "metadata": {},
   "outputs": [],
   "source": [
    "def get_symbol(model_name='densenet121', out_features=CLASSES):\n",
    "    # Recommended to instantiate base model on CPU\n",
    "    # https://keras.io/utils/#multi_gpu_model\n",
    "    # Yet another Keras hack ...\n",
    "    with tensorflow.device('/cpu:0'):\n",
    "        if model_name == 'densenet121':\n",
    "            model = DenseNet121(input_shape=(3, 224, 224), weights='imagenet', include_top=False, pooling='avg')\n",
    "        else:\n",
    "            raise ValueError(\"Unknown model-name\")\n",
    "        # Add classifier to model FC-14\n",
    "        classifier = Dense(out_features, activation='sigmoid')(model.output)\n",
    "        model = Model(inputs=model.input, outputs=classifier)\n",
    "    return model"
   ]
  },
  {
   "cell_type": "code",
   "execution_count": 15,
   "metadata": {},
   "outputs": [],
   "source": [
    "def init_symbol(sym, lr=LR):\n",
    "    # BCE Loss since classes not mutually exclusive + Sigmoid FC-layer\n",
    "    sym.compile(\n",
    "        loss = \"binary_crossentropy\",\n",
    "        optimizer = Adam(lr, beta_1=0.9, beta_2=0.999, epsilon=None))\n",
    "    # Callbacks\n",
    "    sch = ReduceLROnPlateau(monitor='val_loss', factor=0.1, patience=5, verbose=1)\n",
    "    #This doesnt work with Keras multi-gpu\n",
    "    #Don't want to add another hack to get it fixed\n",
    "    #chp = ModelCheckpoint('best_chexnet.pth.hdf5', monitor='val_loss', save_weights_only=False)\n",
    "    callbacks = [sch]\n",
    "    return sym, callbacks"
   ]
  },
  {
   "cell_type": "code",
   "execution_count": 16,
   "metadata": {},
   "outputs": [],
   "source": [
    "def compute_roc_auc(data_gt, data_pd, full=True, classes=CLASSES):\n",
    "    roc_auc = []\n",
    "    for i in range(classes):\n",
    "        roc_auc.append(roc_auc_score(data_gt[:, i], data_pd[:, i]))\n",
    "    print(\"Full AUC\", roc_auc)\n",
    "    roc_auc = np.mean(roc_auc)\n",
    "    return roc_auc"
   ]
  },
  {
   "cell_type": "code",
   "execution_count": 17,
   "metadata": {},
   "outputs": [],
   "source": [
    "#####################################################################################################\n",
    "## Train CheXNet"
   ]
  },
  {
   "cell_type": "code",
   "execution_count": 18,
   "metadata": {},
   "outputs": [
    {
     "name": "stdout",
     "output_type": "stream",
     "text": [
      "CPU times: user 18.8 s, sys: 1.37 s, total: 20.2 s\n",
      "Wall time: 19.8 s\n"
     ]
    }
   ],
   "source": [
    "%%time\n",
    "# Load symbol\n",
    "chexnet_sym = get_symbol()"
   ]
  },
  {
   "cell_type": "code",
   "execution_count": 19,
   "metadata": {},
   "outputs": [
    {
     "name": "stdout",
     "output_type": "stream",
     "text": [
      "CPU times: user 23.9 s, sys: 419 ms, total: 24.3 s\n",
      "Wall time: 24 s\n"
     ]
    }
   ],
   "source": [
    "%%time\n",
    "# Load optimiser, loss\n",
    "multi_gpu_sym = multi_gpu_model(chexnet_sym, gpus=NUM_GPUS)\n",
    "model, callbacks = init_symbol(multi_gpu_sym)"
   ]
  },
  {
   "cell_type": "code",
   "execution_count": 21,
   "metadata": {},
   "outputs": [
    {
     "name": "stdout",
     "output_type": "stream",
     "text": [
      "Epoch 1/5\n",
      "683/683 [==============================] - 405s 593ms/step - loss: 0.2037 - val_loss: 0.1523\n",
      "Epoch 2/5\n",
      "683/683 [==============================] - 366s 536ms/step - loss: 0.1517 - val_loss: 0.1454\n",
      "Epoch 3/5\n",
      "683/683 [==============================] - 368s 539ms/step - loss: 0.1473 - val_loss: 0.1483\n",
      "Epoch 4/5\n",
      "683/683 [==============================] - 368s 538ms/step - loss: 0.1443 - val_loss: 0.1409\n",
      "Epoch 5/5\n",
      "683/683 [==============================] - 368s 540ms/step - loss: 0.1417 - val_loss: 0.1397\n",
      "CPU times: user 59min 36s, sys: 17min 6s, total: 1h 16min 43s\n",
      "Wall time: 31min 38s\n"
     ]
    },
    {
     "data": {
      "text/plain": [
       "<keras.callbacks.History at 0x7fbf94b0b630>"
      ]
     },
     "execution_count": 21,
     "metadata": {},
     "output_type": "execute_result"
    }
   ],
   "source": [
    "%%time\n",
    "# Training loop: 31m38s\n",
    "model.fit_generator(train_dataset,\n",
    "                    epochs=EPOCHS,\n",
    "                    verbose=1,\n",
    "                    callbacks=callbacks,\n",
    "                    workers=NUM_CPUS,  # Num of CPUs since multiprocessing\n",
    "                    use_multiprocessing=True,  # Faster than with threading\n",
    "                    validation_data=valid_dataset,\n",
    "                    max_queue_size=20)  # Default is 10 (most prob no difference)"
   ]
  },
  {
   "cell_type": "code",
   "execution_count": 49,
   "metadata": {},
   "outputs": [],
   "source": [
    "#####################################################################################################\n",
    "## Test CheXNet"
   ]
  },
  {
   "cell_type": "code",
   "execution_count": 50,
   "metadata": {},
   "outputs": [],
   "source": [
    "# Load model for testing\n",
    "# Currently multi-GPU checkpointing is broken on Keras\n",
    "# For now use in-RAM model"
   ]
  },
  {
   "cell_type": "code",
   "execution_count": 51,
   "metadata": {},
   "outputs": [
    {
     "name": "stdout",
     "output_type": "stream",
     "text": [
      "CPU times: user 6min 7s, sys: 1min 23s, total: 7min 30s\n",
      "Wall time: 1min 46s\n"
     ]
    }
   ],
   "source": [
    "%%time\n",
    "## Evaluate\n",
    "# AUC: 0.8174\n",
    "y_guess = model.predict_generator(test_dataset, workers=NUM_CPUS)"
   ]
  },
  {
   "cell_type": "code",
   "execution_count": 52,
   "metadata": {},
   "outputs": [
    {
     "name": "stdout",
     "output_type": "stream",
     "text": [
      "Full AUC [0.8111778411803284, 0.8640277398006696, 0.8005941321547805, 0.8917648363461342, 0.8820978933695289, 0.9348748895066568, 0.7213946018481607, 0.8607471465175869, 0.6317882959983487, 0.85477878143565, 0.7437874984083546, 0.8049289766045833, 0.7531004915756688, 0.8884164796734438]\n",
      "Validation AUC: 0.8174\n"
     ]
    }
   ],
   "source": [
    "print(\"Validation AUC: {0:.4f}\".format(compute_roc_auc(test_dataset.classes, y_guess)))"
   ]
  }
 ],
 "metadata": {
  "kernelspec": {
   "display_name": "Python 3",
   "language": "python",
   "name": "python3"
  },
  "language_info": {
   "codemirror_mode": {
    "name": "ipython",
    "version": 3
   },
   "file_extension": ".py",
   "mimetype": "text/x-python",
   "name": "python",
   "nbconvert_exporter": "python",
   "pygments_lexer": "ipython3",
   "version": "3.5.2"
  }
 },
 "nbformat": 4,
 "nbformat_minor": 2
}
