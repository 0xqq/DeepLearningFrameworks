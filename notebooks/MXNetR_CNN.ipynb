{
 "cells": [
  {
   "cell_type": "code",
   "execution_count": 1,
   "metadata": {},
   "outputs": [],
   "source": [
    "library(mxnet)"
   ]
  },
  {
   "cell_type": "code",
   "execution_count": 2,
   "metadata": {},
   "outputs": [
    {
     "name": "stderr",
     "output_type": "stream",
     "text": [
      "Loading required package: rjson\n"
     ]
    }
   ],
   "source": [
    "# Import util functions\n",
    "source(\"./common/utils.R\")\n",
    "\n",
    "# Import hyper-parameters\n",
    "params <- load_params(\"cnn\")"
   ]
  },
  {
   "cell_type": "code",
   "execution_count": 3,
   "metadata": {},
   "outputs": [
    {
     "name": "stdout",
     "output_type": "stream",
     "text": [
      "[1] \"OS: Linux\"\n",
      "[1] \"R version 3.4.3 (2017-11-30)\"\n",
      "[1] \"MXnet: 1.2.0\"\n"
     ]
    }
   ],
   "source": [
    "print(paste0(\"OS: \", Sys.info()[\"sysname\"]))\n",
    "print(R.version$version.string)\n",
    "print(paste0(\"MXnet: \", packageVersion(\"mxnet\")))"
   ]
  },
  {
   "cell_type": "code",
   "execution_count": 4,
   "metadata": {},
   "outputs": [],
   "source": [
    "create_symbol <- function(){\n",
    "  \n",
    "  data <- mx.symbol.Variable('data')\n",
    "  # size = [(old-size - kernel + 2*padding)/stride]+1\n",
    "  # if kernel = 3, pad with 1 either side\n",
    "  conv1 <- mx.symbol.Convolution(data=data, num_filter=50, pad=c(1,1), kernel=c(3,3))\n",
    "  relu1 <- mx.symbol.Activation(data=conv1, act_type=\"relu\")\n",
    "  conv2 <- mx.symbol.Convolution(data=relu1, num_filter=50, pad=c(1,1), kernel=c(3,3))\n",
    "  pool1 <- mx.symbol.Pooling(data=conv2, pool_type=\"max\", kernel=c(2,2), stride=c(2,2))\n",
    "  relu2 <- mx.symbol.Activation(data=pool1, act_type=\"relu\")\n",
    "  drop1 <- mx.symbol.Dropout(data=relu2, p=0.25)\n",
    "  \n",
    "  conv3 <- mx.symbol.Convolution(data=drop1, num_filter=100, pad=c(1,1), kernel=c(3,3))\n",
    "  relu3 <- mx.symbol.Activation(data=conv3, act_type=\"relu\")\n",
    "  conv4 <- mx.symbol.Convolution(data=relu3, num_filter=100, pad=c(1,1), kernel=c(3,3))\n",
    "  pool2 <- mx.symbol.Pooling(data=conv4, pool_type=\"max\", kernel=c(2,2), stride=c(2,2))\n",
    "  relu4 <- mx.symbol.Activation(data=pool2, act_type=\"relu\")\n",
    "  drop2 <- mx.symbol.Dropout(data=relu4, p=0.25)\n",
    "  \n",
    "  flat1 <- mx.symbol.Flatten(data=drop2)\n",
    "  fc1 <- mx.symbol.FullyConnected(data=flat1, num_hidden=512)\n",
    "  relu7 <- mx.symbol.Activation(data=fc1, act_type=\"relu\")\n",
    "  drop4 <- mx.symbol.Dropout(data=relu7, p=0.5)\n",
    "  fc2 <- mx.symbol.FullyConnected(data=drop4, num_hidden=params$N_CLASSES) \n",
    "  \n",
    "  input_y <- mx.symbol.Variable('softmax_label')  \n",
    "  mx.symbol.SoftmaxOutput(data=fc2, label=input_y, name=\"softmax\")\n",
    "  \n",
    "}"
   ]
  },
  {
   "cell_type": "code",
   "execution_count": 5,
   "metadata": {},
   "outputs": [],
   "source": [
    "cifar <- maybe_download_cifar()\n",
    "x_train <- cifar$x_train\n",
    "y_train <- cifar$y_train\n",
    "x_test <- cifar$x_test\n",
    "y_test <- cifar$y_test\n",
    "\n",
    "rm(cifar)"
   ]
  },
  {
   "cell_type": "code",
   "execution_count": 6,
   "metadata": {},
   "outputs": [
    {
     "name": "stdout",
     "output_type": "stream",
     "text": [
      "x_train shape: 32 32 3 50000 \n",
      "x_test shape: 32 32 3 10000 \n",
      "y_train shape: 50000 \n",
      "y_test shape: 10000 \n"
     ]
    }
   ],
   "source": [
    "cat('x_train shape:', dim(x_train), '\\n')\n",
    "cat('x_test shape:', dim(x_test), '\\n')\n",
    "cat('y_train shape:', length(y_train), '\\n')\n",
    "cat('y_test shape:', length(y_test), '\\n')"
   ]
  },
  {
   "cell_type": "code",
   "execution_count": 7,
   "metadata": {},
   "outputs": [],
   "source": [
    "sym <- create_symbol()"
   ]
  },
  {
   "cell_type": "code",
   "execution_count": 8,
   "metadata": {},
   "outputs": [],
   "source": [
    "if (params$GPU) {\n",
    "  ctx = mx.gpu(0)\n",
    "} else {\n",
    "  ctx = mx.cpu()\n",
    "}"
   ]
  },
  {
   "cell_type": "code",
   "execution_count": null,
   "metadata": {},
   "outputs": [],
   "source": [
    "# TODO: change BATCHSIZE back to default\n",
    "params$BATCHSIZE <- 16"
   ]
  },
  {
   "cell_type": "code",
   "execution_count": 9,
   "metadata": {},
   "outputs": [],
   "source": [
    "train_iter <- mx.io.arrayiter(x_train, y_train, batch.size = params$BATCHSIZE, shuffle = TRUE)"
   ]
  },
  {
   "cell_type": "code",
   "execution_count": 10,
   "metadata": {},
   "outputs": [
    {
     "name": "stderr",
     "output_type": "stream",
     "text": [
      "Start training with 1 devices\n",
      "[1] Train-accuracy=0.359254961587708\n",
      "[2] Train-accuracy=0.50724\n",
      "[3] Train-accuracy=0.56146\n",
      "[4] Train-accuracy=0.59654\n",
      "[5] Train-accuracy=0.61224\n",
      "[6] Train-accuracy=0.62256\n",
      "[7] Train-accuracy=0.6273\n",
      "[8] Train-accuracy=0.62732\n",
      "[9] Train-accuracy=0.62336\n",
      "[10] Train-accuracy=0.62566\n"
     ]
    },
    {
     "data": {
      "text/plain": [
       "Time difference of 2.985388 mins"
      ]
     },
     "metadata": {},
     "output_type": "display_data"
    }
   ],
   "source": [
    "start.time <- Sys.time()\n",
    "\n",
    "model <- mx.model.FeedForward.create(\n",
    "  symbol = sym,\n",
    "  X = train_iter,\n",
    "  ctx = ctx,\n",
    "  num.round = params$EPOCHS,\n",
    "  learning.rate = params$LR,\n",
    "  momentum = params$MOMENTUM,\n",
    "  eval.metric = mx.metric.accuracy,\n",
    "  initializer = mx.init.Xavier(rnd_type = 'uniform'),\n",
    "  epoch.end.callback = mx.callback.log.train.metric(100)\n",
    ")\n",
    "\n",
    "end.time <- Sys.time()\n",
    "time.taken <- end.time - start.time\n",
    "time.taken"
   ]
  },
  {
   "cell_type": "code",
   "execution_count": 13,
   "metadata": {},
   "outputs": [
    {
     "data": {
      "text/plain": [
       "Time difference of 33.09693 secs"
      ]
     },
     "metadata": {},
     "output_type": "display_data"
    },
    {
     "name": "stdout",
     "output_type": "stream",
     "text": [
      "[1] \"Accuracy: 0.6672\"\n"
     ]
    }
   ],
   "source": [
    "start.time <- Sys.time()\n",
    "\n",
    "y_guess <- predict(model, mx.io.arrayiter(x_test, y_test, batch.size = params$BATCHSIZE, shuffle = FALSE))\n",
    "y_guess <- apply(y_guess, 2, function(x) which(x==max(x))-1)\n",
    "\n",
    "end.time <- Sys.time()\n",
    "time.taken <- end.time - start.time\n",
    "time.taken\n",
    "\n",
    "print(paste(\"Accuracy:\", sum(y_guess == y_test)/length(y_guess)))"
   ]
  },
  {
   "cell_type": "code",
   "execution_count": null,
   "metadata": {},
   "outputs": [],
   "source": []
  }
 ],
 "metadata": {
  "kernelspec": {
   "display_name": "R",
   "language": "R",
   "name": "ir"
  },
  "language_info": {
   "codemirror_mode": "r",
   "file_extension": ".r",
   "mimetype": "text/x-r-source",
   "name": "R",
   "pygments_lexer": "r",
   "version": "3.4.3"
  }
 },
 "nbformat": 4,
 "nbformat_minor": 2
}
