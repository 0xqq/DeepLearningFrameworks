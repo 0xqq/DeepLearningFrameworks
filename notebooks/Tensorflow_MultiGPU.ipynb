{
 "cells": [
  {
   "cell_type": "code",
   "execution_count": 1,
   "metadata": {},
   "outputs": [],
   "source": [
    "#Not working"
   ]
  },
  {
   "cell_type": "code",
   "execution_count": 2,
   "metadata": {},
   "outputs": [],
   "source": [
    "import os\n",
    "import sys\n",
    "import time\n",
    "import multiprocessing\n",
    "import numpy as np\n",
    "import pandas as pd\n",
    "import tensorflow as tf\n",
    "from nets import densenet  # Download from https://github.com/pudae/tensorflow-densenet\n",
    "from tensorflow.python.framework import dtypes\n",
    "from tensorflow.python.framework.ops import convert_to_tensor\n",
    "from tensorflow.contrib.data import Iterator\n",
    "from tensorflow.contrib.slim.python.slim.nets import resnet_v1\n",
    "from PIL import Image\n",
    "import random\n",
    "from common.utils import download_data_chextxray, get_imgloc_labels, get_train_valid_test_split\n",
    "from common.utils import compute_roc_auc\n",
    "slim = tf.contrib.slim"
   ]
  },
  {
   "cell_type": "code",
   "execution_count": 3,
   "metadata": {},
   "outputs": [
    {
     "data": {
      "text/plain": [
       "'1.4.0'"
      ]
     },
     "execution_count": 3,
     "metadata": {},
     "output_type": "execute_result"
    }
   ],
   "source": [
    "tf.__version__"
   ]
  },
  {
   "cell_type": "code",
   "execution_count": 4,
   "metadata": {},
   "outputs": [
    {
     "name": "stdout",
     "output_type": "stream",
     "text": [
      "CPUs:  12\n"
     ]
    }
   ],
   "source": [
    "CPU_COUNT = multiprocessing.cpu_count()\n",
    "print(\"CPUs: \", CPU_COUNT)"
   ]
  },
  {
   "cell_type": "code",
   "execution_count": 5,
   "metadata": {},
   "outputs": [],
   "source": [
    "# Globals\n",
    "CLASSES = 14\n",
    "WIDTH = 224\n",
    "HEIGHT = 224\n",
    "CHANNELS = 3\n",
    "LR = 0.0001  # Effective learning-rate will decrease as BATCHSIZE rises\n",
    "EPOCHS = 5\n",
    "BATCHSIZE = 64  # Chainer auto scales batch\n",
    "IMAGENET_RGB_MEAN = np.array([123.68, 116.78, 103.94], dtype=np.float32)\n",
    "IMAGENET_SCALE_FACTOR = 0.017\n",
    "TOT_PATIENT_NUMBER = 30805  # From data"
   ]
  },
  {
   "cell_type": "code",
   "execution_count": 6,
   "metadata": {},
   "outputs": [
    {
     "name": "stdout",
     "output_type": "stream",
     "text": [
      "chestxray/images chestxray/Data_Entry_2017.csv\n"
     ]
    }
   ],
   "source": [
    "# Paths\n",
    "CSV_DEST = \"chestxray\"\n",
    "IMAGE_FOLDER = os.path.join(CSV_DEST, \"images\")\n",
    "LABEL_FILE = os.path.join(CSV_DEST, \"Data_Entry_2017.csv\")\n",
    "print(IMAGE_FOLDER, LABEL_FILE)\n",
    "# Model checkpoint\n",
    "#CHKPOINT = 'tfdensenet/tf-densenet121.ckpt'\n",
    "CHKPOINT = 'resnet_v1_50.ckpt'"
   ]
  },
  {
   "cell_type": "code",
   "execution_count": 7,
   "metadata": {},
   "outputs": [
    {
     "name": "stdout",
     "output_type": "stream",
     "text": [
      "Please make sure to download\n",
      "https://docs.microsoft.com/en-us/azure/storage/common/storage-use-azcopy-linux#download-and-install-azcopy\n",
      "Data already exists\n",
      "CPU times: user 641 ms, sys: 228 ms, total: 870 ms\n",
      "Wall time: 869 ms\n"
     ]
    }
   ],
   "source": [
    "%%time\n",
    "# Download data\n",
    "print(\"Please make sure to download\")\n",
    "print(\"https://docs.microsoft.com/en-us/azure/storage/common/storage-use-azcopy-linux#download-and-install-azcopy\")\n",
    "download_data_chextxray(CSV_DEST)"
   ]
  },
  {
   "cell_type": "code",
   "execution_count": 8,
   "metadata": {},
   "outputs": [],
   "source": [
    "#####################################################################################################\n",
    "## Data Loading"
   ]
  },
  {
   "cell_type": "code",
   "execution_count": 9,
   "metadata": {},
   "outputs": [],
   "source": [
    "class XrayData():\n",
    "    \n",
    "    def __init__(self, img_dir, lbl_file, patient_ids, mode='inference', \n",
    "                 width=WIDTH, height=HEIGHT, batch_size=BATCHSIZE, \n",
    "                 imagenet_mean=IMAGENET_RGB_MEAN, imagenet_scaling = IMAGENET_SCALE_FACTOR):\n",
    "        # Get data\n",
    "        self.img_locs, self.labels = get_imgloc_labels(img_dir, lbl_file, patient_ids)\n",
    "        self.data_size = len(self.labels)\n",
    "        self.imagenet_mean = imagenet_mean\n",
    "        self.imagenet_scaling = imagenet_scaling\n",
    "        self.width = width\n",
    "        self.height = height\n",
    "        # Create dataset\n",
    "        # Performance: https://www.tensorflow.org/versions/master/performance/datasets_performance\n",
    "        # Following: https://stackoverflow.com/a/48096625/6772173\n",
    "        data = tf.data.Dataset.from_tensor_slices((self.img_locs, self.labels))\n",
    "        # Processing\n",
    "        if mode == 'training':\n",
    "            print(\"Training\")\n",
    "            data = data.shuffle(self.data_size).repeat().map(self._parse_function_train,\n",
    "                            num_parallel_calls=CPU_COUNT).prefetch(10*batch_size).batch(batch_size)\n",
    "        else:\n",
    "            print(\"Inference\")\n",
    "            data = data.map(self._parse_function_inference,\n",
    "                            num_parallel_calls=CPU_COUNT).prefetch(10*batch_size).batch(batch_size)\n",
    "        \n",
    "        self.data = data        \n",
    "        print(\"Loaded {} labels and {} images\".format(len(self.labels), len(self.img_locs)))\n",
    "        \n",
    "        \n",
    "    def _parse_function_train(self, filename, label):\n",
    "        img_rgb, label = self._preprocess_image_labels(filename, label)\n",
    "        # Super high CPU usuage bottlenecking GPU\n",
    "        # Random crop\n",
    "        img_rgb = tf.image.resize_images(img_rgb, [self.height+40, self.width+40])\n",
    "        img_rgb = tf.random_crop(img_rgb, [self.height, self.width, 3])\n",
    "        # Random flip\n",
    "        img_rgb = tf.image.random_flip_left_right(img_rgb)\n",
    "        return img_rgb, label\n",
    "        \n",
    "        \n",
    "    def _parse_function_inference(self, filename, label):\n",
    "        img_rgb, label = self._preprocess_image_labels(filename, label)\n",
    "        # Resize to final dimensions\n",
    "        img_rgb = tf.image.resize_images(img_rgb, [self.height, self.width])\n",
    "        return img_rgb, label \n",
    "       \n",
    "    \n",
    "    def _preprocess_image_labels(self, filename, label):\n",
    "        # load and preprocess the image\n",
    "        img_decoded = tf.to_float(tf.image.decode_png(tf.read_file(filename), channels=3))\n",
    "        img_centered = tf.subtract(img_decoded, self.imagenet_mean)\n",
    "        img_rgb = img_centered * self.imagenet_scaling\n",
    "        return img_rgb, tf.cast(label, dtype=tf.float32)"
   ]
  },
  {
   "cell_type": "code",
   "execution_count": 10,
   "metadata": {},
   "outputs": [
    {
     "name": "stdout",
     "output_type": "stream",
     "text": [
      "train:21563 valid:3080 test:6162\n"
     ]
    }
   ],
   "source": [
    "train_set, valid_set, test_set = get_train_valid_test_split(TOT_PATIENT_NUMBER, shuffle=True)"
   ]
  },
  {
   "cell_type": "code",
   "execution_count": 11,
   "metadata": {},
   "outputs": [
    {
     "name": "stdout",
     "output_type": "stream",
     "text": [
      "Training\n",
      "Loaded 78899 labels and 78899 images\n",
      "Inference\n",
      "Loaded 11080 labels and 11080 images\n",
      "Inference\n",
      "Loaded 22141 labels and 22141 images\n"
     ]
    }
   ],
   "source": [
    "with tf.device('/cpu:0'):\n",
    "    # Create dataset for iterator\n",
    "    train_dataset = XrayData(img_dir=IMAGE_FOLDER, lbl_file=LABEL_FILE, patient_ids=train_set,  \n",
    "                             mode='training')\n",
    "    valid_dataset = XrayData(img_dir=IMAGE_FOLDER, lbl_file=LABEL_FILE, patient_ids=valid_set)\n",
    "    test_dataset  = XrayData(img_dir=IMAGE_FOLDER, lbl_file=LABEL_FILE, patient_ids=test_set)"
   ]
  },
  {
   "cell_type": "code",
   "execution_count": 12,
   "metadata": {},
   "outputs": [],
   "source": [
    "#####################################################################################################\n",
    "## Helper Functions"
   ]
  },
  {
   "cell_type": "code",
   "execution_count": 13,
   "metadata": {},
   "outputs": [],
   "source": [
    "def get_symbol(model_name, in_tensor, is_training, chkpoint, out_features):\n",
    "    if model_name == 'resnet50':\n",
    "        # Import symbol\n",
    "        with slim.arg_scope(resnet_v1.resnet_arg_scope()):\n",
    "            base_model, _ = resnet_v1.resnet_v1_50(in_tensor, \n",
    "                                                   num_classes=None, \n",
    "                                                   is_training=is_training)\n",
    "        # Attach extra layers\n",
    "        fc = tf.layers.dense(base_model, out_features, name='output')\n",
    "        # Activation function will be included in loss\n",
    "        sym = tf.reshape(fc, shape=[-1, out_features])\n",
    "    elif model_name == 'densenet121':\n",
    "        pass\n",
    "    else:\n",
    "        raise ValueError(\"Unknown model-name\")\n",
    "    return sym"
   ]
  },
  {
   "cell_type": "code",
   "execution_count": 14,
   "metadata": {},
   "outputs": [],
   "source": [
    "def model_fn(features, labels, mode, params):\n",
    "    # Create symbol\n",
    "    # is_training=True?\n",
    "    # https://github.com/tensorflow/models/issues/3556\n",
    "    sym = get_symbol(model_name='resnet50',\n",
    "                     in_tensor=features, \n",
    "                     #is_training=(mode == tf.estimator.ModeKeys.TRAIN),\n",
    "                     is_training=True,\n",
    "                     chkpoint=params[\"checkpoint\"],\n",
    "                     out_features=params[\"n_classes\"])\n",
    "    # Predictions\n",
    "    predictions = tf.sigmoid(sym)   \n",
    "    # ModeKeys.PREDICT\n",
    "    if mode == tf.estimator.ModeKeys.PREDICT:\n",
    "        return tf.estimator.EstimatorSpec(mode=mode, \n",
    "                                          predictions=predictions)\n",
    "    # Optimizer & Loss\n",
    "    optimizer = tf.train.AdamOptimizer(params['lr'], beta1=0.9, beta2=0.999)\n",
    "    loss_fn = tf.losses.sigmoid_cross_entropy(labels, sym)\n",
    "    loss = tf.reduce_mean(loss_fn)\n",
    "    if mode == tf.estimator.ModeKeys.TRAIN:\n",
    "        # Restore model from chkpoint (only when training)\n",
    "        variables_to_restore = slim.get_variables_to_restore(exclude=['output'])\n",
    "        #https://stackoverflow.com/questions/47867748/transfer-learning-with-tf-estimator-estimator-framework\n",
    "        tf.train.init_from_checkpoint(params['checkpoint'], \n",
    "                              {v.name.split(':')[0]: v for v in variables_to_restore})\n",
    "    return tf.estimator.EstimatorSpec(\n",
    "        mode=mode,\n",
    "        loss=loss,\n",
    "        train_op=optimizer.minimize(loss, tf.train.get_or_create_global_step()))"
   ]
  },
  {
   "cell_type": "code",
   "execution_count": 15,
   "metadata": {},
   "outputs": [],
   "source": [
    "def train_input_fn():\n",
    "    return train_dataset.data.make_one_shot_iterator().get_next()\n",
    "def valid_input_fn():\n",
    "    return valid_dataset.data.make_one_shot_iterator().get_next()\n",
    "def test_input_fn():\n",
    "    return test_dataset.data.make_one_shot_iterator().get_next()"
   ]
  },
  {
   "cell_type": "code",
   "execution_count": 16,
   "metadata": {},
   "outputs": [
    {
     "name": "stdout",
     "output_type": "stream",
     "text": [
      "INFO:tensorflow:Using default config.\n",
      "WARNING:tensorflow:Using temporary folder as model directory: /tmp/tmpjwebku45\n",
      "INFO:tensorflow:Using config: {'_service': None, '_keep_checkpoint_every_n_hours': 10000, '_log_step_count_steps': 100, '_keep_checkpoint_max': 5, '_master': '', '_num_worker_replicas': 1, '_is_chief': True, '_tf_random_seed': None, '_save_checkpoints_steps': None, '_task_id': 0, '_session_config': None, '_save_checkpoints_secs': 600, '_num_ps_replicas': 0, '_task_type': 'worker', '_save_summary_steps': 100, '_model_dir': '/tmp/tmpjwebku45', '_cluster_spec': <tensorflow.python.training.server_lib.ClusterSpec object at 0x7fc3cdb62550>}\n"
     ]
    }
   ],
   "source": [
    "# Create Estimator\n",
    "nn = tf.estimator.Estimator(model_fn=model_fn,\n",
    "                            params={\"lr\":LR, \n",
    "                                    \"checkpoint\":CHKPOINT,\n",
    "                                    \"n_classes\":CLASSES})"
   ]
  },
  {
   "cell_type": "code",
   "execution_count": 17,
   "metadata": {
    "scrolled": true
   },
   "outputs": [
    {
     "name": "stdout",
     "output_type": "stream",
     "text": [
      "INFO:tensorflow:Initialize variable resnet_v1_50/block3/unit_4/bottleneck_v1/conv3/BatchNorm/moving_mean:0 from checkpoint resnet_v1_50.ckpt with resnet_v1_50/block3/unit_4/bottleneck_v1/conv3/BatchNorm/moving_mean\n",
      "INFO:tensorflow:Initialize variable resnet_v1_50/block4/unit_3/bottleneck_v1/conv3/BatchNorm/moving_mean:0 from checkpoint resnet_v1_50.ckpt with resnet_v1_50/block4/unit_3/bottleneck_v1/conv3/BatchNorm/moving_mean\n",
      "INFO:tensorflow:Initialize variable resnet_v1_50/block1/unit_2/bottleneck_v1/conv1/BatchNorm/moving_mean:0 from checkpoint resnet_v1_50.ckpt with resnet_v1_50/block1/unit_2/bottleneck_v1/conv1/BatchNorm/moving_mean\n",
      "INFO:tensorflow:Initialize variable resnet_v1_50/block3/unit_5/bottleneck_v1/conv1/BatchNorm/beta:0 from checkpoint resnet_v1_50.ckpt with resnet_v1_50/block3/unit_5/bottleneck_v1/conv1/BatchNorm/beta\n",
      "INFO:tensorflow:Initialize variable resnet_v1_50/block1/unit_2/bottleneck_v1/conv1/weights:0 from checkpoint resnet_v1_50.ckpt with resnet_v1_50/block1/unit_2/bottleneck_v1/conv1/weights\n",
      "INFO:tensorflow:Initialize variable resnet_v1_50/block3/unit_2/bottleneck_v1/conv3/weights:0 from checkpoint resnet_v1_50.ckpt with resnet_v1_50/block3/unit_2/bottleneck_v1/conv3/weights\n",
      "INFO:tensorflow:Initialize variable resnet_v1_50/block4/unit_3/bottleneck_v1/conv1/BatchNorm/moving_mean:0 from checkpoint resnet_v1_50.ckpt with resnet_v1_50/block4/unit_3/bottleneck_v1/conv1/BatchNorm/moving_mean\n",
      "INFO:tensorflow:Initialize variable resnet_v1_50/block2/unit_3/bottleneck_v1/conv2/BatchNorm/moving_mean:0 from checkpoint resnet_v1_50.ckpt with resnet_v1_50/block2/unit_3/bottleneck_v1/conv2/BatchNorm/moving_mean\n",
      "INFO:tensorflow:Initialize variable resnet_v1_50/block3/unit_1/bottleneck_v1/conv3/BatchNorm/moving_variance:0 from checkpoint resnet_v1_50.ckpt with resnet_v1_50/block3/unit_1/bottleneck_v1/conv3/BatchNorm/moving_variance\n",
      "INFO:tensorflow:Initialize variable resnet_v1_50/block2/unit_1/bottleneck_v1/conv1/BatchNorm/beta:0 from checkpoint resnet_v1_50.ckpt with resnet_v1_50/block2/unit_1/bottleneck_v1/conv1/BatchNorm/beta\n",
      "INFO:tensorflow:Initialize variable resnet_v1_50/block4/unit_3/bottleneck_v1/conv3/weights:0 from checkpoint resnet_v1_50.ckpt with resnet_v1_50/block4/unit_3/bottleneck_v1/conv3/weights\n",
      "INFO:tensorflow:Initialize variable resnet_v1_50/block4/unit_1/bottleneck_v1/shortcut/BatchNorm/gamma:0 from checkpoint resnet_v1_50.ckpt with resnet_v1_50/block4/unit_1/bottleneck_v1/shortcut/BatchNorm/gamma\n",
      "INFO:tensorflow:Initialize variable resnet_v1_50/block3/unit_6/bottleneck_v1/conv2/BatchNorm/gamma:0 from checkpoint resnet_v1_50.ckpt with resnet_v1_50/block3/unit_6/bottleneck_v1/conv2/BatchNorm/gamma\n",
      "INFO:tensorflow:Initialize variable resnet_v1_50/block2/unit_3/bottleneck_v1/conv2/weights:0 from checkpoint resnet_v1_50.ckpt with resnet_v1_50/block2/unit_3/bottleneck_v1/conv2/weights\n",
      "INFO:tensorflow:Initialize variable resnet_v1_50/block3/unit_1/bottleneck_v1/conv2/BatchNorm/beta:0 from checkpoint resnet_v1_50.ckpt with resnet_v1_50/block3/unit_1/bottleneck_v1/conv2/BatchNorm/beta\n",
      "INFO:tensorflow:Initialize variable resnet_v1_50/block3/unit_5/bottleneck_v1/conv2/BatchNorm/gamma:0 from checkpoint resnet_v1_50.ckpt with resnet_v1_50/block3/unit_5/bottleneck_v1/conv2/BatchNorm/gamma\n",
      "INFO:tensorflow:Initialize variable resnet_v1_50/block4/unit_2/bottleneck_v1/conv2/BatchNorm/beta:0 from checkpoint resnet_v1_50.ckpt with resnet_v1_50/block4/unit_2/bottleneck_v1/conv2/BatchNorm/beta\n",
      "INFO:tensorflow:Initialize variable resnet_v1_50/block3/unit_2/bottleneck_v1/conv2/BatchNorm/moving_mean:0 from checkpoint resnet_v1_50.ckpt with resnet_v1_50/block3/unit_2/bottleneck_v1/conv2/BatchNorm/moving_mean\n",
      "INFO:tensorflow:Initialize variable resnet_v1_50/block4/unit_1/bottleneck_v1/conv1/BatchNorm/moving_variance:0 from checkpoint resnet_v1_50.ckpt with resnet_v1_50/block4/unit_1/bottleneck_v1/conv1/BatchNorm/moving_variance\n",
      "INFO:tensorflow:Initialize variable resnet_v1_50/block3/unit_5/bottleneck_v1/conv2/BatchNorm/beta:0 from checkpoint resnet_v1_50.ckpt with resnet_v1_50/block3/unit_5/bottleneck_v1/conv2/BatchNorm/beta\n",
      "INFO:tensorflow:Initialize variable resnet_v1_50/block3/unit_5/bottleneck_v1/conv2/BatchNorm/moving_mean:0 from checkpoint resnet_v1_50.ckpt with resnet_v1_50/block3/unit_5/bottleneck_v1/conv2/BatchNorm/moving_mean\n",
      "INFO:tensorflow:Initialize variable resnet_v1_50/block1/unit_3/bottleneck_v1/conv2/BatchNorm/moving_variance:0 from checkpoint resnet_v1_50.ckpt with resnet_v1_50/block1/unit_3/bottleneck_v1/conv2/BatchNorm/moving_variance\n",
      "INFO:tensorflow:Initialize variable resnet_v1_50/block2/unit_1/bottleneck_v1/conv2/BatchNorm/moving_mean:0 from checkpoint resnet_v1_50.ckpt with resnet_v1_50/block2/unit_1/bottleneck_v1/conv2/BatchNorm/moving_mean\n",
      "INFO:tensorflow:Initialize variable resnet_v1_50/block2/unit_2/bottleneck_v1/conv2/BatchNorm/gamma:0 from checkpoint resnet_v1_50.ckpt with resnet_v1_50/block2/unit_2/bottleneck_v1/conv2/BatchNorm/gamma\n",
      "INFO:tensorflow:Initialize variable resnet_v1_50/block1/unit_1/bottleneck_v1/conv1/BatchNorm/moving_mean:0 from checkpoint resnet_v1_50.ckpt with resnet_v1_50/block1/unit_1/bottleneck_v1/conv1/BatchNorm/moving_mean\n",
      "INFO:tensorflow:Initialize variable resnet_v1_50/block1/unit_3/bottleneck_v1/conv2/BatchNorm/moving_mean:0 from checkpoint resnet_v1_50.ckpt with resnet_v1_50/block1/unit_3/bottleneck_v1/conv2/BatchNorm/moving_mean\n",
      "INFO:tensorflow:Initialize variable resnet_v1_50/block2/unit_2/bottleneck_v1/conv2/BatchNorm/beta:0 from checkpoint resnet_v1_50.ckpt with resnet_v1_50/block2/unit_2/bottleneck_v1/conv2/BatchNorm/beta\n",
      "INFO:tensorflow:Initialize variable resnet_v1_50/conv1/BatchNorm/moving_variance:0 from checkpoint resnet_v1_50.ckpt with resnet_v1_50/conv1/BatchNorm/moving_variance\n",
      "INFO:tensorflow:Initialize variable resnet_v1_50/block3/unit_3/bottleneck_v1/conv1/weights:0 from checkpoint resnet_v1_50.ckpt with resnet_v1_50/block3/unit_3/bottleneck_v1/conv1/weights\n",
      "INFO:tensorflow:Initialize variable resnet_v1_50/block3/unit_5/bottleneck_v1/conv2/weights:0 from checkpoint resnet_v1_50.ckpt with resnet_v1_50/block3/unit_5/bottleneck_v1/conv2/weights\n",
      "INFO:tensorflow:Initialize variable resnet_v1_50/block3/unit_6/bottleneck_v1/conv1/BatchNorm/moving_mean:0 from checkpoint resnet_v1_50.ckpt with resnet_v1_50/block3/unit_6/bottleneck_v1/conv1/BatchNorm/moving_mean\n",
      "INFO:tensorflow:Initialize variable resnet_v1_50/block1/unit_1/bottleneck_v1/conv2/weights:0 from checkpoint resnet_v1_50.ckpt with resnet_v1_50/block1/unit_1/bottleneck_v1/conv2/weights\n",
      "INFO:tensorflow:Initialize variable resnet_v1_50/block3/unit_5/bottleneck_v1/conv2/BatchNorm/moving_variance:0 from checkpoint resnet_v1_50.ckpt with resnet_v1_50/block3/unit_5/bottleneck_v1/conv2/BatchNorm/moving_variance\n",
      "INFO:tensorflow:Initialize variable resnet_v1_50/block1/unit_3/bottleneck_v1/conv3/BatchNorm/moving_mean:0 from checkpoint resnet_v1_50.ckpt with resnet_v1_50/block1/unit_3/bottleneck_v1/conv3/BatchNorm/moving_mean\n",
      "INFO:tensorflow:Initialize variable resnet_v1_50/block3/unit_2/bottleneck_v1/conv2/BatchNorm/moving_variance:0 from checkpoint resnet_v1_50.ckpt with resnet_v1_50/block3/unit_2/bottleneck_v1/conv2/BatchNorm/moving_variance\n",
      "INFO:tensorflow:Initialize variable resnet_v1_50/block4/unit_3/bottleneck_v1/conv3/BatchNorm/beta:0 from checkpoint resnet_v1_50.ckpt with resnet_v1_50/block4/unit_3/bottleneck_v1/conv3/BatchNorm/beta\n",
      "INFO:tensorflow:Initialize variable resnet_v1_50/block3/unit_6/bottleneck_v1/conv2/BatchNorm/beta:0 from checkpoint resnet_v1_50.ckpt with resnet_v1_50/block3/unit_6/bottleneck_v1/conv2/BatchNorm/beta\n",
      "INFO:tensorflow:Initialize variable resnet_v1_50/block3/unit_3/bottleneck_v1/conv1/BatchNorm/moving_mean:0 from checkpoint resnet_v1_50.ckpt with resnet_v1_50/block3/unit_3/bottleneck_v1/conv1/BatchNorm/moving_mean\n",
      "INFO:tensorflow:Initialize variable resnet_v1_50/block1/unit_2/bottleneck_v1/conv2/BatchNorm/moving_mean:0 from checkpoint resnet_v1_50.ckpt with resnet_v1_50/block1/unit_2/bottleneck_v1/conv2/BatchNorm/moving_mean\n",
      "INFO:tensorflow:Initialize variable resnet_v1_50/block3/unit_2/bottleneck_v1/conv3/BatchNorm/gamma:0 from checkpoint resnet_v1_50.ckpt with resnet_v1_50/block3/unit_2/bottleneck_v1/conv3/BatchNorm/gamma\n"
     ]
    },
    {
     "name": "stdout",
     "output_type": "stream",
     "text": [
      "INFO:tensorflow:Initialize variable resnet_v1_50/block1/unit_3/bottleneck_v1/conv3/BatchNorm/gamma:0 from checkpoint resnet_v1_50.ckpt with resnet_v1_50/block1/unit_3/bottleneck_v1/conv3/BatchNorm/gamma\n",
      "INFO:tensorflow:Initialize variable resnet_v1_50/block4/unit_3/bottleneck_v1/conv2/weights:0 from checkpoint resnet_v1_50.ckpt with resnet_v1_50/block4/unit_3/bottleneck_v1/conv2/weights\n",
      "INFO:tensorflow:Initialize variable resnet_v1_50/block4/unit_1/bottleneck_v1/conv1/BatchNorm/gamma:0 from checkpoint resnet_v1_50.ckpt with resnet_v1_50/block4/unit_1/bottleneck_v1/conv1/BatchNorm/gamma\n",
      "INFO:tensorflow:Initialize variable resnet_v1_50/block4/unit_2/bottleneck_v1/conv1/weights:0 from checkpoint resnet_v1_50.ckpt with resnet_v1_50/block4/unit_2/bottleneck_v1/conv1/weights\n",
      "INFO:tensorflow:Initialize variable resnet_v1_50/block3/unit_4/bottleneck_v1/conv3/BatchNorm/beta:0 from checkpoint resnet_v1_50.ckpt with resnet_v1_50/block3/unit_4/bottleneck_v1/conv3/BatchNorm/beta\n",
      "INFO:tensorflow:Initialize variable resnet_v1_50/block3/unit_2/bottleneck_v1/conv1/weights:0 from checkpoint resnet_v1_50.ckpt with resnet_v1_50/block3/unit_2/bottleneck_v1/conv1/weights\n",
      "INFO:tensorflow:Initialize variable resnet_v1_50/block3/unit_2/bottleneck_v1/conv3/BatchNorm/beta:0 from checkpoint resnet_v1_50.ckpt with resnet_v1_50/block3/unit_2/bottleneck_v1/conv3/BatchNorm/beta\n",
      "INFO:tensorflow:Initialize variable resnet_v1_50/block4/unit_1/bottleneck_v1/shortcut/BatchNorm/moving_variance:0 from checkpoint resnet_v1_50.ckpt with resnet_v1_50/block4/unit_1/bottleneck_v1/shortcut/BatchNorm/moving_variance\n",
      "INFO:tensorflow:Initialize variable resnet_v1_50/block2/unit_2/bottleneck_v1/conv2/BatchNorm/moving_variance:0 from checkpoint resnet_v1_50.ckpt with resnet_v1_50/block2/unit_2/bottleneck_v1/conv2/BatchNorm/moving_variance\n",
      "INFO:tensorflow:Initialize variable resnet_v1_50/block2/unit_3/bottleneck_v1/conv3/BatchNorm/beta:0 from checkpoint resnet_v1_50.ckpt with resnet_v1_50/block2/unit_3/bottleneck_v1/conv3/BatchNorm/beta\n",
      "INFO:tensorflow:Initialize variable resnet_v1_50/block2/unit_3/bottleneck_v1/conv2/BatchNorm/beta:0 from checkpoint resnet_v1_50.ckpt with resnet_v1_50/block2/unit_3/bottleneck_v1/conv2/BatchNorm/beta\n",
      "INFO:tensorflow:Initialize variable resnet_v1_50/block4/unit_3/bottleneck_v1/conv2/BatchNorm/gamma:0 from checkpoint resnet_v1_50.ckpt with resnet_v1_50/block4/unit_3/bottleneck_v1/conv2/BatchNorm/gamma\n",
      "INFO:tensorflow:Initialize variable resnet_v1_50/block1/unit_2/bottleneck_v1/conv2/weights:0 from checkpoint resnet_v1_50.ckpt with resnet_v1_50/block1/unit_2/bottleneck_v1/conv2/weights\n",
      "INFO:tensorflow:Initialize variable resnet_v1_50/block3/unit_1/bottleneck_v1/conv3/BatchNorm/beta:0 from checkpoint resnet_v1_50.ckpt with resnet_v1_50/block3/unit_1/bottleneck_v1/conv3/BatchNorm/beta\n",
      "INFO:tensorflow:Initialize variable resnet_v1_50/block3/unit_6/bottleneck_v1/conv3/weights:0 from checkpoint resnet_v1_50.ckpt with resnet_v1_50/block3/unit_6/bottleneck_v1/conv3/weights\n",
      "INFO:tensorflow:Initialize variable resnet_v1_50/block3/unit_1/bottleneck_v1/conv1/BatchNorm/gamma:0 from checkpoint resnet_v1_50.ckpt with resnet_v1_50/block3/unit_1/bottleneck_v1/conv1/BatchNorm/gamma\n",
      "INFO:tensorflow:Initialize variable resnet_v1_50/block3/unit_4/bottleneck_v1/conv3/BatchNorm/moving_variance:0 from checkpoint resnet_v1_50.ckpt with resnet_v1_50/block3/unit_4/bottleneck_v1/conv3/BatchNorm/moving_variance\n",
      "INFO:tensorflow:Initialize variable resnet_v1_50/block4/unit_1/bottleneck_v1/conv2/BatchNorm/moving_variance:0 from checkpoint resnet_v1_50.ckpt with resnet_v1_50/block4/unit_1/bottleneck_v1/conv2/BatchNorm/moving_variance\n",
      "INFO:tensorflow:Initialize variable resnet_v1_50/block3/unit_1/bottleneck_v1/shortcut/BatchNorm/gamma:0 from checkpoint resnet_v1_50.ckpt with resnet_v1_50/block3/unit_1/bottleneck_v1/shortcut/BatchNorm/gamma\n",
      "INFO:tensorflow:Initialize variable resnet_v1_50/block3/unit_1/bottleneck_v1/conv3/weights:0 from checkpoint resnet_v1_50.ckpt with resnet_v1_50/block3/unit_1/bottleneck_v1/conv3/weights\n",
      "INFO:tensorflow:Initialize variable resnet_v1_50/block1/unit_1/bottleneck_v1/conv3/BatchNorm/gamma:0 from checkpoint resnet_v1_50.ckpt with resnet_v1_50/block1/unit_1/bottleneck_v1/conv3/BatchNorm/gamma\n",
      "INFO:tensorflow:Initialize variable resnet_v1_50/block3/unit_1/bottleneck_v1/conv1/BatchNorm/moving_mean:0 from checkpoint resnet_v1_50.ckpt with resnet_v1_50/block3/unit_1/bottleneck_v1/conv1/BatchNorm/moving_mean\n",
      "INFO:tensorflow:Initialize variable resnet_v1_50/block2/unit_3/bottleneck_v1/conv1/BatchNorm/moving_variance:0 from checkpoint resnet_v1_50.ckpt with resnet_v1_50/block2/unit_3/bottleneck_v1/conv1/BatchNorm/moving_variance\n",
      "INFO:tensorflow:Initialize variable resnet_v1_50/block1/unit_2/bottleneck_v1/conv3/BatchNorm/moving_mean:0 from checkpoint resnet_v1_50.ckpt with resnet_v1_50/block1/unit_2/bottleneck_v1/conv3/BatchNorm/moving_mean\n",
      "INFO:tensorflow:Initialize variable resnet_v1_50/block2/unit_1/bottleneck_v1/conv3/BatchNorm/moving_mean:0 from checkpoint resnet_v1_50.ckpt with resnet_v1_50/block2/unit_1/bottleneck_v1/conv3/BatchNorm/moving_mean\n",
      "INFO:tensorflow:Initialize variable resnet_v1_50/block3/unit_3/bottleneck_v1/conv1/BatchNorm/beta:0 from checkpoint resnet_v1_50.ckpt with resnet_v1_50/block3/unit_3/bottleneck_v1/conv1/BatchNorm/beta\n",
      "INFO:tensorflow:Initialize variable resnet_v1_50/block1/unit_2/bottleneck_v1/conv2/BatchNorm/beta:0 from checkpoint resnet_v1_50.ckpt with resnet_v1_50/block1/unit_2/bottleneck_v1/conv2/BatchNorm/beta\n",
      "INFO:tensorflow:Initialize variable resnet_v1_50/block2/unit_4/bottleneck_v1/conv3/BatchNorm/moving_variance:0 from checkpoint resnet_v1_50.ckpt with resnet_v1_50/block2/unit_4/bottleneck_v1/conv3/BatchNorm/moving_variance\n",
      "INFO:tensorflow:Initialize variable resnet_v1_50/block1/unit_2/bottleneck_v1/conv3/BatchNorm/moving_variance:0 from checkpoint resnet_v1_50.ckpt with resnet_v1_50/block1/unit_2/bottleneck_v1/conv3/BatchNorm/moving_variance\n",
      "INFO:tensorflow:Initialize variable resnet_v1_50/block1/unit_1/bottleneck_v1/shortcut/BatchNorm/beta:0 from checkpoint resnet_v1_50.ckpt with resnet_v1_50/block1/unit_1/bottleneck_v1/shortcut/BatchNorm/beta\n",
      "INFO:tensorflow:Initialize variable resnet_v1_50/block3/unit_5/bottleneck_v1/conv1/BatchNorm/moving_mean:0 from checkpoint resnet_v1_50.ckpt with resnet_v1_50/block3/unit_5/bottleneck_v1/conv1/BatchNorm/moving_mean\n",
      "INFO:tensorflow:Initialize variable resnet_v1_50/block3/unit_1/bottleneck_v1/conv1/weights:0 from checkpoint resnet_v1_50.ckpt with resnet_v1_50/block3/unit_1/bottleneck_v1/conv1/weights\n",
      "INFO:tensorflow:Initialize variable resnet_v1_50/block3/unit_4/bottleneck_v1/conv2/BatchNorm/gamma:0 from checkpoint resnet_v1_50.ckpt with resnet_v1_50/block3/unit_4/bottleneck_v1/conv2/BatchNorm/gamma\n",
      "INFO:tensorflow:Initialize variable resnet_v1_50/block3/unit_4/bottleneck_v1/conv1/BatchNorm/moving_mean:0 from checkpoint resnet_v1_50.ckpt with resnet_v1_50/block3/unit_4/bottleneck_v1/conv1/BatchNorm/moving_mean\n",
      "INFO:tensorflow:Initialize variable resnet_v1_50/block4/unit_3/bottleneck_v1/conv2/BatchNorm/beta:0 from checkpoint resnet_v1_50.ckpt with resnet_v1_50/block4/unit_3/bottleneck_v1/conv2/BatchNorm/beta\n",
      "INFO:tensorflow:Initialize variable resnet_v1_50/block2/unit_1/bottleneck_v1/shortcut/BatchNorm/moving_mean:0 from checkpoint resnet_v1_50.ckpt with resnet_v1_50/block2/unit_1/bottleneck_v1/shortcut/BatchNorm/moving_mean\n",
      "INFO:tensorflow:Initialize variable resnet_v1_50/conv1/weights:0 from checkpoint resnet_v1_50.ckpt with resnet_v1_50/conv1/weights\n",
      "INFO:tensorflow:Initialize variable resnet_v1_50/block3/unit_5/bottleneck_v1/conv1/BatchNorm/gamma:0 from checkpoint resnet_v1_50.ckpt with resnet_v1_50/block3/unit_5/bottleneck_v1/conv1/BatchNorm/gamma\n",
      "INFO:tensorflow:Initialize variable resnet_v1_50/block1/unit_2/bottleneck_v1/conv3/BatchNorm/beta:0 from checkpoint resnet_v1_50.ckpt with resnet_v1_50/block1/unit_2/bottleneck_v1/conv3/BatchNorm/beta\n",
      "INFO:tensorflow:Initialize variable resnet_v1_50/block4/unit_2/bottleneck_v1/conv1/BatchNorm/moving_mean:0 from checkpoint resnet_v1_50.ckpt with resnet_v1_50/block4/unit_2/bottleneck_v1/conv1/BatchNorm/moving_mean\n",
      "INFO:tensorflow:Initialize variable resnet_v1_50/block3/unit_6/bottleneck_v1/conv2/weights:0 from checkpoint resnet_v1_50.ckpt with resnet_v1_50/block3/unit_6/bottleneck_v1/conv2/weights\n"
     ]
    },
    {
     "name": "stdout",
     "output_type": "stream",
     "text": [
      "INFO:tensorflow:Initialize variable resnet_v1_50/block3/unit_6/bottleneck_v1/conv1/BatchNorm/moving_variance:0 from checkpoint resnet_v1_50.ckpt with resnet_v1_50/block3/unit_6/bottleneck_v1/conv1/BatchNorm/moving_variance\n",
      "INFO:tensorflow:Initialize variable resnet_v1_50/block2/unit_2/bottleneck_v1/conv2/weights:0 from checkpoint resnet_v1_50.ckpt with resnet_v1_50/block2/unit_2/bottleneck_v1/conv2/weights\n",
      "INFO:tensorflow:Initialize variable resnet_v1_50/block4/unit_2/bottleneck_v1/conv3/BatchNorm/beta:0 from checkpoint resnet_v1_50.ckpt with resnet_v1_50/block4/unit_2/bottleneck_v1/conv3/BatchNorm/beta\n",
      "INFO:tensorflow:Initialize variable resnet_v1_50/block4/unit_1/bottleneck_v1/shortcut/weights:0 from checkpoint resnet_v1_50.ckpt with resnet_v1_50/block4/unit_1/bottleneck_v1/shortcut/weights\n",
      "INFO:tensorflow:Initialize variable resnet_v1_50/block3/unit_1/bottleneck_v1/conv1/BatchNorm/beta:0 from checkpoint resnet_v1_50.ckpt with resnet_v1_50/block3/unit_1/bottleneck_v1/conv1/BatchNorm/beta\n",
      "INFO:tensorflow:Initialize variable resnet_v1_50/block1/unit_3/bottleneck_v1/conv3/BatchNorm/beta:0 from checkpoint resnet_v1_50.ckpt with resnet_v1_50/block1/unit_3/bottleneck_v1/conv3/BatchNorm/beta\n",
      "INFO:tensorflow:Initialize variable resnet_v1_50/block2/unit_2/bottleneck_v1/conv3/BatchNorm/moving_variance:0 from checkpoint resnet_v1_50.ckpt with resnet_v1_50/block2/unit_2/bottleneck_v1/conv3/BatchNorm/moving_variance\n",
      "INFO:tensorflow:Initialize variable resnet_v1_50/block2/unit_1/bottleneck_v1/conv1/weights:0 from checkpoint resnet_v1_50.ckpt with resnet_v1_50/block2/unit_1/bottleneck_v1/conv1/weights\n",
      "INFO:tensorflow:Initialize variable resnet_v1_50/block1/unit_3/bottleneck_v1/conv2/BatchNorm/gamma:0 from checkpoint resnet_v1_50.ckpt with resnet_v1_50/block1/unit_3/bottleneck_v1/conv2/BatchNorm/gamma\n",
      "INFO:tensorflow:Initialize variable resnet_v1_50/block2/unit_4/bottleneck_v1/conv1/BatchNorm/moving_mean:0 from checkpoint resnet_v1_50.ckpt with resnet_v1_50/block2/unit_4/bottleneck_v1/conv1/BatchNorm/moving_mean\n",
      "INFO:tensorflow:Initialize variable resnet_v1_50/block2/unit_2/bottleneck_v1/conv1/BatchNorm/moving_mean:0 from checkpoint resnet_v1_50.ckpt with resnet_v1_50/block2/unit_2/bottleneck_v1/conv1/BatchNorm/moving_mean\n",
      "INFO:tensorflow:Initialize variable resnet_v1_50/block3/unit_4/bottleneck_v1/conv1/weights:0 from checkpoint resnet_v1_50.ckpt with resnet_v1_50/block3/unit_4/bottleneck_v1/conv1/weights\n",
      "INFO:tensorflow:Initialize variable resnet_v1_50/block3/unit_1/bottleneck_v1/conv2/BatchNorm/gamma:0 from checkpoint resnet_v1_50.ckpt with resnet_v1_50/block3/unit_1/bottleneck_v1/conv2/BatchNorm/gamma\n",
      "INFO:tensorflow:Initialize variable resnet_v1_50/block1/unit_3/bottleneck_v1/conv3/BatchNorm/moving_variance:0 from checkpoint resnet_v1_50.ckpt with resnet_v1_50/block1/unit_3/bottleneck_v1/conv3/BatchNorm/moving_variance\n",
      "INFO:tensorflow:Initialize variable resnet_v1_50/block4/unit_1/bottleneck_v1/conv1/BatchNorm/beta:0 from checkpoint resnet_v1_50.ckpt with resnet_v1_50/block4/unit_1/bottleneck_v1/conv1/BatchNorm/beta\n",
      "INFO:tensorflow:Initialize variable resnet_v1_50/block2/unit_1/bottleneck_v1/conv3/BatchNorm/beta:0 from checkpoint resnet_v1_50.ckpt with resnet_v1_50/block2/unit_1/bottleneck_v1/conv3/BatchNorm/beta\n",
      "INFO:tensorflow:Initialize variable resnet_v1_50/block1/unit_1/bottleneck_v1/conv3/BatchNorm/moving_mean:0 from checkpoint resnet_v1_50.ckpt with resnet_v1_50/block1/unit_1/bottleneck_v1/conv3/BatchNorm/moving_mean\n",
      "INFO:tensorflow:Initialize variable resnet_v1_50/block3/unit_2/bottleneck_v1/conv1/BatchNorm/moving_mean:0 from checkpoint resnet_v1_50.ckpt with resnet_v1_50/block3/unit_2/bottleneck_v1/conv1/BatchNorm/moving_mean\n",
      "INFO:tensorflow:Initialize variable resnet_v1_50/block2/unit_4/bottleneck_v1/conv1/BatchNorm/gamma:0 from checkpoint resnet_v1_50.ckpt with resnet_v1_50/block2/unit_4/bottleneck_v1/conv1/BatchNorm/gamma\n",
      "INFO:tensorflow:Initialize variable resnet_v1_50/block2/unit_3/bottleneck_v1/conv1/BatchNorm/moving_mean:0 from checkpoint resnet_v1_50.ckpt with resnet_v1_50/block2/unit_3/bottleneck_v1/conv1/BatchNorm/moving_mean\n",
      "INFO:tensorflow:Initialize variable resnet_v1_50/block4/unit_3/bottleneck_v1/conv3/BatchNorm/gamma:0 from checkpoint resnet_v1_50.ckpt with resnet_v1_50/block4/unit_3/bottleneck_v1/conv3/BatchNorm/gamma\n",
      "INFO:tensorflow:Initialize variable resnet_v1_50/block2/unit_2/bottleneck_v1/conv3/BatchNorm/beta:0 from checkpoint resnet_v1_50.ckpt with resnet_v1_50/block2/unit_2/bottleneck_v1/conv3/BatchNorm/beta\n",
      "INFO:tensorflow:Initialize variable resnet_v1_50/block3/unit_5/bottleneck_v1/conv1/BatchNorm/moving_variance:0 from checkpoint resnet_v1_50.ckpt with resnet_v1_50/block3/unit_5/bottleneck_v1/conv1/BatchNorm/moving_variance\n",
      "INFO:tensorflow:Initialize variable resnet_v1_50/block2/unit_1/bottleneck_v1/conv2/BatchNorm/beta:0 from checkpoint resnet_v1_50.ckpt with resnet_v1_50/block2/unit_1/bottleneck_v1/conv2/BatchNorm/beta\n",
      "INFO:tensorflow:Initialize variable resnet_v1_50/block1/unit_1/bottleneck_v1/conv1/BatchNorm/moving_variance:0 from checkpoint resnet_v1_50.ckpt with resnet_v1_50/block1/unit_1/bottleneck_v1/conv1/BatchNorm/moving_variance\n",
      "INFO:tensorflow:Initialize variable resnet_v1_50/block3/unit_5/bottleneck_v1/conv3/BatchNorm/moving_variance:0 from checkpoint resnet_v1_50.ckpt with resnet_v1_50/block3/unit_5/bottleneck_v1/conv3/BatchNorm/moving_variance\n",
      "INFO:tensorflow:Initialize variable resnet_v1_50/block1/unit_3/bottleneck_v1/conv1/BatchNorm/moving_variance:0 from checkpoint resnet_v1_50.ckpt with resnet_v1_50/block1/unit_3/bottleneck_v1/conv1/BatchNorm/moving_variance\n",
      "INFO:tensorflow:Initialize variable resnet_v1_50/block3/unit_5/bottleneck_v1/conv3/weights:0 from checkpoint resnet_v1_50.ckpt with resnet_v1_50/block3/unit_5/bottleneck_v1/conv3/weights\n",
      "INFO:tensorflow:Initialize variable resnet_v1_50/block1/unit_3/bottleneck_v1/conv1/BatchNorm/beta:0 from checkpoint resnet_v1_50.ckpt with resnet_v1_50/block1/unit_3/bottleneck_v1/conv1/BatchNorm/beta\n",
      "INFO:tensorflow:Initialize variable resnet_v1_50/block4/unit_1/bottleneck_v1/conv3/weights:0 from checkpoint resnet_v1_50.ckpt with resnet_v1_50/block4/unit_1/bottleneck_v1/conv3/weights\n",
      "INFO:tensorflow:Initialize variable resnet_v1_50/block1/unit_1/bottleneck_v1/shortcut/BatchNorm/gamma:0 from checkpoint resnet_v1_50.ckpt with resnet_v1_50/block1/unit_1/bottleneck_v1/shortcut/BatchNorm/gamma\n",
      "INFO:tensorflow:Initialize variable resnet_v1_50/block1/unit_1/bottleneck_v1/conv3/BatchNorm/moving_variance:0 from checkpoint resnet_v1_50.ckpt with resnet_v1_50/block1/unit_1/bottleneck_v1/conv3/BatchNorm/moving_variance\n",
      "INFO:tensorflow:Initialize variable resnet_v1_50/block1/unit_3/bottleneck_v1/conv1/weights:0 from checkpoint resnet_v1_50.ckpt with resnet_v1_50/block1/unit_3/bottleneck_v1/conv1/weights\n",
      "INFO:tensorflow:Initialize variable resnet_v1_50/block3/unit_5/bottleneck_v1/conv3/BatchNorm/beta:0 from checkpoint resnet_v1_50.ckpt with resnet_v1_50/block3/unit_5/bottleneck_v1/conv3/BatchNorm/beta\n",
      "INFO:tensorflow:Initialize variable resnet_v1_50/block2/unit_4/bottleneck_v1/conv2/BatchNorm/moving_mean:0 from checkpoint resnet_v1_50.ckpt with resnet_v1_50/block2/unit_4/bottleneck_v1/conv2/BatchNorm/moving_mean\n",
      "INFO:tensorflow:Initialize variable resnet_v1_50/block3/unit_3/bottleneck_v1/conv3/weights:0 from checkpoint resnet_v1_50.ckpt with resnet_v1_50/block3/unit_3/bottleneck_v1/conv3/weights\n",
      "INFO:tensorflow:Initialize variable resnet_v1_50/block2/unit_4/bottleneck_v1/conv2/weights:0 from checkpoint resnet_v1_50.ckpt with resnet_v1_50/block2/unit_4/bottleneck_v1/conv2/weights\n",
      "INFO:tensorflow:Initialize variable resnet_v1_50/block2/unit_1/bottleneck_v1/conv2/weights:0 from checkpoint resnet_v1_50.ckpt with resnet_v1_50/block2/unit_1/bottleneck_v1/conv2/weights\n",
      "INFO:tensorflow:Initialize variable resnet_v1_50/block3/unit_3/bottleneck_v1/conv3/BatchNorm/gamma:0 from checkpoint resnet_v1_50.ckpt with resnet_v1_50/block3/unit_3/bottleneck_v1/conv3/BatchNorm/gamma\n",
      "INFO:tensorflow:Initialize variable resnet_v1_50/block2/unit_4/bottleneck_v1/conv3/BatchNorm/beta:0 from checkpoint resnet_v1_50.ckpt with resnet_v1_50/block2/unit_4/bottleneck_v1/conv3/BatchNorm/beta\n",
      "INFO:tensorflow:Initialize variable resnet_v1_50/block3/unit_3/bottleneck_v1/conv2/weights:0 from checkpoint resnet_v1_50.ckpt with resnet_v1_50/block3/unit_3/bottleneck_v1/conv2/weights\n"
     ]
    },
    {
     "name": "stdout",
     "output_type": "stream",
     "text": [
      "INFO:tensorflow:Initialize variable resnet_v1_50/block3/unit_2/bottleneck_v1/conv1/BatchNorm/gamma:0 from checkpoint resnet_v1_50.ckpt with resnet_v1_50/block3/unit_2/bottleneck_v1/conv1/BatchNorm/gamma\n",
      "INFO:tensorflow:Initialize variable resnet_v1_50/block1/unit_2/bottleneck_v1/conv2/BatchNorm/gamma:0 from checkpoint resnet_v1_50.ckpt with resnet_v1_50/block1/unit_2/bottleneck_v1/conv2/BatchNorm/gamma\n",
      "INFO:tensorflow:Initialize variable resnet_v1_50/block2/unit_4/bottleneck_v1/conv3/weights:0 from checkpoint resnet_v1_50.ckpt with resnet_v1_50/block2/unit_4/bottleneck_v1/conv3/weights\n",
      "INFO:tensorflow:Initialize variable resnet_v1_50/block2/unit_3/bottleneck_v1/conv1/BatchNorm/gamma:0 from checkpoint resnet_v1_50.ckpt with resnet_v1_50/block2/unit_3/bottleneck_v1/conv1/BatchNorm/gamma\n",
      "INFO:tensorflow:Initialize variable resnet_v1_50/block3/unit_4/bottleneck_v1/conv2/BatchNorm/moving_variance:0 from checkpoint resnet_v1_50.ckpt with resnet_v1_50/block3/unit_4/bottleneck_v1/conv2/BatchNorm/moving_variance\n",
      "INFO:tensorflow:Initialize variable resnet_v1_50/block3/unit_5/bottleneck_v1/conv1/weights:0 from checkpoint resnet_v1_50.ckpt with resnet_v1_50/block3/unit_5/bottleneck_v1/conv1/weights\n",
      "INFO:tensorflow:Initialize variable resnet_v1_50/block3/unit_3/bottleneck_v1/conv1/BatchNorm/gamma:0 from checkpoint resnet_v1_50.ckpt with resnet_v1_50/block3/unit_3/bottleneck_v1/conv1/BatchNorm/gamma\n",
      "INFO:tensorflow:Initialize variable resnet_v1_50/block2/unit_1/bottleneck_v1/shortcut/BatchNorm/gamma:0 from checkpoint resnet_v1_50.ckpt with resnet_v1_50/block2/unit_1/bottleneck_v1/shortcut/BatchNorm/gamma\n",
      "INFO:tensorflow:Initialize variable resnet_v1_50/block4/unit_1/bottleneck_v1/conv2/BatchNorm/moving_mean:0 from checkpoint resnet_v1_50.ckpt with resnet_v1_50/block4/unit_1/bottleneck_v1/conv2/BatchNorm/moving_mean\n",
      "INFO:tensorflow:Initialize variable resnet_v1_50/block3/unit_3/bottleneck_v1/conv2/BatchNorm/gamma:0 from checkpoint resnet_v1_50.ckpt with resnet_v1_50/block3/unit_3/bottleneck_v1/conv2/BatchNorm/gamma\n",
      "INFO:tensorflow:Initialize variable resnet_v1_50/block1/unit_1/bottleneck_v1/conv2/BatchNorm/gamma:0 from checkpoint resnet_v1_50.ckpt with resnet_v1_50/block1/unit_1/bottleneck_v1/conv2/BatchNorm/gamma\n",
      "INFO:tensorflow:Initialize variable resnet_v1_50/block3/unit_6/bottleneck_v1/conv2/BatchNorm/moving_variance:0 from checkpoint resnet_v1_50.ckpt with resnet_v1_50/block3/unit_6/bottleneck_v1/conv2/BatchNorm/moving_variance\n",
      "INFO:tensorflow:Initialize variable resnet_v1_50/block3/unit_5/bottleneck_v1/conv3/BatchNorm/moving_mean:0 from checkpoint resnet_v1_50.ckpt with resnet_v1_50/block3/unit_5/bottleneck_v1/conv3/BatchNorm/moving_mean\n",
      "INFO:tensorflow:Initialize variable resnet_v1_50/block4/unit_3/bottleneck_v1/conv2/BatchNorm/moving_variance:0 from checkpoint resnet_v1_50.ckpt with resnet_v1_50/block4/unit_3/bottleneck_v1/conv2/BatchNorm/moving_variance\n",
      "INFO:tensorflow:Initialize variable resnet_v1_50/block1/unit_2/bottleneck_v1/conv1/BatchNorm/gamma:0 from checkpoint resnet_v1_50.ckpt with resnet_v1_50/block1/unit_2/bottleneck_v1/conv1/BatchNorm/gamma\n",
      "INFO:tensorflow:Initialize variable resnet_v1_50/block1/unit_2/bottleneck_v1/conv1/BatchNorm/beta:0 from checkpoint resnet_v1_50.ckpt with resnet_v1_50/block1/unit_2/bottleneck_v1/conv1/BatchNorm/beta\n",
      "INFO:tensorflow:Initialize variable resnet_v1_50/block3/unit_4/bottleneck_v1/conv1/BatchNorm/moving_variance:0 from checkpoint resnet_v1_50.ckpt with resnet_v1_50/block3/unit_4/bottleneck_v1/conv1/BatchNorm/moving_variance\n",
      "INFO:tensorflow:Initialize variable resnet_v1_50/block2/unit_3/bottleneck_v1/conv3/BatchNorm/moving_variance:0 from checkpoint resnet_v1_50.ckpt with resnet_v1_50/block2/unit_3/bottleneck_v1/conv3/BatchNorm/moving_variance\n",
      "INFO:tensorflow:Initialize variable resnet_v1_50/block4/unit_1/bottleneck_v1/conv3/BatchNorm/beta:0 from checkpoint resnet_v1_50.ckpt with resnet_v1_50/block4/unit_1/bottleneck_v1/conv3/BatchNorm/beta\n",
      "INFO:tensorflow:Initialize variable resnet_v1_50/block1/unit_3/bottleneck_v1/conv1/BatchNorm/gamma:0 from checkpoint resnet_v1_50.ckpt with resnet_v1_50/block1/unit_3/bottleneck_v1/conv1/BatchNorm/gamma\n",
      "INFO:tensorflow:Initialize variable resnet_v1_50/block2/unit_3/bottleneck_v1/conv1/weights:0 from checkpoint resnet_v1_50.ckpt with resnet_v1_50/block2/unit_3/bottleneck_v1/conv1/weights\n",
      "INFO:tensorflow:Initialize variable resnet_v1_50/block3/unit_1/bottleneck_v1/conv2/BatchNorm/moving_variance:0 from checkpoint resnet_v1_50.ckpt with resnet_v1_50/block3/unit_1/bottleneck_v1/conv2/BatchNorm/moving_variance\n",
      "INFO:tensorflow:Initialize variable resnet_v1_50/block4/unit_2/bottleneck_v1/conv2/BatchNorm/moving_variance:0 from checkpoint resnet_v1_50.ckpt with resnet_v1_50/block4/unit_2/bottleneck_v1/conv2/BatchNorm/moving_variance\n",
      "INFO:tensorflow:Initialize variable resnet_v1_50/block1/unit_1/bottleneck_v1/conv1/weights:0 from checkpoint resnet_v1_50.ckpt with resnet_v1_50/block1/unit_1/bottleneck_v1/conv1/weights\n",
      "INFO:tensorflow:Initialize variable resnet_v1_50/block3/unit_2/bottleneck_v1/conv2/BatchNorm/gamma:0 from checkpoint resnet_v1_50.ckpt with resnet_v1_50/block3/unit_2/bottleneck_v1/conv2/BatchNorm/gamma\n",
      "INFO:tensorflow:Initialize variable resnet_v1_50/block1/unit_3/bottleneck_v1/conv1/BatchNorm/moving_mean:0 from checkpoint resnet_v1_50.ckpt with resnet_v1_50/block1/unit_3/bottleneck_v1/conv1/BatchNorm/moving_mean\n",
      "INFO:tensorflow:Initialize variable resnet_v1_50/block1/unit_3/bottleneck_v1/conv2/weights:0 from checkpoint resnet_v1_50.ckpt with resnet_v1_50/block1/unit_3/bottleneck_v1/conv2/weights\n",
      "INFO:tensorflow:Initialize variable resnet_v1_50/block2/unit_2/bottleneck_v1/conv3/BatchNorm/moving_mean:0 from checkpoint resnet_v1_50.ckpt with resnet_v1_50/block2/unit_2/bottleneck_v1/conv3/BatchNorm/moving_mean\n",
      "INFO:tensorflow:Initialize variable resnet_v1_50/block1/unit_1/bottleneck_v1/shortcut/BatchNorm/moving_variance:0 from checkpoint resnet_v1_50.ckpt with resnet_v1_50/block1/unit_1/bottleneck_v1/shortcut/BatchNorm/moving_variance\n",
      "INFO:tensorflow:Initialize variable resnet_v1_50/block3/unit_6/bottleneck_v1/conv2/BatchNorm/moving_mean:0 from checkpoint resnet_v1_50.ckpt with resnet_v1_50/block3/unit_6/bottleneck_v1/conv2/BatchNorm/moving_mean\n",
      "INFO:tensorflow:Initialize variable resnet_v1_50/block4/unit_3/bottleneck_v1/conv1/BatchNorm/beta:0 from checkpoint resnet_v1_50.ckpt with resnet_v1_50/block4/unit_3/bottleneck_v1/conv1/BatchNorm/beta\n",
      "INFO:tensorflow:Initialize variable resnet_v1_50/block4/unit_2/bottleneck_v1/conv2/BatchNorm/moving_mean:0 from checkpoint resnet_v1_50.ckpt with resnet_v1_50/block4/unit_2/bottleneck_v1/conv2/BatchNorm/moving_mean\n",
      "INFO:tensorflow:Initialize variable resnet_v1_50/block3/unit_2/bottleneck_v1/conv1/BatchNorm/beta:0 from checkpoint resnet_v1_50.ckpt with resnet_v1_50/block3/unit_2/bottleneck_v1/conv1/BatchNorm/beta\n",
      "INFO:tensorflow:Initialize variable resnet_v1_50/block2/unit_1/bottleneck_v1/conv3/BatchNorm/gamma:0 from checkpoint resnet_v1_50.ckpt with resnet_v1_50/block2/unit_1/bottleneck_v1/conv3/BatchNorm/gamma\n",
      "INFO:tensorflow:Initialize variable resnet_v1_50/block2/unit_4/bottleneck_v1/conv3/BatchNorm/moving_mean:0 from checkpoint resnet_v1_50.ckpt with resnet_v1_50/block2/unit_4/bottleneck_v1/conv3/BatchNorm/moving_mean\n",
      "INFO:tensorflow:Initialize variable resnet_v1_50/block2/unit_1/bottleneck_v1/conv3/BatchNorm/moving_variance:0 from checkpoint resnet_v1_50.ckpt with resnet_v1_50/block2/unit_1/bottleneck_v1/conv3/BatchNorm/moving_variance\n",
      "INFO:tensorflow:Initialize variable resnet_v1_50/block2/unit_3/bottleneck_v1/conv3/BatchNorm/gamma:0 from checkpoint resnet_v1_50.ckpt with resnet_v1_50/block2/unit_3/bottleneck_v1/conv3/BatchNorm/gamma\n",
      "INFO:tensorflow:Initialize variable resnet_v1_50/block1/unit_2/bottleneck_v1/conv1/BatchNorm/moving_variance:0 from checkpoint resnet_v1_50.ckpt with resnet_v1_50/block1/unit_2/bottleneck_v1/conv1/BatchNorm/moving_variance\n",
      "INFO:tensorflow:Initialize variable resnet_v1_50/block2/unit_4/bottleneck_v1/conv1/BatchNorm/beta:0 from checkpoint resnet_v1_50.ckpt with resnet_v1_50/block2/unit_4/bottleneck_v1/conv1/BatchNorm/beta\n"
     ]
    },
    {
     "name": "stdout",
     "output_type": "stream",
     "text": [
      "INFO:tensorflow:Initialize variable resnet_v1_50/block3/unit_1/bottleneck_v1/conv3/BatchNorm/moving_mean:0 from checkpoint resnet_v1_50.ckpt with resnet_v1_50/block3/unit_1/bottleneck_v1/conv3/BatchNorm/moving_mean\n",
      "INFO:tensorflow:Initialize variable resnet_v1_50/block3/unit_5/bottleneck_v1/conv3/BatchNorm/gamma:0 from checkpoint resnet_v1_50.ckpt with resnet_v1_50/block3/unit_5/bottleneck_v1/conv3/BatchNorm/gamma\n",
      "INFO:tensorflow:Initialize variable resnet_v1_50/block2/unit_1/bottleneck_v1/conv3/weights:0 from checkpoint resnet_v1_50.ckpt with resnet_v1_50/block2/unit_1/bottleneck_v1/conv3/weights\n",
      "INFO:tensorflow:Initialize variable resnet_v1_50/block3/unit_6/bottleneck_v1/conv1/BatchNorm/gamma:0 from checkpoint resnet_v1_50.ckpt with resnet_v1_50/block3/unit_6/bottleneck_v1/conv1/BatchNorm/gamma\n",
      "INFO:tensorflow:Initialize variable resnet_v1_50/block2/unit_1/bottleneck_v1/shortcut/BatchNorm/beta:0 from checkpoint resnet_v1_50.ckpt with resnet_v1_50/block2/unit_1/bottleneck_v1/shortcut/BatchNorm/beta\n",
      "INFO:tensorflow:Initialize variable resnet_v1_50/conv1/BatchNorm/beta:0 from checkpoint resnet_v1_50.ckpt with resnet_v1_50/conv1/BatchNorm/beta\n",
      "INFO:tensorflow:Initialize variable resnet_v1_50/block3/unit_1/bottleneck_v1/shortcut/BatchNorm/moving_mean:0 from checkpoint resnet_v1_50.ckpt with resnet_v1_50/block3/unit_1/bottleneck_v1/shortcut/BatchNorm/moving_mean\n",
      "INFO:tensorflow:Initialize variable resnet_v1_50/block3/unit_1/bottleneck_v1/conv1/BatchNorm/moving_variance:0 from checkpoint resnet_v1_50.ckpt with resnet_v1_50/block3/unit_1/bottleneck_v1/conv1/BatchNorm/moving_variance\n",
      "INFO:tensorflow:Initialize variable resnet_v1_50/block4/unit_1/bottleneck_v1/conv2/BatchNorm/gamma:0 from checkpoint resnet_v1_50.ckpt with resnet_v1_50/block4/unit_1/bottleneck_v1/conv2/BatchNorm/gamma\n",
      "INFO:tensorflow:Initialize variable resnet_v1_50/block3/unit_3/bottleneck_v1/conv2/BatchNorm/moving_mean:0 from checkpoint resnet_v1_50.ckpt with resnet_v1_50/block3/unit_3/bottleneck_v1/conv2/BatchNorm/moving_mean\n",
      "INFO:tensorflow:Initialize variable resnet_v1_50/block3/unit_2/bottleneck_v1/conv2/weights:0 from checkpoint resnet_v1_50.ckpt with resnet_v1_50/block3/unit_2/bottleneck_v1/conv2/weights\n",
      "INFO:tensorflow:Initialize variable resnet_v1_50/block3/unit_1/bottleneck_v1/conv3/BatchNorm/gamma:0 from checkpoint resnet_v1_50.ckpt with resnet_v1_50/block3/unit_1/bottleneck_v1/conv3/BatchNorm/gamma\n",
      "INFO:tensorflow:Initialize variable resnet_v1_50/block3/unit_4/bottleneck_v1/conv2/weights:0 from checkpoint resnet_v1_50.ckpt with resnet_v1_50/block3/unit_4/bottleneck_v1/conv2/weights\n",
      "INFO:tensorflow:Initialize variable resnet_v1_50/block4/unit_2/bottleneck_v1/conv1/BatchNorm/beta:0 from checkpoint resnet_v1_50.ckpt with resnet_v1_50/block4/unit_2/bottleneck_v1/conv1/BatchNorm/beta\n",
      "INFO:tensorflow:Initialize variable resnet_v1_50/block1/unit_2/bottleneck_v1/conv3/weights:0 from checkpoint resnet_v1_50.ckpt with resnet_v1_50/block1/unit_2/bottleneck_v1/conv3/weights\n",
      "INFO:tensorflow:Initialize variable resnet_v1_50/block2/unit_1/bottleneck_v1/conv1/BatchNorm/moving_variance:0 from checkpoint resnet_v1_50.ckpt with resnet_v1_50/block2/unit_1/bottleneck_v1/conv1/BatchNorm/moving_variance\n",
      "INFO:tensorflow:Initialize variable resnet_v1_50/block2/unit_1/bottleneck_v1/conv1/BatchNorm/gamma:0 from checkpoint resnet_v1_50.ckpt with resnet_v1_50/block2/unit_1/bottleneck_v1/conv1/BatchNorm/gamma\n",
      "INFO:tensorflow:Initialize variable resnet_v1_50/block3/unit_4/bottleneck_v1/conv2/BatchNorm/beta:0 from checkpoint resnet_v1_50.ckpt with resnet_v1_50/block3/unit_4/bottleneck_v1/conv2/BatchNorm/beta\n",
      "INFO:tensorflow:Initialize variable resnet_v1_50/block4/unit_2/bottleneck_v1/conv3/weights:0 from checkpoint resnet_v1_50.ckpt with resnet_v1_50/block4/unit_2/bottleneck_v1/conv3/weights\n",
      "INFO:tensorflow:Initialize variable resnet_v1_50/block4/unit_3/bottleneck_v1/conv1/BatchNorm/gamma:0 from checkpoint resnet_v1_50.ckpt with resnet_v1_50/block4/unit_3/bottleneck_v1/conv1/BatchNorm/gamma\n",
      "INFO:tensorflow:Initialize variable resnet_v1_50/block3/unit_4/bottleneck_v1/conv1/BatchNorm/gamma:0 from checkpoint resnet_v1_50.ckpt with resnet_v1_50/block3/unit_4/bottleneck_v1/conv1/BatchNorm/gamma\n",
      "INFO:tensorflow:Initialize variable resnet_v1_50/block3/unit_2/bottleneck_v1/conv1/BatchNorm/moving_variance:0 from checkpoint resnet_v1_50.ckpt with resnet_v1_50/block3/unit_2/bottleneck_v1/conv1/BatchNorm/moving_variance\n",
      "INFO:tensorflow:Initialize variable resnet_v1_50/block3/unit_6/bottleneck_v1/conv1/BatchNorm/beta:0 from checkpoint resnet_v1_50.ckpt with resnet_v1_50/block3/unit_6/bottleneck_v1/conv1/BatchNorm/beta\n",
      "INFO:tensorflow:Initialize variable resnet_v1_50/block2/unit_4/bottleneck_v1/conv2/BatchNorm/beta:0 from checkpoint resnet_v1_50.ckpt with resnet_v1_50/block2/unit_4/bottleneck_v1/conv2/BatchNorm/beta\n",
      "INFO:tensorflow:Initialize variable resnet_v1_50/block3/unit_2/bottleneck_v1/conv3/BatchNorm/moving_variance:0 from checkpoint resnet_v1_50.ckpt with resnet_v1_50/block3/unit_2/bottleneck_v1/conv3/BatchNorm/moving_variance\n",
      "INFO:tensorflow:Initialize variable resnet_v1_50/block3/unit_6/bottleneck_v1/conv3/BatchNorm/moving_mean:0 from checkpoint resnet_v1_50.ckpt with resnet_v1_50/block3/unit_6/bottleneck_v1/conv3/BatchNorm/moving_mean\n",
      "INFO:tensorflow:Initialize variable resnet_v1_50/block1/unit_1/bottleneck_v1/conv1/BatchNorm/beta:0 from checkpoint resnet_v1_50.ckpt with resnet_v1_50/block1/unit_1/bottleneck_v1/conv1/BatchNorm/beta\n",
      "INFO:tensorflow:Initialize variable resnet_v1_50/block4/unit_2/bottleneck_v1/conv3/BatchNorm/gamma:0 from checkpoint resnet_v1_50.ckpt with resnet_v1_50/block4/unit_2/bottleneck_v1/conv3/BatchNorm/gamma\n",
      "INFO:tensorflow:Initialize variable resnet_v1_50/block2/unit_2/bottleneck_v1/conv3/BatchNorm/gamma:0 from checkpoint resnet_v1_50.ckpt with resnet_v1_50/block2/unit_2/bottleneck_v1/conv3/BatchNorm/gamma\n",
      "INFO:tensorflow:Initialize variable resnet_v1_50/block2/unit_3/bottleneck_v1/conv3/BatchNorm/moving_mean:0 from checkpoint resnet_v1_50.ckpt with resnet_v1_50/block2/unit_3/bottleneck_v1/conv3/BatchNorm/moving_mean\n",
      "INFO:tensorflow:Initialize variable resnet_v1_50/block4/unit_1/bottleneck_v1/conv3/BatchNorm/gamma:0 from checkpoint resnet_v1_50.ckpt with resnet_v1_50/block4/unit_1/bottleneck_v1/conv3/BatchNorm/gamma\n",
      "INFO:tensorflow:Initialize variable resnet_v1_50/block4/unit_1/bottleneck_v1/conv1/BatchNorm/moving_mean:0 from checkpoint resnet_v1_50.ckpt with resnet_v1_50/block4/unit_1/bottleneck_v1/conv1/BatchNorm/moving_mean\n",
      "INFO:tensorflow:Initialize variable resnet_v1_50/block4/unit_2/bottleneck_v1/conv3/BatchNorm/moving_variance:0 from checkpoint resnet_v1_50.ckpt with resnet_v1_50/block4/unit_2/bottleneck_v1/conv3/BatchNorm/moving_variance\n",
      "INFO:tensorflow:Initialize variable resnet_v1_50/block1/unit_1/bottleneck_v1/shortcut/weights:0 from checkpoint resnet_v1_50.ckpt with resnet_v1_50/block1/unit_1/bottleneck_v1/shortcut/weights\n",
      "INFO:tensorflow:Initialize variable resnet_v1_50/block3/unit_1/bottleneck_v1/shortcut/BatchNorm/moving_variance:0 from checkpoint resnet_v1_50.ckpt with resnet_v1_50/block3/unit_1/bottleneck_v1/shortcut/BatchNorm/moving_variance\n",
      "INFO:tensorflow:Initialize variable resnet_v1_50/block4/unit_1/bottleneck_v1/conv3/BatchNorm/moving_variance:0 from checkpoint resnet_v1_50.ckpt with resnet_v1_50/block4/unit_1/bottleneck_v1/conv3/BatchNorm/moving_variance\n",
      "INFO:tensorflow:Initialize variable resnet_v1_50/block1/unit_2/bottleneck_v1/conv2/BatchNorm/moving_variance:0 from checkpoint resnet_v1_50.ckpt with resnet_v1_50/block1/unit_2/bottleneck_v1/conv2/BatchNorm/moving_variance\n",
      "INFO:tensorflow:Initialize variable resnet_v1_50/block3/unit_3/bottleneck_v1/conv1/BatchNorm/moving_variance:0 from checkpoint resnet_v1_50.ckpt with resnet_v1_50/block3/unit_3/bottleneck_v1/conv1/BatchNorm/moving_variance\n",
      "INFO:tensorflow:Initialize variable resnet_v1_50/block4/unit_3/bottleneck_v1/conv2/BatchNorm/moving_mean:0 from checkpoint resnet_v1_50.ckpt with resnet_v1_50/block4/unit_3/bottleneck_v1/conv2/BatchNorm/moving_mean\n",
      "INFO:tensorflow:Initialize variable resnet_v1_50/block2/unit_1/bottleneck_v1/shortcut/BatchNorm/moving_variance:0 from checkpoint resnet_v1_50.ckpt with resnet_v1_50/block2/unit_1/bottleneck_v1/shortcut/BatchNorm/moving_variance\n"
     ]
    },
    {
     "name": "stdout",
     "output_type": "stream",
     "text": [
      "INFO:tensorflow:Initialize variable resnet_v1_50/block4/unit_3/bottleneck_v1/conv1/BatchNorm/moving_variance:0 from checkpoint resnet_v1_50.ckpt with resnet_v1_50/block4/unit_3/bottleneck_v1/conv1/BatchNorm/moving_variance\n",
      "INFO:tensorflow:Initialize variable resnet_v1_50/block4/unit_3/bottleneck_v1/conv3/BatchNorm/moving_variance:0 from checkpoint resnet_v1_50.ckpt with resnet_v1_50/block4/unit_3/bottleneck_v1/conv3/BatchNorm/moving_variance\n",
      "INFO:tensorflow:Initialize variable resnet_v1_50/block2/unit_3/bottleneck_v1/conv2/BatchNorm/moving_variance:0 from checkpoint resnet_v1_50.ckpt with resnet_v1_50/block2/unit_3/bottleneck_v1/conv2/BatchNorm/moving_variance\n",
      "INFO:tensorflow:Initialize variable resnet_v1_50/block3/unit_3/bottleneck_v1/conv2/BatchNorm/beta:0 from checkpoint resnet_v1_50.ckpt with resnet_v1_50/block3/unit_3/bottleneck_v1/conv2/BatchNorm/beta\n",
      "INFO:tensorflow:Initialize variable resnet_v1_50/block3/unit_6/bottleneck_v1/conv1/weights:0 from checkpoint resnet_v1_50.ckpt with resnet_v1_50/block3/unit_6/bottleneck_v1/conv1/weights\n",
      "INFO:tensorflow:Initialize variable resnet_v1_50/block1/unit_1/bottleneck_v1/conv3/weights:0 from checkpoint resnet_v1_50.ckpt with resnet_v1_50/block1/unit_1/bottleneck_v1/conv3/weights\n",
      "INFO:tensorflow:Initialize variable resnet_v1_50/block4/unit_1/bottleneck_v1/conv2/BatchNorm/beta:0 from checkpoint resnet_v1_50.ckpt with resnet_v1_50/block4/unit_1/bottleneck_v1/conv2/BatchNorm/beta\n",
      "INFO:tensorflow:Initialize variable resnet_v1_50/block4/unit_1/bottleneck_v1/conv2/weights:0 from checkpoint resnet_v1_50.ckpt with resnet_v1_50/block4/unit_1/bottleneck_v1/conv2/weights\n",
      "INFO:tensorflow:Initialize variable resnet_v1_50/block4/unit_2/bottleneck_v1/conv1/BatchNorm/gamma:0 from checkpoint resnet_v1_50.ckpt with resnet_v1_50/block4/unit_2/bottleneck_v1/conv1/BatchNorm/gamma\n",
      "INFO:tensorflow:Initialize variable resnet_v1_50/block2/unit_2/bottleneck_v1/conv1/BatchNorm/gamma:0 from checkpoint resnet_v1_50.ckpt with resnet_v1_50/block2/unit_2/bottleneck_v1/conv1/BatchNorm/gamma\n",
      "INFO:tensorflow:Initialize variable resnet_v1_50/block4/unit_1/bottleneck_v1/conv1/weights:0 from checkpoint resnet_v1_50.ckpt with resnet_v1_50/block4/unit_1/bottleneck_v1/conv1/weights\n",
      "INFO:tensorflow:Initialize variable resnet_v1_50/block3/unit_6/bottleneck_v1/conv3/BatchNorm/gamma:0 from checkpoint resnet_v1_50.ckpt with resnet_v1_50/block3/unit_6/bottleneck_v1/conv3/BatchNorm/gamma\n",
      "INFO:tensorflow:Initialize variable resnet_v1_50/block3/unit_6/bottleneck_v1/conv3/BatchNorm/beta:0 from checkpoint resnet_v1_50.ckpt with resnet_v1_50/block3/unit_6/bottleneck_v1/conv3/BatchNorm/beta\n",
      "INFO:tensorflow:Initialize variable resnet_v1_50/block2/unit_3/bottleneck_v1/conv1/BatchNorm/beta:0 from checkpoint resnet_v1_50.ckpt with resnet_v1_50/block2/unit_3/bottleneck_v1/conv1/BatchNorm/beta\n",
      "INFO:tensorflow:Initialize variable resnet_v1_50/block2/unit_2/bottleneck_v1/conv2/BatchNorm/moving_mean:0 from checkpoint resnet_v1_50.ckpt with resnet_v1_50/block2/unit_2/bottleneck_v1/conv2/BatchNorm/moving_mean\n",
      "INFO:tensorflow:Initialize variable resnet_v1_50/block3/unit_3/bottleneck_v1/conv2/BatchNorm/moving_variance:0 from checkpoint resnet_v1_50.ckpt with resnet_v1_50/block3/unit_3/bottleneck_v1/conv2/BatchNorm/moving_variance\n",
      "INFO:tensorflow:Initialize variable resnet_v1_50/block3/unit_1/bottleneck_v1/conv2/weights:0 from checkpoint resnet_v1_50.ckpt with resnet_v1_50/block3/unit_1/bottleneck_v1/conv2/weights\n",
      "INFO:tensorflow:Initialize variable resnet_v1_50/block1/unit_3/bottleneck_v1/conv3/weights:0 from checkpoint resnet_v1_50.ckpt with resnet_v1_50/block1/unit_3/bottleneck_v1/conv3/weights\n",
      "INFO:tensorflow:Initialize variable resnet_v1_50/block2/unit_2/bottleneck_v1/conv1/BatchNorm/moving_variance:0 from checkpoint resnet_v1_50.ckpt with resnet_v1_50/block2/unit_2/bottleneck_v1/conv1/BatchNorm/moving_variance\n",
      "INFO:tensorflow:Initialize variable global_step:0 from checkpoint resnet_v1_50.ckpt with global_step\n",
      "INFO:tensorflow:Initialize variable resnet_v1_50/block1/unit_1/bottleneck_v1/conv1/BatchNorm/gamma:0 from checkpoint resnet_v1_50.ckpt with resnet_v1_50/block1/unit_1/bottleneck_v1/conv1/BatchNorm/gamma\n",
      "INFO:tensorflow:Initialize variable resnet_v1_50/block1/unit_2/bottleneck_v1/conv3/BatchNorm/gamma:0 from checkpoint resnet_v1_50.ckpt with resnet_v1_50/block1/unit_2/bottleneck_v1/conv3/BatchNorm/gamma\n",
      "INFO:tensorflow:Initialize variable resnet_v1_50/block4/unit_2/bottleneck_v1/conv3/BatchNorm/moving_mean:0 from checkpoint resnet_v1_50.ckpt with resnet_v1_50/block4/unit_2/bottleneck_v1/conv3/BatchNorm/moving_mean\n",
      "INFO:tensorflow:Initialize variable resnet_v1_50/block4/unit_1/bottleneck_v1/shortcut/BatchNorm/beta:0 from checkpoint resnet_v1_50.ckpt with resnet_v1_50/block4/unit_1/bottleneck_v1/shortcut/BatchNorm/beta\n",
      "INFO:tensorflow:Initialize variable resnet_v1_50/block2/unit_2/bottleneck_v1/conv1/BatchNorm/beta:0 from checkpoint resnet_v1_50.ckpt with resnet_v1_50/block2/unit_2/bottleneck_v1/conv1/BatchNorm/beta\n",
      "INFO:tensorflow:Initialize variable resnet_v1_50/block4/unit_2/bottleneck_v1/conv1/BatchNorm/moving_variance:0 from checkpoint resnet_v1_50.ckpt with resnet_v1_50/block4/unit_2/bottleneck_v1/conv1/BatchNorm/moving_variance\n",
      "INFO:tensorflow:Initialize variable resnet_v1_50/block3/unit_4/bottleneck_v1/conv3/BatchNorm/gamma:0 from checkpoint resnet_v1_50.ckpt with resnet_v1_50/block3/unit_4/bottleneck_v1/conv3/BatchNorm/gamma\n",
      "INFO:tensorflow:Initialize variable resnet_v1_50/conv1/BatchNorm/moving_mean:0 from checkpoint resnet_v1_50.ckpt with resnet_v1_50/conv1/BatchNorm/moving_mean\n",
      "INFO:tensorflow:Initialize variable resnet_v1_50/block4/unit_3/bottleneck_v1/conv1/weights:0 from checkpoint resnet_v1_50.ckpt with resnet_v1_50/block4/unit_3/bottleneck_v1/conv1/weights\n",
      "INFO:tensorflow:Initialize variable resnet_v1_50/block3/unit_4/bottleneck_v1/conv1/BatchNorm/beta:0 from checkpoint resnet_v1_50.ckpt with resnet_v1_50/block3/unit_4/bottleneck_v1/conv1/BatchNorm/beta\n",
      "INFO:tensorflow:Initialize variable resnet_v1_50/block1/unit_1/bottleneck_v1/conv2/BatchNorm/moving_variance:0 from checkpoint resnet_v1_50.ckpt with resnet_v1_50/block1/unit_1/bottleneck_v1/conv2/BatchNorm/moving_variance\n",
      "INFO:tensorflow:Initialize variable resnet_v1_50/block1/unit_1/bottleneck_v1/conv2/BatchNorm/moving_mean:0 from checkpoint resnet_v1_50.ckpt with resnet_v1_50/block1/unit_1/bottleneck_v1/conv2/BatchNorm/moving_mean\n",
      "INFO:tensorflow:Initialize variable resnet_v1_50/block2/unit_4/bottleneck_v1/conv3/BatchNorm/gamma:0 from checkpoint resnet_v1_50.ckpt with resnet_v1_50/block2/unit_4/bottleneck_v1/conv3/BatchNorm/gamma\n",
      "INFO:tensorflow:Initialize variable resnet_v1_50/block3/unit_3/bottleneck_v1/conv3/BatchNorm/beta:0 from checkpoint resnet_v1_50.ckpt with resnet_v1_50/block3/unit_3/bottleneck_v1/conv3/BatchNorm/beta\n",
      "INFO:tensorflow:Initialize variable resnet_v1_50/block3/unit_4/bottleneck_v1/conv3/weights:0 from checkpoint resnet_v1_50.ckpt with resnet_v1_50/block3/unit_4/bottleneck_v1/conv3/weights\n",
      "INFO:tensorflow:Initialize variable resnet_v1_50/block2/unit_1/bottleneck_v1/conv1/BatchNorm/moving_mean:0 from checkpoint resnet_v1_50.ckpt with resnet_v1_50/block2/unit_1/bottleneck_v1/conv1/BatchNorm/moving_mean\n",
      "INFO:tensorflow:Initialize variable resnet_v1_50/conv1/BatchNorm/gamma:0 from checkpoint resnet_v1_50.ckpt with resnet_v1_50/conv1/BatchNorm/gamma\n",
      "INFO:tensorflow:Initialize variable resnet_v1_50/block1/unit_1/bottleneck_v1/shortcut/BatchNorm/moving_mean:0 from checkpoint resnet_v1_50.ckpt with resnet_v1_50/block1/unit_1/bottleneck_v1/shortcut/BatchNorm/moving_mean\n",
      "INFO:tensorflow:Initialize variable resnet_v1_50/block2/unit_2/bottleneck_v1/conv1/weights:0 from checkpoint resnet_v1_50.ckpt with resnet_v1_50/block2/unit_2/bottleneck_v1/conv1/weights\n",
      "INFO:tensorflow:Initialize variable resnet_v1_50/block4/unit_2/bottleneck_v1/conv2/weights:0 from checkpoint resnet_v1_50.ckpt with resnet_v1_50/block4/unit_2/bottleneck_v1/conv2/weights\n",
      "INFO:tensorflow:Initialize variable resnet_v1_50/block2/unit_1/bottleneck_v1/conv2/BatchNorm/gamma:0 from checkpoint resnet_v1_50.ckpt with resnet_v1_50/block2/unit_1/bottleneck_v1/conv2/BatchNorm/gamma\n",
      "INFO:tensorflow:Initialize variable resnet_v1_50/block2/unit_1/bottleneck_v1/shortcut/weights:0 from checkpoint resnet_v1_50.ckpt with resnet_v1_50/block2/unit_1/bottleneck_v1/shortcut/weights\n"
     ]
    },
    {
     "name": "stdout",
     "output_type": "stream",
     "text": [
      "INFO:tensorflow:Initialize variable resnet_v1_50/block3/unit_6/bottleneck_v1/conv3/BatchNorm/moving_variance:0 from checkpoint resnet_v1_50.ckpt with resnet_v1_50/block3/unit_6/bottleneck_v1/conv3/BatchNorm/moving_variance\n",
      "INFO:tensorflow:Initialize variable resnet_v1_50/block2/unit_1/bottleneck_v1/conv2/BatchNorm/moving_variance:0 from checkpoint resnet_v1_50.ckpt with resnet_v1_50/block2/unit_1/bottleneck_v1/conv2/BatchNorm/moving_variance\n",
      "INFO:tensorflow:Initialize variable resnet_v1_50/block3/unit_1/bottleneck_v1/conv2/BatchNorm/moving_mean:0 from checkpoint resnet_v1_50.ckpt with resnet_v1_50/block3/unit_1/bottleneck_v1/conv2/BatchNorm/moving_mean\n",
      "INFO:tensorflow:Initialize variable resnet_v1_50/block2/unit_2/bottleneck_v1/conv3/weights:0 from checkpoint resnet_v1_50.ckpt with resnet_v1_50/block2/unit_2/bottleneck_v1/conv3/weights\n",
      "INFO:tensorflow:Initialize variable resnet_v1_50/block2/unit_3/bottleneck_v1/conv3/weights:0 from checkpoint resnet_v1_50.ckpt with resnet_v1_50/block2/unit_3/bottleneck_v1/conv3/weights\n",
      "INFO:tensorflow:Initialize variable resnet_v1_50/block4/unit_1/bottleneck_v1/conv3/BatchNorm/moving_mean:0 from checkpoint resnet_v1_50.ckpt with resnet_v1_50/block4/unit_1/bottleneck_v1/conv3/BatchNorm/moving_mean\n",
      "INFO:tensorflow:Initialize variable resnet_v1_50/block3/unit_4/bottleneck_v1/conv2/BatchNorm/moving_mean:0 from checkpoint resnet_v1_50.ckpt with resnet_v1_50/block3/unit_4/bottleneck_v1/conv2/BatchNorm/moving_mean\n",
      "INFO:tensorflow:Initialize variable resnet_v1_50/block3/unit_2/bottleneck_v1/conv3/BatchNorm/moving_mean:0 from checkpoint resnet_v1_50.ckpt with resnet_v1_50/block3/unit_2/bottleneck_v1/conv3/BatchNorm/moving_mean\n",
      "INFO:tensorflow:Initialize variable resnet_v1_50/block2/unit_4/bottleneck_v1/conv2/BatchNorm/moving_variance:0 from checkpoint resnet_v1_50.ckpt with resnet_v1_50/block2/unit_4/bottleneck_v1/conv2/BatchNorm/moving_variance\n",
      "INFO:tensorflow:Initialize variable resnet_v1_50/block3/unit_2/bottleneck_v1/conv2/BatchNorm/beta:0 from checkpoint resnet_v1_50.ckpt with resnet_v1_50/block3/unit_2/bottleneck_v1/conv2/BatchNorm/beta\n",
      "INFO:tensorflow:Initialize variable resnet_v1_50/block3/unit_3/bottleneck_v1/conv3/BatchNorm/moving_variance:0 from checkpoint resnet_v1_50.ckpt with resnet_v1_50/block3/unit_3/bottleneck_v1/conv3/BatchNorm/moving_variance\n",
      "INFO:tensorflow:Initialize variable resnet_v1_50/block1/unit_1/bottleneck_v1/conv2/BatchNorm/beta:0 from checkpoint resnet_v1_50.ckpt with resnet_v1_50/block1/unit_1/bottleneck_v1/conv2/BatchNorm/beta\n",
      "INFO:tensorflow:Initialize variable resnet_v1_50/block3/unit_1/bottleneck_v1/shortcut/BatchNorm/beta:0 from checkpoint resnet_v1_50.ckpt with resnet_v1_50/block3/unit_1/bottleneck_v1/shortcut/BatchNorm/beta\n",
      "INFO:tensorflow:Initialize variable resnet_v1_50/block4/unit_2/bottleneck_v1/conv2/BatchNorm/gamma:0 from checkpoint resnet_v1_50.ckpt with resnet_v1_50/block4/unit_2/bottleneck_v1/conv2/BatchNorm/gamma\n",
      "INFO:tensorflow:Initialize variable resnet_v1_50/block3/unit_3/bottleneck_v1/conv3/BatchNorm/moving_mean:0 from checkpoint resnet_v1_50.ckpt with resnet_v1_50/block3/unit_3/bottleneck_v1/conv3/BatchNorm/moving_mean\n",
      "INFO:tensorflow:Initialize variable resnet_v1_50/block1/unit_3/bottleneck_v1/conv2/BatchNorm/beta:0 from checkpoint resnet_v1_50.ckpt with resnet_v1_50/block1/unit_3/bottleneck_v1/conv2/BatchNorm/beta\n",
      "INFO:tensorflow:Initialize variable resnet_v1_50/block2/unit_4/bottleneck_v1/conv1/weights:0 from checkpoint resnet_v1_50.ckpt with resnet_v1_50/block2/unit_4/bottleneck_v1/conv1/weights\n",
      "INFO:tensorflow:Initialize variable resnet_v1_50/block2/unit_4/bottleneck_v1/conv1/BatchNorm/moving_variance:0 from checkpoint resnet_v1_50.ckpt with resnet_v1_50/block2/unit_4/bottleneck_v1/conv1/BatchNorm/moving_variance\n",
      "INFO:tensorflow:Initialize variable resnet_v1_50/block2/unit_4/bottleneck_v1/conv2/BatchNorm/gamma:0 from checkpoint resnet_v1_50.ckpt with resnet_v1_50/block2/unit_4/bottleneck_v1/conv2/BatchNorm/gamma\n",
      "INFO:tensorflow:Initialize variable resnet_v1_50/block1/unit_1/bottleneck_v1/conv3/BatchNorm/beta:0 from checkpoint resnet_v1_50.ckpt with resnet_v1_50/block1/unit_1/bottleneck_v1/conv3/BatchNorm/beta\n",
      "INFO:tensorflow:Initialize variable resnet_v1_50/block2/unit_3/bottleneck_v1/conv2/BatchNorm/gamma:0 from checkpoint resnet_v1_50.ckpt with resnet_v1_50/block2/unit_3/bottleneck_v1/conv2/BatchNorm/gamma\n",
      "INFO:tensorflow:Initialize variable resnet_v1_50/block3/unit_1/bottleneck_v1/shortcut/weights:0 from checkpoint resnet_v1_50.ckpt with resnet_v1_50/block3/unit_1/bottleneck_v1/shortcut/weights\n",
      "INFO:tensorflow:Initialize variable resnet_v1_50/block4/unit_1/bottleneck_v1/shortcut/BatchNorm/moving_mean:0 from checkpoint resnet_v1_50.ckpt with resnet_v1_50/block4/unit_1/bottleneck_v1/shortcut/BatchNorm/moving_mean\n",
      "INFO:tensorflow:Create CheckpointSaverHook.\n",
      "INFO:tensorflow:Saving checkpoints for 1 into /tmp/tmpjwebku45/model.ckpt.\n",
      "INFO:tensorflow:loss = 0.99328905, step = 1\n",
      "INFO:tensorflow:global_step/sec: 2.37142\n",
      "INFO:tensorflow:loss = 0.20616712, step = 101 (42.172 sec)\n",
      "INFO:tensorflow:global_step/sec: 2.3855\n",
      "INFO:tensorflow:loss = 0.14267522, step = 201 (41.919 sec)\n",
      "INFO:tensorflow:global_step/sec: 2.39675\n",
      "INFO:tensorflow:loss = 0.12698016, step = 301 (41.724 sec)\n",
      "INFO:tensorflow:global_step/sec: 2.39321\n",
      "INFO:tensorflow:loss = 0.18709359, step = 401 (41.783 sec)\n",
      "INFO:tensorflow:global_step/sec: 2.38189\n",
      "INFO:tensorflow:loss = 0.16123928, step = 501 (41.984 sec)\n",
      "INFO:tensorflow:global_step/sec: 2.40486\n",
      "INFO:tensorflow:loss = 0.15840937, step = 601 (41.583 sec)\n",
      "INFO:tensorflow:global_step/sec: 2.40236\n",
      "INFO:tensorflow:loss = 0.13667598, step = 701 (41.626 sec)\n",
      "INFO:tensorflow:global_step/sec: 2.39798\n",
      "INFO:tensorflow:loss = 0.18918979, step = 801 (41.702 sec)\n",
      "INFO:tensorflow:global_step/sec: 2.3873\n",
      "INFO:tensorflow:loss = 0.13789602, step = 901 (41.888 sec)\n",
      "INFO:tensorflow:global_step/sec: 2.40816\n",
      "INFO:tensorflow:loss = 0.15987125, step = 1001 (41.525 sec)\n",
      "INFO:tensorflow:global_step/sec: 2.38973\n",
      "INFO:tensorflow:loss = 0.17181809, step = 1101 (41.846 sec)\n",
      "INFO:tensorflow:global_step/sec: 2.43118\n",
      "INFO:tensorflow:loss = 0.1401303, step = 1201 (41.132 sec)\n",
      "INFO:tensorflow:global_step/sec: 2.41267\n",
      "INFO:tensorflow:loss = 0.12953737, step = 1301 (41.448 sec)\n",
      "INFO:tensorflow:global_step/sec: 2.37709\n",
      "INFO:tensorflow:loss = 0.16402881, step = 1401 (42.068 sec)\n",
      "INFO:tensorflow:Saving checkpoints for 1435 into /tmp/tmpjwebku45/model.ckpt.\n",
      "INFO:tensorflow:global_step/sec: 2.34763\n",
      "INFO:tensorflow:loss = 0.11117139, step = 1501 (42.596 sec)\n",
      "INFO:tensorflow:global_step/sec: 2.4132\n",
      "INFO:tensorflow:loss = 0.11885696, step = 1601 (41.439 sec)\n",
      "INFO:tensorflow:global_step/sec: 2.3992\n",
      "INFO:tensorflow:loss = 0.18954805, step = 1701 (41.681 sec)\n",
      "INFO:tensorflow:global_step/sec: 2.39141\n",
      "INFO:tensorflow:loss = 0.16008563, step = 1801 (41.817 sec)\n",
      "INFO:tensorflow:global_step/sec: 2.40873\n",
      "INFO:tensorflow:loss = 0.15239279, step = 1901 (41.514 sec)\n",
      "INFO:tensorflow:global_step/sec: 2.40932\n",
      "INFO:tensorflow:loss = 0.19816828, step = 2001 (41.505 sec)\n",
      "INFO:tensorflow:global_step/sec: 2.43147\n",
      "INFO:tensorflow:loss = 0.14881203, step = 2101 (41.127 sec)\n",
      "INFO:tensorflow:global_step/sec: 2.3869\n",
      "INFO:tensorflow:loss = 0.15818563, step = 2201 (41.896 sec)\n",
      "INFO:tensorflow:global_step/sec: 2.41429\n",
      "INFO:tensorflow:loss = 0.13821712, step = 2301 (41.420 sec)\n",
      "INFO:tensorflow:global_step/sec: 2.40126\n",
      "INFO:tensorflow:loss = 0.15789554, step = 2401 (41.645 sec)\n",
      "INFO:tensorflow:global_step/sec: 2.41322\n",
      "INFO:tensorflow:loss = 0.11539526, step = 2501 (41.439 sec)\n",
      "INFO:tensorflow:global_step/sec: 2.40461\n",
      "INFO:tensorflow:loss = 0.12218516, step = 2601 (41.586 sec)\n",
      "INFO:tensorflow:global_step/sec: 2.40002\n",
      "INFO:tensorflow:loss = 0.13771626, step = 2701 (41.666 sec)\n",
      "INFO:tensorflow:global_step/sec: 2.40379\n",
      "INFO:tensorflow:loss = 0.14961211, step = 2801 (41.601 sec)\n",
      "INFO:tensorflow:Saving checkpoints for 2876 into /tmp/tmpjwebku45/model.ckpt.\n",
      "INFO:tensorflow:global_step/sec: 2.32024\n",
      "INFO:tensorflow:loss = 0.122509405, step = 2901 (43.100 sec)\n",
      "INFO:tensorflow:global_step/sec: 2.39033\n",
      "INFO:tensorflow:loss = 0.16520025, step = 3001 (41.835 sec)\n",
      "INFO:tensorflow:global_step/sec: 2.40606\n",
      "INFO:tensorflow:loss = 0.15101661, step = 3101 (41.561 sec)\n"
     ]
    },
    {
     "name": "stdout",
     "output_type": "stream",
     "text": [
      "INFO:tensorflow:global_step/sec: 2.40393\n",
      "INFO:tensorflow:loss = 0.14694974, step = 3201 (41.599 sec)\n",
      "INFO:tensorflow:global_step/sec: 2.40649\n",
      "INFO:tensorflow:loss = 0.12387383, step = 3301 (41.555 sec)\n",
      "INFO:tensorflow:global_step/sec: 2.41816\n",
      "INFO:tensorflow:loss = 0.12761663, step = 3401 (41.354 sec)\n",
      "INFO:tensorflow:global_step/sec: 2.41241\n",
      "INFO:tensorflow:loss = 0.1212805, step = 3501 (41.453 sec)\n",
      "INFO:tensorflow:global_step/sec: 2.41443\n",
      "INFO:tensorflow:loss = 0.13194332, step = 3601 (41.417 sec)\n",
      "INFO:tensorflow:global_step/sec: 2.3927\n",
      "INFO:tensorflow:loss = 0.14245635, step = 3701 (41.795 sec)\n",
      "INFO:tensorflow:global_step/sec: 2.3829\n",
      "INFO:tensorflow:loss = 0.15466698, step = 3801 (41.964 sec)\n",
      "INFO:tensorflow:global_step/sec: 2.39695\n",
      "INFO:tensorflow:loss = 0.14068937, step = 3901 (41.720 sec)\n",
      "INFO:tensorflow:global_step/sec: 2.38597\n",
      "INFO:tensorflow:loss = 0.14200671, step = 4001 (41.912 sec)\n",
      "INFO:tensorflow:global_step/sec: 2.40734\n",
      "INFO:tensorflow:loss = 0.15384819, step = 4101 (41.539 sec)\n",
      "INFO:tensorflow:global_step/sec: 2.40658\n",
      "INFO:tensorflow:loss = 0.15347151, step = 4201 (41.553 sec)\n",
      "INFO:tensorflow:global_step/sec: 2.38662\n",
      "INFO:tensorflow:loss = 0.11004932, step = 4301 (41.900 sec)\n",
      "INFO:tensorflow:Saving checkpoints for 4314 into /tmp/tmpjwebku45/model.ckpt.\n",
      "INFO:tensorflow:global_step/sec: 2.33388\n",
      "INFO:tensorflow:loss = 0.123941585, step = 4401 (42.848 sec)\n",
      "INFO:tensorflow:global_step/sec: 2.39969\n",
      "INFO:tensorflow:loss = 0.13749163, step = 4501 (41.673 sec)\n",
      "INFO:tensorflow:global_step/sec: 2.41891\n",
      "INFO:tensorflow:loss = 0.15786679, step = 4601 (41.339 sec)\n",
      "INFO:tensorflow:global_step/sec: 2.40999\n",
      "INFO:tensorflow:loss = 0.16093656, step = 4701 (41.493 sec)\n",
      "INFO:tensorflow:global_step/sec: 2.42372\n",
      "INFO:tensorflow:loss = 0.1594322, step = 4801 (41.259 sec)\n",
      "INFO:tensorflow:global_step/sec: 2.4006\n",
      "INFO:tensorflow:loss = 0.10136539, step = 4901 (41.656 sec)\n",
      "INFO:tensorflow:global_step/sec: 2.40199\n",
      "INFO:tensorflow:loss = 0.11742782, step = 5001 (41.632 sec)\n",
      "INFO:tensorflow:global_step/sec: 2.41184\n",
      "INFO:tensorflow:loss = 0.14207466, step = 5101 (41.462 sec)\n",
      "INFO:tensorflow:global_step/sec: 2.42042\n",
      "INFO:tensorflow:loss = 0.15532015, step = 5201 (41.315 sec)\n",
      "INFO:tensorflow:global_step/sec: 2.42082\n",
      "INFO:tensorflow:loss = 0.14822896, step = 5301 (41.308 sec)\n",
      "INFO:tensorflow:global_step/sec: 2.40947\n",
      "INFO:tensorflow:loss = 0.121496335, step = 5401 (41.503 sec)\n",
      "INFO:tensorflow:global_step/sec: 2.39552\n",
      "INFO:tensorflow:loss = 0.10453309, step = 5501 (41.744 sec)\n",
      "INFO:tensorflow:global_step/sec: 2.39267\n",
      "INFO:tensorflow:loss = 0.11361648, step = 5601 (41.794 sec)\n",
      "INFO:tensorflow:global_step/sec: 2.41272\n",
      "INFO:tensorflow:loss = 0.14027, step = 5701 (41.448 sec)\n",
      "INFO:tensorflow:Saving checkpoints for 5757 into /tmp/tmpjwebku45/model.ckpt.\n",
      "INFO:tensorflow:global_step/sec: 2.33253\n",
      "INFO:tensorflow:loss = 0.14636259, step = 5801 (42.872 sec)\n",
      "INFO:tensorflow:global_step/sec: 2.42648\n",
      "INFO:tensorflow:loss = 0.12146634, step = 5901 (41.232 sec)\n",
      "INFO:tensorflow:global_step/sec: 2.41673\n",
      "INFO:tensorflow:loss = 0.15999201, step = 6001 (41.359 sec)\n",
      "INFO:tensorflow:global_step/sec: 2.41418\n",
      "INFO:tensorflow:loss = 0.14645001, step = 6101 (41.423 sec)\n",
      "INFO:tensorflow:Saving checkpoints for 6160 into /tmp/tmpjwebku45/model.ckpt.\n",
      "INFO:tensorflow:Loss for final step: 0.11968867.\n",
      "CPU times: user 7h 53s, sys: 5min 33s, total: 7h 6min 27s\n",
      "Wall time: 43min 14s\n"
     ]
    },
    {
     "data": {
      "text/plain": [
       "<tensorflow.python.estimator.estimator.Estimator at 0x7fc3cdb620f0>"
      ]
     },
     "execution_count": 17,
     "metadata": {},
     "output_type": "execute_result"
    }
   ],
   "source": [
    "%%time\n",
    "# 48mins\n",
    "nn.train(train_input_fn, \n",
    "         max_steps=EPOCHS*(train_dataset.data_size//BATCHSIZE))"
   ]
  },
  {
   "cell_type": "code",
   "execution_count": 18,
   "metadata": {},
   "outputs": [
    {
     "name": "stdout",
     "output_type": "stream",
     "text": [
      "WARNING:tensorflow:Input graph does not contain a QueueRunner. That means predict yields forever. This is probably a mistake.\n",
      "INFO:tensorflow:Restoring parameters from /tmp/tmpjwebku45/model.ckpt-6160\n",
      "CPU times: user 21min 57s, sys: 12.8 s, total: 22min 9s\n",
      "Wall time: 2min 2s\n"
     ]
    }
   ],
   "source": [
    "%%time\n",
    "predictions = list(nn.predict(test_input_fn))"
   ]
  },
  {
   "cell_type": "code",
   "execution_count": 19,
   "metadata": {},
   "outputs": [
    {
     "name": "stdout",
     "output_type": "stream",
     "text": [
      "Full AUC [0.7889812749842573, 0.8590296734722328, 0.7607959232078535, 0.8805789172123603, 0.8641257317950977, 0.8545835104345408, 0.7613864146649918, 0.8573969366356082, 0.6837787662329343, 0.778462788796783, 0.7023889972324879, 0.7618695878649314, 0.7320212135686417, 0.8158625489955312]\n",
      "Test AUC: 0.7929\n"
     ]
    }
   ],
   "source": [
    "np.array(predictions).shape\n",
    "y_truth = test_dataset.labels\n",
    "y_guess = np.array(predictions)\n",
    "print(\"Test AUC: {0:.4f}\".format(compute_roc_auc(y_truth, y_guess, CLASSES))) "
   ]
  }
 ],
 "metadata": {
  "kernelspec": {
   "display_name": "Python [default]",
   "language": "python",
   "name": "python3"
  },
  "language_info": {
   "codemirror_mode": {
    "name": "ipython",
    "version": 3
   },
   "file_extension": ".py",
   "mimetype": "text/x-python",
   "name": "python",
   "nbconvert_exporter": "python",
   "pygments_lexer": "ipython3",
   "version": "3.5.2"
  }
 },
 "nbformat": 4,
 "nbformat_minor": 2
}
