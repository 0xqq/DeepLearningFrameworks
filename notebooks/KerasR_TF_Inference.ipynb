{
 "cells": [
  {
   "cell_type": "code",
   "execution_count": 1,
   "metadata": {
    "collapsed": true
   },
   "outputs": [],
   "source": [
    "# SETUP\n",
    "#\n",
    "# Install keras R\n",
    "# install.packages('keras')\n",
    "# \n",
    "# Update reticulate from cran (it defaults to mran which has an outdated version)\n",
    "# install.packages(\"reticulate\", repos = \"https://cloud.r-project.org\")"
   ]
  },
  {
   "cell_type": "code",
   "execution_count": 2,
   "metadata": {},
   "outputs": [
    {
     "name": "stderr",
     "output_type": "stream",
     "text": [
      "Loading required package: rjson\n"
     ]
    }
   ],
   "source": [
    "library(keras)\n",
    "use_python('/anaconda/envs/py35')\n",
    "\n",
    "# Import util functions\n",
    "source(\"./common/utils.R\")\n",
    "\n",
    "# Import hyper-parameters\n",
    "params <- load_params(\"inference\")"
   ]
  },
  {
   "cell_type": "code",
   "execution_count": 3,
   "metadata": {},
   "outputs": [
    {
     "name": "stdout",
     "output_type": "stream",
     "text": [
      "[1] \"OS: Linux\"\n",
      "[1] \"R version 3.4.1 (2017-06-30)\"\n",
      "[1] \"Keras: 2.1.4\"\n",
      "[1] \"Tensorflow: 1.5\"\n",
      "[1] \"Keras using tensorflow\"\n",
      "[1] \"Keras channel ordering is channels_last\"\n"
     ]
    }
   ],
   "source": [
    "# py_config()\n",
    "print(paste0(\"OS: \", Sys.info()[\"sysname\"]))\n",
    "print(R.version$version.string)\n",
    "print(paste0(\"Keras: \", packageVersion(\"keras\")))\n",
    "print(paste0(\"Tensorflow: \", packageVersion(\"tensorflow\")))\n",
    "print(paste0(\"Keras using \", backend()$backend()))\n",
    "print(paste0(\"Keras channel ordering is \", backend()$image_data_format())) "
   ]
  },
  {
   "cell_type": "code",
   "execution_count": 10,
   "metadata": {
    "collapsed": true
   },
   "outputs": [],
   "source": [
    "fake_data <- give_fake_data(batches = params$BATCH_SIZE * params$BATCHES_GPU, col_major = FALSE)"
   ]
  },
  {
   "cell_type": "raw",
   "metadata": {
    "collapsed": true
   },
   "source": [
    "# Create batches of fake data\n",
    "fake_data <- give_fake_data(params$BATCH_SIZE * params$BATCHES_GPU)\n",
    "fake_input_data_cl <- fake_data[[1]]"
   ]
  },
  {
   "cell_type": "code",
   "execution_count": 68,
   "metadata": {},
   "outputs": [
    {
     "name": "stdout",
     "output_type": "stream",
     "text": [
      "x_train shape: 1280 224 224 3 \n"
     ]
    }
   ],
   "source": [
    "cat('x_train shape:', dim(fake_data), '\\n')"
   ]
  },
  {
   "cell_type": "code",
   "execution_count": 69,
   "metadata": {
    "collapsed": true
   },
   "outputs": [],
   "source": [
    "vec_list <- split(fake_data, as.factor(rep(1:params$BATCHES_GPU, each = params$BATCH_SIZE)))\n",
    "\n",
    "batch_list <- lapply(vec_list, function(x) array(x, c(params$BATCH_SIZE, 224, 224, 3)))"
   ]
  },
  {
   "cell_type": "code",
   "execution_count": 74,
   "metadata": {
    "collapsed": true
   },
   "outputs": [],
   "source": [
    "# instantiate the model\n",
    "model <- application_resnet50(include_top = FALSE, input_shape = c(224L, 224L, 3L))"
   ]
  },
  {
   "cell_type": "code",
   "execution_count": 14,
   "metadata": {
    "collapsed": true
   },
   "outputs": [],
   "source": [
    "#summary(model)"
   ]
  },
  {
   "cell_type": "code",
   "execution_count": 70,
   "metadata": {
    "collapsed": true
   },
   "outputs": [],
   "source": [
    "predict_on_batch_list <- function(batch, classifier) {predict_on_batch(classifier, batch)}"
   ]
  },
  {
   "cell_type": "code",
   "execution_count": 72,
   "metadata": {},
   "outputs": [
    {
     "data": {
      "text/plain": [
       "   user  system elapsed \n",
       " 16.408   2.338  18.178 "
      ]
     },
     "metadata": {},
     "output_type": "display_data"
    }
   ],
   "source": [
    "system.time(\n",
    "    features <- lapply(batch_list, predict_on_batch_list, model)\n",
    ")"
   ]
  },
  {
   "cell_type": "code",
   "execution_count": 82,
   "metadata": {},
   "outputs": [
    {
     "data": {
      "text/plain": [
       "   user  system elapsed \n",
       " 15.178   2.336  16.816 "
      ]
     },
     "metadata": {},
     "output_type": "display_data"
    }
   ],
   "source": [
    "system.time(\n",
    "    features <- predict(model, x = fake_data, batch_size = params$BATCH_SIZE)\n",
    ")"
   ]
  },
  {
   "cell_type": "code",
   "execution_count": null,
   "metadata": {
    "collapsed": true
   },
   "outputs": [],
   "source": [
    "# Return features from classifier\n",
    "predict_fn <- function(classifier, data, batchsize){\n",
    "    out <- array(0, dim = c(dim(data)[1], params$RESNET_FEATURES))\n",
    "    idx <- 0:(dim(data)[1] %/% batchsize - 1)\n",
    "    for (i in idx){\n",
    "        dta <- data[(i*batchsize + 1):((i+1)*batchsize),,,]\n",
    "        out[(i*batchsize + 1):((i+1)*batchsize), ] <- predict_on_batch(classifier, dta)\n",
    "    }\n",
    "    return(out)\n",
    "}"
   ]
  },
  {
   "cell_type": "code",
   "execution_count": 16,
   "metadata": {
    "scrolled": false
   },
   "outputs": [
    {
     "name": "stdout",
     "output_type": "stream",
     "text": [
      "   user  system elapsed \n",
      " 19.638   2.469  21.680 \n"
     ]
    }
   ],
   "source": [
    "# Time execution \n",
    "t <- system.time({\n",
    "    features_cl = predict_fn(model, fake_data, params$BATCH_SIZE)\n",
    "})\n",
    "print(t)"
   ]
  },
  {
   "cell_type": "code",
   "execution_count": 17,
   "metadata": {},
   "outputs": [
    {
     "name": "stdout",
     "output_type": "stream",
     "text": [
      "[1] \"Images per second  59.040590405904\"\n"
     ]
    }
   ],
   "source": [
    "# Time execution on channels-first data\n",
    "print(paste(\"Images per second \", (params$BATCH_SIZE * params$BATCHES_GPU)/t[3]))"
   ]
  },
  {
   "cell_type": "code",
   "execution_count": null,
   "metadata": {
    "collapsed": true
   },
   "outputs": [],
   "source": []
  }
 ],
 "metadata": {
  "kernelspec": {
   "display_name": "R",
   "language": "R",
   "name": "ir"
  },
  "language_info": {
   "codemirror_mode": "r",
   "file_extension": ".r",
   "mimetype": "text/x-r-source",
   "name": "R",
   "pygments_lexer": "r",
   "version": "3.4.1"
  }
 },
 "nbformat": 4,
 "nbformat_minor": 2
}
