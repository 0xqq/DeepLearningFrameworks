{
 "cells": [
  {
   "cell_type": "code",
   "execution_count": 1,
   "metadata": {
    "collapsed": true
   },
   "outputs": [],
   "source": [
    "# SETUP\n",
    "#\n",
    "# Install keras R\n",
    "# install.packages('keras')\n",
    "# \n",
    "# Update reticulate from cran (it defaults to mran which has an outdated version)\n",
    "# install.packages(\"reticulate\", repos = \"https://cloud.r-project.org\")"
   ]
  },
  {
   "cell_type": "code",
   "execution_count": 2,
   "metadata": {},
   "outputs": [
    {
     "name": "stderr",
     "output_type": "stream",
     "text": [
      "Loading required package: rjson\n"
     ]
    }
   ],
   "source": [
    "library(keras)\n",
    "use_python('/anaconda/envs/py35')\n",
    "\n",
    "# Import util functions\n",
    "source(\"./common/utils.R\")\n",
    "\n",
    "# Import hyper-parameters\n",
    "params <- load_params(\"inference\")"
   ]
  },
  {
   "cell_type": "code",
   "execution_count": 3,
   "metadata": {},
   "outputs": [
    {
     "name": "stdout",
     "output_type": "stream",
     "text": [
      "[1] \"OS: Linux\"\n",
      "[1] \"R version 3.4.1 (2017-06-30)\"\n",
      "[1] \"Keras: 2.0.6\"\n",
      "[1] \"Tensorflow: 1.3.1\"\n",
      "[1] \"Keras using tensorflow\"\n",
      "[1] \"Keras channel ordering is channels_last\"\n"
     ]
    }
   ],
   "source": [
    "# py_config()\n",
    "print(paste0(\"OS: \", Sys.info()[\"sysname\"]))\n",
    "print(R.version$version.string)\n",
    "print(paste0(\"Keras: \", packageVersion(\"keras\")))\n",
    "print(paste0(\"Tensorflow: \", packageVersion(\"tensorflow\")))\n",
    "print(paste0(\"Keras using \", backend()$backend()))\n",
    "print(paste0(\"Keras channel ordering is \", backend()$image_data_format())) \n",
    "print(paste0(\"GPU: \", get_gpu_name()))\n",
    "print(get_cuda_version())\n",
    "print(get_cudnn_version())"
   ]
  },
  {
   "cell_type": "code",
   "execution_count": 4,
   "metadata": {
    "collapsed": true
   },
   "outputs": [],
   "source": [
    "# Create batches of fake data\n",
    "fake_data <- give_fake_data(params$BATCH_SIZE * params$BATCHES_GPU)\n",
    "fake_input_data_cl <- fake_data[[1]]"
   ]
  },
  {
   "cell_type": "code",
   "execution_count": 5,
   "metadata": {},
   "outputs": [
    {
     "name": "stdout",
     "output_type": "stream",
     "text": [
      "x_train shape: 1280 224 224 3 \n"
     ]
    }
   ],
   "source": [
    "cat('x_train shape:', dim(fake_input_data_cl), '\\n')"
   ]
  },
  {
   "cell_type": "code",
   "execution_count": 6,
   "metadata": {
    "collapsed": true
   },
   "outputs": [],
   "source": [
    "# Return features from classifier\n",
    "predict_fn <- function(classifier, data, batchsize){\n",
    "    out <- array(0, dim = c(dim(data)[1], params$RESNET_FEATURES))\n",
    "    idx <- 0:(dim(data)[1] %/% batchsize - 1)\n",
    "    for (i in idx){\n",
    "        dta <- data[(i*batchsize + 1):((i+1)*batchsize),,,]\n",
    "        out[(i*batchsize + 1):((i+1)*batchsize), ] <- predict_on_batch(classifier, dta)\n",
    "    }\n",
    "    return(out)\n",
    "}"
   ]
  },
  {
   "cell_type": "code",
   "execution_count": 7,
   "metadata": {
    "collapsed": true
   },
   "outputs": [],
   "source": [
    "# instantiate the model\n",
    "model <- application_resnet50(include_top = FALSE, input_shape = c(224L, 224L, 3L))"
   ]
  },
  {
   "cell_type": "code",
   "execution_count": 8,
   "metadata": {
    "collapsed": true
   },
   "outputs": [],
   "source": [
    "#summary(model)"
   ]
  },
  {
   "cell_type": "code",
   "execution_count": 9,
   "metadata": {
    "scrolled": false
   },
   "outputs": [
    {
     "data": {
      "text/plain": [
       "   user  system elapsed \n",
       " 19.893   3.127  23.384 "
      ]
     },
     "metadata": {},
     "output_type": "display_data"
    }
   ],
   "source": [
    "# Time execution \n",
    "ptm <- proc.time()\n",
    "features_cl = predict_fn(model, fake_input_data_cl, params$BATCH_SIZE)\n",
    "proc.time() - ptm"
   ]
  },
  {
   "cell_type": "code",
   "execution_count": 10,
   "metadata": {},
   "outputs": [
    {
     "name": "stdout",
     "output_type": "stream",
     "text": [
      "[1] \"Images per second  54.7476475620188\"\n"
     ]
    }
   ],
   "source": [
    "# Time execution on channels-first data\n",
    "print(paste(\"Images per second \", (params$BATCH_SIZE * params$BATCHES_GPU)/23.38))"
   ]
  },
  {
   "cell_type": "code",
   "execution_count": null,
   "metadata": {
    "collapsed": true
   },
   "outputs": [],
   "source": []
  }
 ],
 "metadata": {
  "kernelspec": {
   "display_name": "R",
   "language": "R",
   "name": "ir"
  },
  "language_info": {
   "codemirror_mode": "r",
   "file_extension": ".r",
   "mimetype": "text/x-r-source",
   "name": "R",
   "pygments_lexer": "r",
   "version": "3.4.1"
  }
 },
 "nbformat": 4,
 "nbformat_minor": 2
}
