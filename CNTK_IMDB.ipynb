{
 "cells": [
  {
   "cell_type": "markdown",
   "metadata": {},
   "source": [
    "# High-level LSTM CNTK Example"
   ]
  },
  {
   "cell_type": "code",
   "execution_count": 16,
   "metadata": {},
   "outputs": [
    {
     "name": "stdout",
     "output_type": "stream",
     "text": [
      "Not working for some reason ...\n"
     ]
    }
   ],
   "source": [
    "print(\"Not working for some reason ...\")"
   ]
  },
  {
   "cell_type": "code",
   "execution_count": 2,
   "metadata": {
    "collapsed": true
   },
   "outputs": [],
   "source": [
    "import numpy as np\n",
    "import os\n",
    "import sys\n",
    "import cntk\n",
    "from cntk.layers import Embedding, LSTM, Dense, Recurrence\n",
    "from cntk import sequence\n",
    "from common.params_lstm import *\n",
    "from common.utils import *"
   ]
  },
  {
   "cell_type": "code",
   "execution_count": 3,
   "metadata": {},
   "outputs": [
    {
     "name": "stdout",
     "output_type": "stream",
     "text": [
      "OS:  linux\n",
      "Python:  3.5.2 |Anaconda custom (64-bit)| (default, Jul  2 2016, 17:53:06) \n",
      "[GCC 4.4.7 20120313 (Red Hat 4.4.7-1)]\n",
      "Numpy:  1.13.1\n",
      "CNTK:  2.1\n",
      "GPU:  ['Tesla K80', 'Tesla K80']\n"
     ]
    }
   ],
   "source": [
    "print(\"OS: \", sys.platform)\n",
    "print(\"Python: \", sys.version)\n",
    "print(\"Numpy: \", np.__version__)\n",
    "print(\"CNTK: \", cntk.__version__)\n",
    "print(\"GPU: \", get_gpu_name())"
   ]
  },
  {
   "cell_type": "code",
   "execution_count": 4,
   "metadata": {
    "collapsed": true
   },
   "outputs": [],
   "source": [
    "def create_symbol():\n",
    "    # Weight initialiser from uniform distribution\n",
    "    # Activation (unless states) is None\n",
    "    with cntk.layers.default_options(init = cntk.glorot_uniform()):\n",
    "        x = Embedding(NUMHIDDEN)(features)\n",
    "        # Fold same as recurrence but returns only final-state\n",
    "        x = Recurrence(LSTM(NUMHIDDEN))(x)\n",
    "        x = sequence.last(x)\n",
    "        x = Dense(1)(x)\n",
    "        return x"
   ]
  },
  {
   "cell_type": "code",
   "execution_count": 5,
   "metadata": {},
   "outputs": [],
   "source": [
    "def init_model(m):\n",
    "    # Loss (dense labels); check if support for sparse labels\n",
    "    loss = cntk.binary_cross_entropy(m, labels)  \n",
    "    # ADAM\n",
    "    #Alpha is the learning_rate\n",
    "    #Beta1 is momentum parameter\n",
    "    #Beta2 is variance_momentum parameter  \n",
    "    learner = cntk.adam(m.parameters,\n",
    "                        lr=cntk.learning_rate_schedule(LR, cntk.UnitType.minibatch) ,\n",
    "                        momentum=cntk.momentum_schedule(BETA_1), \n",
    "                        variance_momentum=cntk.momentum_schedule(BETA_2),\n",
    "                        epsilon=EPS,\n",
    "                        unit_gain=False)\n",
    "    trainer = cntk.Trainer(m, (loss, cntk.classification_error(m, labels)), [learner])\n",
    "    return trainer"
   ]
  },
  {
   "cell_type": "code",
   "execution_count": 6,
   "metadata": {},
   "outputs": [
    {
     "name": "stdout",
     "output_type": "stream",
     "text": [
      "Downloading https://s3.amazonaws.com/text-datasets/imdb.npz\n",
      "Done.\n",
      "Extracting files...\n",
      "Done.\n",
      "Trimming to 25000 max-features\n",
      "Padding to length 150\n",
      "(25000, 150) (25000, 150) (25000,) (25000,)\n",
      "int32 int32 float32 float32\n",
      "CPU times: user 5.58 s, sys: 360 ms, total: 5.94 s\n",
      "Wall time: 6.99 s\n"
     ]
    }
   ],
   "source": [
    "%%time\n",
    "# Data into format for library\n",
    "x_train, x_test, y_train, y_test = imdb_for_library(seq_len=MAXLEN, max_features=MAXFEATURES)# CNTK format\n",
    "y_train = y_train.astype(np.float32)\n",
    "y_test = y_test.astype(np.float32)\n",
    "print(x_train.shape, x_test.shape, y_train.shape, y_test.shape)\n",
    "print(x_train.dtype, x_test.dtype, y_train.dtype, y_test.dtype)"
   ]
  },
  {
   "cell_type": "code",
   "execution_count": 13,
   "metadata": {},
   "outputs": [
    {
     "name": "stdout",
     "output_type": "stream",
     "text": [
      "CPU times: user 12 ms, sys: 0 ns, total: 12 ms\n",
      "Wall time: 11.7 ms\n"
     ]
    }
   ],
   "source": [
    "%%time\n",
    "# Placeholders\n",
    "features = sequence.input_variable(shape=MAXFEATURES, is_sparse=False)\n",
    "labels = cntk.input_variable(1)\n",
    "# Load symbol\n",
    "sym = create_symbol()"
   ]
  },
  {
   "cell_type": "code",
   "execution_count": 14,
   "metadata": {},
   "outputs": [
    {
     "name": "stdout",
     "output_type": "stream",
     "text": [
      "CPU times: user 36 ms, sys: 4 ms, total: 40 ms\n",
      "Wall time: 41.1 ms\n"
     ]
    }
   ],
   "source": [
    "%%time\n",
    "trainer = init_model(sym)"
   ]
  },
  {
   "cell_type": "code",
   "execution_count": 15,
   "metadata": {},
   "outputs": [
    {
     "name": "stderr",
     "output_type": "stream",
     "text": [
      "/anaconda/envs/py35/lib/python3.5/site-packages/cntk/core.py:361: UserWarning: your data is of type \"int32\", but your input variable (uid \"Input1633\") expects \"<class 'numpy.float32'>\". Please convert your data beforehand to speed up training.\n",
      "  (sample.dtype, var.uid, str(var.dtype)))\n"
     ]
    },
    {
     "ename": "ValueError",
     "evalue": "The trailing dimensions of the Value shape '[64 x 150]' do not match the Variable 'Input('Input1633', [#, *], [25000])' shape '[25000]'.\n\n[CALL STACK]\n[0x7f4610eb35ec]                                                       + 0x6735ec\n[0x7f4610f8589a]    CNTK::Utils::  VerifyVariableValueCompatibility  (CNTK::Variable const&,  std::shared_ptr<CNTK::Value> const&,  CNTK::NDShape*) + 0xb0a\n[0x7f4610efaf02]    CNTK::CompositeFunction::  InferFreeDimensionsOfArguments  (std::unordered_map<CNTK::Variable,std::shared_ptr<CNTK::Value>,std::hash<CNTK::Variable>,std::equal_to<CNTK::Variable>,std::allocator<std::pair<CNTK::Variable const,std::shared_ptr<CNTK::Value>>>> const&) + 0x142\n[0x7f4610eff88e]    CNTK::CompositeFunction::  Forward  (std::unordered_map<CNTK::Variable,std::shared_ptr<CNTK::Value>,std::hash<CNTK::Variable>,std::equal_to<CNTK::Variable>,std::allocator<std::pair<CNTK::Variable const,std::shared_ptr<CNTK::Value>>>> const&,  std::unordered_map<CNTK::Variable,std::shared_ptr<CNTK::Value>,std::hash<CNTK::Variable>,std::equal_to<CNTK::Variable>,std::allocator<std::pair<CNTK::Variable const,std::shared_ptr<CNTK::Value>>>>&,  CNTK::DeviceDescriptor const&,  std::unordered_set<CNTK::Variable,std::hash<CNTK::Variable>,std::equal_to<CNTK::Variable>,std::allocator<CNTK::Variable>> const&,  std::unordered_set<CNTK::Variable,std::hash<CNTK::Variable>,std::equal_to<CNTK::Variable>,std::allocator<CNTK::Variable>> const&) + 0x46e\n[0x7f4610ebd9f1]    CNTK::Function::  Forward  (std::unordered_map<CNTK::Variable,std::shared_ptr<CNTK::Value>,std::hash<CNTK::Variable>,std::equal_to<CNTK::Variable>,std::allocator<std::pair<CNTK::Variable const,std::shared_ptr<CNTK::Value>>>> const&,  std::unordered_map<CNTK::Variable,std::shared_ptr<CNTK::Value>,std::hash<CNTK::Variable>,std::equal_to<CNTK::Variable>,std::allocator<std::pair<CNTK::Variable const,std::shared_ptr<CNTK::Value>>>>&,  CNTK::DeviceDescriptor const&,  std::unordered_set<CNTK::Variable,std::hash<CNTK::Variable>,std::equal_to<CNTK::Variable>,std::allocator<CNTK::Variable>> const&,  std::unordered_set<CNTK::Variable,std::hash<CNTK::Variable>,std::equal_to<CNTK::Variable>,std::allocator<CNTK::Variable>> const&) + 0x81\n[0x7f4610f7932d]    CNTK::Trainer::  ExecuteForwardBackward  (std::unordered_map<CNTK::Variable,std::shared_ptr<CNTK::Value>,std::hash<CNTK::Variable>,std::equal_to<CNTK::Variable>,std::allocator<std::pair<CNTK::Variable const,std::shared_ptr<CNTK::Value>>>> const&,  std::unordered_map<CNTK::Variable,std::shared_ptr<CNTK::Value>,std::hash<CNTK::Variable>,std::equal_to<CNTK::Variable>,std::allocator<std::pair<CNTK::Variable const,std::shared_ptr<CNTK::Value>>>>&,  CNTK::DeviceDescriptor const&,  std::unordered_map<CNTK::Variable,std::shared_ptr<CNTK::Value>,std::hash<CNTK::Variable>,std::equal_to<CNTK::Variable>,std::allocator<std::pair<CNTK::Variable const,std::shared_ptr<CNTK::Value>>>>&) + 0x24d\n[0x7f4610f79e73]    CNTK::Trainer::  TrainLocalMinibatch  (std::unordered_map<CNTK::Variable,std::shared_ptr<CNTK::Value>,std::hash<CNTK::Variable>,std::equal_to<CNTK::Variable>,std::allocator<std::pair<CNTK::Variable const,std::shared_ptr<CNTK::Value>>>> const&,  std::unordered_map<CNTK::Variable,std::shared_ptr<CNTK::Value>,std::hash<CNTK::Variable>,std::equal_to<CNTK::Variable>,std::allocator<std::pair<CNTK::Variable const,std::shared_ptr<CNTK::Value>>>>&,  bool,  CNTK::DeviceDescriptor const&) + 0xd3\n[0x7f4610f7ab34]    CNTK::Trainer::  TrainMinibatch  (std::unordered_map<CNTK::Variable,std::shared_ptr<CNTK::Value>,std::hash<CNTK::Variable>,std::equal_to<CNTK::Variable>,std::allocator<std::pair<CNTK::Variable const,std::shared_ptr<CNTK::Value>>>> const&,  std::unordered_map<CNTK::Variable,std::shared_ptr<CNTK::Value>,std::hash<CNTK::Variable>,std::equal_to<CNTK::Variable>,std::allocator<std::pair<CNTK::Variable const,std::shared_ptr<CNTK::Value>>>>&,  CNTK::DeviceDescriptor const&) + 0x44\n[0x7f4610f7ac30]    CNTK::Trainer::  TrainMinibatch  (std::unordered_map<CNTK::Variable,std::shared_ptr<CNTK::Value>,std::hash<CNTK::Variable>,std::equal_to<CNTK::Variable>,std::allocator<std::pair<CNTK::Variable const,std::shared_ptr<CNTK::Value>>>> const&,  CNTK::DeviceDescriptor const&) + 0xa0\n[0x7f4611943c9f]                                                       + 0x1efc9f\n[0x7f4655c765e9]    PyCFunction_Call                                   + 0xf9\n[0x7f4655cfb7c0]    PyEval_EvalFrameEx                                 + 0x6ba0\n[0x7f4655cfeb49]                                                       + 0x144b49\n[0x7f4655cfddf5]    PyEval_EvalFrameEx                                 + 0x91d5\n[0x7f4655cfeb49]                                                       + 0x144b49\n[0x7f4655cfddf5]    PyEval_EvalFrameEx                                 + 0x91d5\n[0x7f4655cfeb49]                                                       + 0x144b49\n[0x7f4655cfecd8]    PyEval_EvalCodeEx                                  + 0x48\n[0x7f4655cfed1b]    PyEval_EvalCode                                    + 0x3b\n[0x7f4655cf1dfe]                                                       + 0x137dfe\n[0x7f4655c765e9]    PyCFunction_Call                                   + 0xf9\n[0x7f4655cfdbd5]    PyEval_EvalFrameEx                                 + 0x8fb5\n[0x7f4655cfeb49]                                                       + 0x144b49\n[0x7f4655cfecd8]    PyEval_EvalCodeEx                                  + 0x48\n[0x7f4655c54661]                                                       + 0x9a661\n[0x7f4655c21236]    PyObject_Call                                      + 0x56\n[0x7f4655cfb234]    PyEval_EvalFrameEx                                 + 0x6614\n[0x7f4655cfeb49]                                                       + 0x144b49\n[0x7f4655cfddf5]    PyEval_EvalFrameEx                                 + 0x91d5\n[0x7f4655cfeb49]                                                       + 0x144b49\n[0x7f4655cfddf5]    PyEval_EvalFrameEx                                 + 0x91d5\n[0x7f4655cfe166]    PyEval_EvalFrameEx                                 + 0x9546\n[0x7f4655cfeb49]                                                       + 0x144b49\n[0x7f4655cfecd8]    PyEval_EvalCodeEx                                  + 0x48\n[0x7f4655cfed1b]    PyEval_EvalCode                                    + 0x3b\n[0x7f4655cf1dfe]                                                       + 0x137dfe\n[0x7f4655c765e9]    PyCFunction_Call                                   + 0xf9\n[0x7f4655cfdbd5]    PyEval_EvalFrameEx                                 + 0x8fb5\n[0x7f4655cfeb49]                                                       + 0x144b49\n[0x7f4655cfddf5]    PyEval_EvalFrameEx                                 + 0x91d5\n[0x7f4655cfeb49]                                                       + 0x144b49\n[0x7f4655cfddf5]    PyEval_EvalFrameEx                                 + 0x91d5\n[0x7f4655cfeb49]                                                       + 0x144b49\n[0x7f4655cfecd8]    PyEval_EvalCodeEx                                  + 0x48\n[0x7f4655c54661]                                                       + 0x9a661\n[0x7f4655c21236]    PyObject_Call                                      + 0x56\n[0x7f4655cfb234]    PyEval_EvalFrameEx                                 + 0x6614\n[0x7f4655cfeb49]                                                       + 0x144b49\n[0x7f4655cfddf5]    PyEval_EvalFrameEx                                 + 0x91d5\n[0x7f4655cfeb49]                                                       + 0x144b49\n[0x7f4655cfddf5]    PyEval_EvalFrameEx                                 + 0x91d5\n[0x7f4655cfe166]    PyEval_EvalFrameEx                                 + 0x9546 (x2)\n[0x7f4655cfeb49]                                                       + 0x144b49\n[0x7f4655cfecd8]    PyEval_EvalCodeEx                                  + 0x48\n[0x7f4655c54661]                                                       + 0x9a661\n[0x7f4655c21236]    PyObject_Call                                      + 0x56\n[0x7f4655cfb234]    PyEval_EvalFrameEx                                 + 0x6614\n[0x7f4655cfeb49]                                                       + 0x144b49\n[0x7f4655cfecd8]    PyEval_EvalCodeEx                                  + 0x48\n[0x7f4655c54661]                                                       + 0x9a661\n[0x7f4655c21236]    PyObject_Call                                      + 0x56\n[0x7f4655cfb234]    PyEval_EvalFrameEx                                 + 0x6614\n[0x7f4655cfeb49]                                                       + 0x144b49\n[0x7f4655cfddf5]    PyEval_EvalFrameEx                                 + 0x91d5\n[0x7f4655cfe166]    PyEval_EvalFrameEx                                 + 0x9546\n[0x7f4655cfeb49]                                                       + 0x144b49\n[0x7f4655cfecd8]    PyEval_EvalCodeEx                                  + 0x48\n[0x7f4655c54661]                                                       + 0x9a661\n[0x7f4655c21236]    PyObject_Call                                      + 0x56\n[0x7f4655cfb234]    PyEval_EvalFrameEx                                 + 0x6614\n[0x7f4655cfeb49]                                                       + 0x144b49\n[0x7f4655cfddf5]    PyEval_EvalFrameEx                                 + 0x91d5\n[0x7f4655cfe166]    PyEval_EvalFrameEx                                 + 0x9546\n[0x7f4655cfeb49]                                                       + 0x144b49\n[0x7f4655cfddf5]    PyEval_EvalFrameEx                                 + 0x91d5\n[0x7f4655cfe166]    PyEval_EvalFrameEx                                 + 0x9546\n[0x7f4655cfeb49]                                                       + 0x144b49\n[0x7f4655cfddf5]    PyEval_EvalFrameEx                                 + 0x91d5\n[0x7f4655cfeb49]                                                       + 0x144b49\n[0x7f4655cfecd8]    PyEval_EvalCodeEx                                  + 0x48\n[0x7f4655cfed1b]    PyEval_EvalCode                                    + 0x3b\n[0x7f4655cf1dfe]                                                       + 0x137dfe\n[0x7f4655c765e9]    PyCFunction_Call                                   + 0xf9\n[0x7f4655cfdbd5]    PyEval_EvalFrameEx                                 + 0x8fb5\n[0x7f4655cfeb49]                                                       + 0x144b49\n[0x7f4655cfddf5]    PyEval_EvalFrameEx                                 + 0x91d5\n[0x7f4655cfeb49]                                                       + 0x144b49\n[0x7f4655cfecd8]    PyEval_EvalCodeEx                                  + 0x48\n[0x7f4655c54542]                                                       + 0x9a542\n[0x7f4655c21236]    PyObject_Call                                      + 0x56\n[0x7f4655d3f8a2]                                                       + 0x1858a2\n[0x7f4655d40565]    Py_Main                                            + 0x945\n[0x400add]          main                                               + 0x15d\n[0x7f4654cdb830]    __libc_start_main                                  + 0xf0\n[0x4008b9]                                                            \n",
     "output_type": "error",
     "traceback": [
      "\u001b[1;31m---------------------------------------------------------------------------\u001b[0m",
      "\u001b[1;31mValueError\u001b[0m                                Traceback (most recent call last)",
      "\u001b[1;32m<ipython-input-15-52f7fbaa4c5f>\u001b[0m in \u001b[0;36m<module>\u001b[1;34m()\u001b[0m\n\u001b[1;32m----> 1\u001b[1;33m \u001b[0mget_ipython\u001b[0m\u001b[1;33m(\u001b[0m\u001b[1;33m)\u001b[0m\u001b[1;33m.\u001b[0m\u001b[0mrun_cell_magic\u001b[0m\u001b[1;33m(\u001b[0m\u001b[1;34m'time'\u001b[0m\u001b[1;33m,\u001b[0m \u001b[1;34m''\u001b[0m\u001b[1;33m,\u001b[0m \u001b[1;34m'# Train model\\nfor j in range(EPOCHS):\\n    for data, label in yield_mb(x_train, y_train, BATCHSIZE, shuffle=True):\\n        trainer.train_minibatch({features: data, labels: label})\\n    # Log (this is just last batch in epoch, not average of batches)\\n    eval_error = trainer.previous_minibatch_evaluation_average\\n    print(\"Epoch %d  |  Accuracy: %.6f\" % (j+1, (1-eval_error)))'\u001b[0m\u001b[1;33m)\u001b[0m\u001b[1;33m\u001b[0m\u001b[0m\n\u001b[0m",
      "\u001b[1;32m/anaconda/envs/py35/lib/python3.5/site-packages/IPython/core/interactiveshell.py\u001b[0m in \u001b[0;36mrun_cell_magic\u001b[1;34m(self, magic_name, line, cell)\u001b[0m\n\u001b[0;32m   2118\u001b[0m             \u001b[0mmagic_arg_s\u001b[0m \u001b[1;33m=\u001b[0m \u001b[0mself\u001b[0m\u001b[1;33m.\u001b[0m\u001b[0mvar_expand\u001b[0m\u001b[1;33m(\u001b[0m\u001b[0mline\u001b[0m\u001b[1;33m,\u001b[0m \u001b[0mstack_depth\u001b[0m\u001b[1;33m)\u001b[0m\u001b[1;33m\u001b[0m\u001b[0m\n\u001b[0;32m   2119\u001b[0m             \u001b[1;32mwith\u001b[0m \u001b[0mself\u001b[0m\u001b[1;33m.\u001b[0m\u001b[0mbuiltin_trap\u001b[0m\u001b[1;33m:\u001b[0m\u001b[1;33m\u001b[0m\u001b[0m\n\u001b[1;32m-> 2120\u001b[1;33m                 \u001b[0mresult\u001b[0m \u001b[1;33m=\u001b[0m \u001b[0mfn\u001b[0m\u001b[1;33m(\u001b[0m\u001b[0mmagic_arg_s\u001b[0m\u001b[1;33m,\u001b[0m \u001b[0mcell\u001b[0m\u001b[1;33m)\u001b[0m\u001b[1;33m\u001b[0m\u001b[0m\n\u001b[0m\u001b[0;32m   2121\u001b[0m             \u001b[1;32mreturn\u001b[0m \u001b[0mresult\u001b[0m\u001b[1;33m\u001b[0m\u001b[0m\n\u001b[0;32m   2122\u001b[0m \u001b[1;33m\u001b[0m\u001b[0m\n",
      "\u001b[1;32m<decorator-gen-60>\u001b[0m in \u001b[0;36mtime\u001b[1;34m(self, line, cell, local_ns)\u001b[0m\n",
      "\u001b[1;32m/anaconda/envs/py35/lib/python3.5/site-packages/IPython/core/magic.py\u001b[0m in \u001b[0;36m<lambda>\u001b[1;34m(f, *a, **k)\u001b[0m\n\u001b[0;32m    191\u001b[0m     \u001b[1;31m# but it's overkill for just that one bit of state.\u001b[0m\u001b[1;33m\u001b[0m\u001b[1;33m\u001b[0m\u001b[0m\n\u001b[0;32m    192\u001b[0m     \u001b[1;32mdef\u001b[0m \u001b[0mmagic_deco\u001b[0m\u001b[1;33m(\u001b[0m\u001b[0marg\u001b[0m\u001b[1;33m)\u001b[0m\u001b[1;33m:\u001b[0m\u001b[1;33m\u001b[0m\u001b[0m\n\u001b[1;32m--> 193\u001b[1;33m         \u001b[0mcall\u001b[0m \u001b[1;33m=\u001b[0m \u001b[1;32mlambda\u001b[0m \u001b[0mf\u001b[0m\u001b[1;33m,\u001b[0m \u001b[1;33m*\u001b[0m\u001b[0ma\u001b[0m\u001b[1;33m,\u001b[0m \u001b[1;33m**\u001b[0m\u001b[0mk\u001b[0m\u001b[1;33m:\u001b[0m \u001b[0mf\u001b[0m\u001b[1;33m(\u001b[0m\u001b[1;33m*\u001b[0m\u001b[0ma\u001b[0m\u001b[1;33m,\u001b[0m \u001b[1;33m**\u001b[0m\u001b[0mk\u001b[0m\u001b[1;33m)\u001b[0m\u001b[1;33m\u001b[0m\u001b[0m\n\u001b[0m\u001b[0;32m    194\u001b[0m \u001b[1;33m\u001b[0m\u001b[0m\n\u001b[0;32m    195\u001b[0m         \u001b[1;32mif\u001b[0m \u001b[0mcallable\u001b[0m\u001b[1;33m(\u001b[0m\u001b[0marg\u001b[0m\u001b[1;33m)\u001b[0m\u001b[1;33m:\u001b[0m\u001b[1;33m\u001b[0m\u001b[0m\n",
      "\u001b[1;32m/anaconda/envs/py35/lib/python3.5/site-packages/IPython/core/magics/execution.py\u001b[0m in \u001b[0;36mtime\u001b[1;34m(self, line, cell, local_ns)\u001b[0m\n\u001b[0;32m   1175\u001b[0m         \u001b[1;32melse\u001b[0m\u001b[1;33m:\u001b[0m\u001b[1;33m\u001b[0m\u001b[0m\n\u001b[0;32m   1176\u001b[0m             \u001b[0mst\u001b[0m \u001b[1;33m=\u001b[0m \u001b[0mclock2\u001b[0m\u001b[1;33m(\u001b[0m\u001b[1;33m)\u001b[0m\u001b[1;33m\u001b[0m\u001b[0m\n\u001b[1;32m-> 1177\u001b[1;33m             \u001b[0mexec\u001b[0m\u001b[1;33m(\u001b[0m\u001b[0mcode\u001b[0m\u001b[1;33m,\u001b[0m \u001b[0mglob\u001b[0m\u001b[1;33m,\u001b[0m \u001b[0mlocal_ns\u001b[0m\u001b[1;33m)\u001b[0m\u001b[1;33m\u001b[0m\u001b[0m\n\u001b[0m\u001b[0;32m   1178\u001b[0m             \u001b[0mend\u001b[0m \u001b[1;33m=\u001b[0m \u001b[0mclock2\u001b[0m\u001b[1;33m(\u001b[0m\u001b[1;33m)\u001b[0m\u001b[1;33m\u001b[0m\u001b[0m\n\u001b[0;32m   1179\u001b[0m             \u001b[0mout\u001b[0m \u001b[1;33m=\u001b[0m \u001b[1;32mNone\u001b[0m\u001b[1;33m\u001b[0m\u001b[0m\n",
      "\u001b[1;32m<timed exec>\u001b[0m in \u001b[0;36m<module>\u001b[1;34m()\u001b[0m\n",
      "\u001b[1;32m/anaconda/envs/py35/lib/python3.5/site-packages/cntk/train/trainer.py\u001b[0m in \u001b[0;36mtrain_minibatch\u001b[1;34m(self, arguments, outputs, device)\u001b[0m\n\u001b[0;32m    171\u001b[0m             \u001b[1;32melse\u001b[0m\u001b[1;33m:\u001b[0m\u001b[1;33m\u001b[0m\u001b[0m\n\u001b[0;32m    172\u001b[0m                 updated = super(Trainer, self).train_minibatch(arguments,\n\u001b[1;32m--> 173\u001b[1;33m                     device)\n\u001b[0m\u001b[0;32m    174\u001b[0m \u001b[1;33m\u001b[0m\u001b[0m\n\u001b[0;32m    175\u001b[0m         \u001b[1;32mreturn\u001b[0m \u001b[0mupdated\u001b[0m\u001b[1;33m\u001b[0m\u001b[0m\n",
      "\u001b[1;32m/anaconda/envs/py35/lib/python3.5/site-packages/cntk/cntk_py.py\u001b[0m in \u001b[0;36mtrain_minibatch\u001b[1;34m(self, *args)\u001b[0m\n\u001b[0;32m   2767\u001b[0m \u001b[1;33m\u001b[0m\u001b[0m\n\u001b[0;32m   2768\u001b[0m     \u001b[1;32mdef\u001b[0m \u001b[0mtrain_minibatch\u001b[0m\u001b[1;33m(\u001b[0m\u001b[0mself\u001b[0m\u001b[1;33m,\u001b[0m \u001b[1;33m*\u001b[0m\u001b[0margs\u001b[0m\u001b[1;33m)\u001b[0m\u001b[1;33m:\u001b[0m\u001b[1;33m\u001b[0m\u001b[0m\n\u001b[1;32m-> 2769\u001b[1;33m         \u001b[1;32mreturn\u001b[0m \u001b[0m_cntk_py\u001b[0m\u001b[1;33m.\u001b[0m\u001b[0mTrainer_train_minibatch\u001b[0m\u001b[1;33m(\u001b[0m\u001b[0mself\u001b[0m\u001b[1;33m,\u001b[0m \u001b[1;33m*\u001b[0m\u001b[0margs\u001b[0m\u001b[1;33m)\u001b[0m\u001b[1;33m\u001b[0m\u001b[0m\n\u001b[0m\u001b[0;32m   2770\u001b[0m \u001b[1;33m\u001b[0m\u001b[0m\n\u001b[0;32m   2771\u001b[0m     \u001b[1;32mdef\u001b[0m \u001b[0msave_checkpoint\u001b[0m\u001b[1;33m(\u001b[0m\u001b[0mself\u001b[0m\u001b[1;33m,\u001b[0m \u001b[1;33m*\u001b[0m\u001b[0margs\u001b[0m\u001b[1;33m)\u001b[0m\u001b[1;33m:\u001b[0m\u001b[1;33m\u001b[0m\u001b[0m\n",
      "\u001b[1;31mValueError\u001b[0m: The trailing dimensions of the Value shape '[64 x 150]' do not match the Variable 'Input('Input1633', [#, *], [25000])' shape '[25000]'.\n\n[CALL STACK]\n[0x7f4610eb35ec]                                                       + 0x6735ec\n[0x7f4610f8589a]    CNTK::Utils::  VerifyVariableValueCompatibility  (CNTK::Variable const&,  std::shared_ptr<CNTK::Value> const&,  CNTK::NDShape*) + 0xb0a\n[0x7f4610efaf02]    CNTK::CompositeFunction::  InferFreeDimensionsOfArguments  (std::unordered_map<CNTK::Variable,std::shared_ptr<CNTK::Value>,std::hash<CNTK::Variable>,std::equal_to<CNTK::Variable>,std::allocator<std::pair<CNTK::Variable const,std::shared_ptr<CNTK::Value>>>> const&) + 0x142\n[0x7f4610eff88e]    CNTK::CompositeFunction::  Forward  (std::unordered_map<CNTK::Variable,std::shared_ptr<CNTK::Value>,std::hash<CNTK::Variable>,std::equal_to<CNTK::Variable>,std::allocator<std::pair<CNTK::Variable const,std::shared_ptr<CNTK::Value>>>> const&,  std::unordered_map<CNTK::Variable,std::shared_ptr<CNTK::Value>,std::hash<CNTK::Variable>,std::equal_to<CNTK::Variable>,std::allocator<std::pair<CNTK::Variable const,std::shared_ptr<CNTK::Value>>>>&,  CNTK::DeviceDescriptor const&,  std::unordered_set<CNTK::Variable,std::hash<CNTK::Variable>,std::equal_to<CNTK::Variable>,std::allocator<CNTK::Variable>> const&,  std::unordered_set<CNTK::Variable,std::hash<CNTK::Variable>,std::equal_to<CNTK::Variable>,std::allocator<CNTK::Variable>> const&) + 0x46e\n[0x7f4610ebd9f1]    CNTK::Function::  Forward  (std::unordered_map<CNTK::Variable,std::shared_ptr<CNTK::Value>,std::hash<CNTK::Variable>,std::equal_to<CNTK::Variable>,std::allocator<std::pair<CNTK::Variable const,std::shared_ptr<CNTK::Value>>>> const&,  std::unordered_map<CNTK::Variable,std::shared_ptr<CNTK::Value>,std::hash<CNTK::Variable>,std::equal_to<CNTK::Variable>,std::allocator<std::pair<CNTK::Variable const,std::shared_ptr<CNTK::Value>>>>&,  CNTK::DeviceDescriptor const&,  std::unordered_set<CNTK::Variable,std::hash<CNTK::Variable>,std::equal_to<CNTK::Variable>,std::allocator<CNTK::Variable>> const&,  std::unordered_set<CNTK::Variable,std::hash<CNTK::Variable>,std::equal_to<CNTK::Variable>,std::allocator<CNTK::Variable>> const&) + 0x81\n[0x7f4610f7932d]    CNTK::Trainer::  ExecuteForwardBackward  (std::unordered_map<CNTK::Variable,std::shared_ptr<CNTK::Value>,std::hash<CNTK::Variable>,std::equal_to<CNTK::Variable>,std::allocator<std::pair<CNTK::Variable const,std::shared_ptr<CNTK::Value>>>> const&,  std::unordered_map<CNTK::Variable,std::shared_ptr<CNTK::Value>,std::hash<CNTK::Variable>,std::equal_to<CNTK::Variable>,std::allocator<std::pair<CNTK::Variable const,std::shared_ptr<CNTK::Value>>>>&,  CNTK::DeviceDescriptor const&,  std::unordered_map<CNTK::Variable,std::shared_ptr<CNTK::Value>,std::hash<CNTK::Variable>,std::equal_to<CNTK::Variable>,std::allocator<std::pair<CNTK::Variable const,std::shared_ptr<CNTK::Value>>>>&) + 0x24d\n[0x7f4610f79e73]    CNTK::Trainer::  TrainLocalMinibatch  (std::unordered_map<CNTK::Variable,std::shared_ptr<CNTK::Value>,std::hash<CNTK::Variable>,std::equal_to<CNTK::Variable>,std::allocator<std::pair<CNTK::Variable const,std::shared_ptr<CNTK::Value>>>> const&,  std::unordered_map<CNTK::Variable,std::shared_ptr<CNTK::Value>,std::hash<CNTK::Variable>,std::equal_to<CNTK::Variable>,std::allocator<std::pair<CNTK::Variable const,std::shared_ptr<CNTK::Value>>>>&,  bool,  CNTK::DeviceDescriptor const&) + 0xd3\n[0x7f4610f7ab34]    CNTK::Trainer::  TrainMinibatch  (std::unordered_map<CNTK::Variable,std::shared_ptr<CNTK::Value>,std::hash<CNTK::Variable>,std::equal_to<CNTK::Variable>,std::allocator<std::pair<CNTK::Variable const,std::shared_ptr<CNTK::Value>>>> const&,  std::unordered_map<CNTK::Variable,std::shared_ptr<CNTK::Value>,std::hash<CNTK::Variable>,std::equal_to<CNTK::Variable>,std::allocator<std::pair<CNTK::Variable const,std::shared_ptr<CNTK::Value>>>>&,  CNTK::DeviceDescriptor const&) + 0x44\n[0x7f4610f7ac30]    CNTK::Trainer::  TrainMinibatch  (std::unordered_map<CNTK::Variable,std::shared_ptr<CNTK::Value>,std::hash<CNTK::Variable>,std::equal_to<CNTK::Variable>,std::allocator<std::pair<CNTK::Variable const,std::shared_ptr<CNTK::Value>>>> const&,  CNTK::DeviceDescriptor const&) + 0xa0\n[0x7f4611943c9f]                                                       + 0x1efc9f\n[0x7f4655c765e9]    PyCFunction_Call                                   + 0xf9\n[0x7f4655cfb7c0]    PyEval_EvalFrameEx                                 + 0x6ba0\n[0x7f4655cfeb49]                                                       + 0x144b49\n[0x7f4655cfddf5]    PyEval_EvalFrameEx                                 + 0x91d5\n[0x7f4655cfeb49]                                                       + 0x144b49\n[0x7f4655cfddf5]    PyEval_EvalFrameEx                                 + 0x91d5\n[0x7f4655cfeb49]                                                       + 0x144b49\n[0x7f4655cfecd8]    PyEval_EvalCodeEx                                  + 0x48\n[0x7f4655cfed1b]    PyEval_EvalCode                                    + 0x3b\n[0x7f4655cf1dfe]                                                       + 0x137dfe\n[0x7f4655c765e9]    PyCFunction_Call                                   + 0xf9\n[0x7f4655cfdbd5]    PyEval_EvalFrameEx                                 + 0x8fb5\n[0x7f4655cfeb49]                                                       + 0x144b49\n[0x7f4655cfecd8]    PyEval_EvalCodeEx                                  + 0x48\n[0x7f4655c54661]                                                       + 0x9a661\n[0x7f4655c21236]    PyObject_Call                                      + 0x56\n[0x7f4655cfb234]    PyEval_EvalFrameEx                                 + 0x6614\n[0x7f4655cfeb49]                                                       + 0x144b49\n[0x7f4655cfddf5]    PyEval_EvalFrameEx                                 + 0x91d5\n[0x7f4655cfeb49]                                                       + 0x144b49\n[0x7f4655cfddf5]    PyEval_EvalFrameEx                                 + 0x91d5\n[0x7f4655cfe166]    PyEval_EvalFrameEx                                 + 0x9546\n[0x7f4655cfeb49]                                                       + 0x144b49\n[0x7f4655cfecd8]    PyEval_EvalCodeEx                                  + 0x48\n[0x7f4655cfed1b]    PyEval_EvalCode                                    + 0x3b\n[0x7f4655cf1dfe]                                                       + 0x137dfe\n[0x7f4655c765e9]    PyCFunction_Call                                   + 0xf9\n[0x7f4655cfdbd5]    PyEval_EvalFrameEx                                 + 0x8fb5\n[0x7f4655cfeb49]                                                       + 0x144b49\n[0x7f4655cfddf5]    PyEval_EvalFrameEx                                 + 0x91d5\n[0x7f4655cfeb49]                                                       + 0x144b49\n[0x7f4655cfddf5]    PyEval_EvalFrameEx                                 + 0x91d5\n[0x7f4655cfeb49]                                                       + 0x144b49\n[0x7f4655cfecd8]    PyEval_EvalCodeEx                                  + 0x48\n[0x7f4655c54661]                                                       + 0x9a661\n[0x7f4655c21236]    PyObject_Call                                      + 0x56\n[0x7f4655cfb234]    PyEval_EvalFrameEx                                 + 0x6614\n[0x7f4655cfeb49]                                                       + 0x144b49\n[0x7f4655cfddf5]    PyEval_EvalFrameEx                                 + 0x91d5\n[0x7f4655cfeb49]                                                       + 0x144b49\n[0x7f4655cfddf5]    PyEval_EvalFrameEx                                 + 0x91d5\n[0x7f4655cfe166]    PyEval_EvalFrameEx                                 + 0x9546 (x2)\n[0x7f4655cfeb49]                                                       + 0x144b49\n[0x7f4655cfecd8]    PyEval_EvalCodeEx                                  + 0x48\n[0x7f4655c54661]                                                       + 0x9a661\n[0x7f4655c21236]    PyObject_Call                                      + 0x56\n[0x7f4655cfb234]    PyEval_EvalFrameEx                                 + 0x6614\n[0x7f4655cfeb49]                                                       + 0x144b49\n[0x7f4655cfecd8]    PyEval_EvalCodeEx                                  + 0x48\n[0x7f4655c54661]                                                       + 0x9a661\n[0x7f4655c21236]    PyObject_Call                                      + 0x56\n[0x7f4655cfb234]    PyEval_EvalFrameEx                                 + 0x6614\n[0x7f4655cfeb49]                                                       + 0x144b49\n[0x7f4655cfddf5]    PyEval_EvalFrameEx                                 + 0x91d5\n[0x7f4655cfe166]    PyEval_EvalFrameEx                                 + 0x9546\n[0x7f4655cfeb49]                                                       + 0x144b49\n[0x7f4655cfecd8]    PyEval_EvalCodeEx                                  + 0x48\n[0x7f4655c54661]                                                       + 0x9a661\n[0x7f4655c21236]    PyObject_Call                                      + 0x56\n[0x7f4655cfb234]    PyEval_EvalFrameEx                                 + 0x6614\n[0x7f4655cfeb49]                                                       + 0x144b49\n[0x7f4655cfddf5]    PyEval_EvalFrameEx                                 + 0x91d5\n[0x7f4655cfe166]    PyEval_EvalFrameEx                                 + 0x9546\n[0x7f4655cfeb49]                                                       + 0x144b49\n[0x7f4655cfddf5]    PyEval_EvalFrameEx                                 + 0x91d5\n[0x7f4655cfe166]    PyEval_EvalFrameEx                                 + 0x9546\n[0x7f4655cfeb49]                                                       + 0x144b49\n[0x7f4655cfddf5]    PyEval_EvalFrameEx                                 + 0x91d5\n[0x7f4655cfeb49]                                                       + 0x144b49\n[0x7f4655cfecd8]    PyEval_EvalCodeEx                                  + 0x48\n[0x7f4655cfed1b]    PyEval_EvalCode                                    + 0x3b\n[0x7f4655cf1dfe]                                                       + 0x137dfe\n[0x7f4655c765e9]    PyCFunction_Call                                   + 0xf9\n[0x7f4655cfdbd5]    PyEval_EvalFrameEx                                 + 0x8fb5\n[0x7f4655cfeb49]                                                       + 0x144b49\n[0x7f4655cfddf5]    PyEval_EvalFrameEx                                 + 0x91d5\n[0x7f4655cfeb49]                                                       + 0x144b49\n[0x7f4655cfecd8]    PyEval_EvalCodeEx                                  + 0x48\n[0x7f4655c54542]                                                       + 0x9a542\n[0x7f4655c21236]    PyObject_Call                                      + 0x56\n[0x7f4655d3f8a2]                                                       + 0x1858a2\n[0x7f4655d40565]    Py_Main                                            + 0x945\n[0x400add]          main                                               + 0x15d\n[0x7f4654cdb830]    __libc_start_main                                  + 0xf0\n[0x4008b9]                                                            \n"
     ]
    }
   ],
   "source": [
    "%%time\n",
    "# Train model\n",
    "for j in range(EPOCHS):\n",
    "    for data, label in yield_mb(x_train, y_train, BATCHSIZE, shuffle=True):\n",
    "        trainer.train_minibatch({features: data, labels: label})\n",
    "    # Log (this is just last batch in epoch, not average of batches)\n",
    "    eval_error = trainer.previous_minibatch_evaluation_average\n",
    "    print(\"Epoch %d  |  Accuracy: %.6f\" % (j+1, (1-eval_error)))"
   ]
  },
  {
   "cell_type": "code",
   "execution_count": null,
   "metadata": {
    "collapsed": true
   },
   "outputs": [],
   "source": []
  }
 ],
 "metadata": {
  "anaconda-cloud": {},
  "kernelspec": {
   "display_name": "Python 3",
   "language": "python",
   "name": "python3"
  },
  "language_info": {
   "codemirror_mode": {
    "name": "ipython",
    "version": 3
   },
   "file_extension": ".py",
   "mimetype": "text/x-python",
   "name": "python",
   "nbconvert_exporter": "python",
   "pygments_lexer": "ipython3",
   "version": "3.5.2"
  }
 },
 "nbformat": 4,
 "nbformat_minor": 2
}
